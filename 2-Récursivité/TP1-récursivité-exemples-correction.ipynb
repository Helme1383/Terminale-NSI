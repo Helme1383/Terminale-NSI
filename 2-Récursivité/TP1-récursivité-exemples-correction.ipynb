{
 "cells": [
  {
   "cell_type": "markdown",
   "metadata": {},
   "source": [
    "# <div align='center'> TP : Exemples classiques utilisant la récursivité\n",
    "    \n",
    "<br>\n",
    "    \n",
    "<div class = 'alert-info'>\n",
    "                                \n",
    "## Exemple n°1 : \n",
    "On considère **la factorielle** d'un entier positif $n$, que l'on notera $n!$ défini par : $${\\displaystyle {\\begin{cases} 0!=1\\\\\n",
    "n! = n\\times (n-1)\\times (n-2)\\times  ...\\times 2\\times 1\\qquad \\text{pour tout entier }n\\geqslant1\n",
    "\\end{cases}}}$$\n",
    "    </div>\n",
    "    <br>\n",
    "    <div class = 'alert-warning'>\n",
    "1. Programmer de façon itérative, la fonction ``factorielle_iter`` qui prend pour paramètre un entier ``n`` positif et qui renvoie ``n!``"
   ]
  },
  {
   "cell_type": "code",
   "execution_count": 55,
   "metadata": {},
   "outputs": [],
   "source": [
    "def factorielle_iter(n) :\n",
    "    \"\"\"n est un entier positif\n",
    "    Renvoie la factorielle de n \"\"\"\n",
    "    # YOUR CODE HERE\n",
    "    f = 1\n",
    "    for i in range(1,n+1) :\n",
    "        f = f*i\n",
    "    return f\n",
    "    "
   ]
  },
  {
   "cell_type": "code",
   "execution_count": 56,
   "metadata": {},
   "outputs": [],
   "source": [
    "assert factorielle_iter(0) == 1\n",
    "assert factorielle_iter(4) == 24"
   ]
  },
  {
   "cell_type": "markdown",
   "metadata": {},
   "source": [
    "<div class = 'alert-warning'>\n",
    "\n",
    "2. Vérifier que pour tout entier $n\\geqslant 1$, $\\qquad n!=n\\times (n-1)!$."
   ]
  },
  {
   "cell_type": "markdown",
   "metadata": {},
   "source": [
    "**Réponse :** \n",
    "\n",
    "$n\\times (n-1)! = n (n-1)\\times (n-2)\\times  ...\\times 2\\times 1 = n!$"
   ]
  },
  {
   "cell_type": "markdown",
   "metadata": {},
   "source": [
    "<div class = 'alert-warning'>\n",
    "    \n",
    "3. Programmer de façon récursive, la fonction ``factorielle_rec`` qui prend pour paramètre un entier ``n`` positif et qui renvoie ``n!``"
   ]
  },
  {
   "cell_type": "code",
   "execution_count": 57,
   "metadata": {},
   "outputs": [],
   "source": [
    "def factorielle_rec(n) :\n",
    "    \"\"\"n est un entier positif\n",
    "    Renvoie la factorielle de n \"\"\"\n",
    "    # YOUR CODE HERE\n",
    "    if n == 0 :            # Condition d'arrêt (cas de base)\n",
    "        return 1\n",
    "    else :\n",
    "        return n*factorielle_rec(n-1)"
   ]
  },
  {
   "cell_type": "code",
   "execution_count": 58,
   "metadata": {},
   "outputs": [],
   "source": [
    "assert factorielle_rec(0) == 1\n",
    "assert factorielle_rec(4) == 24"
   ]
  },
  {
   "cell_type": "markdown",
   "metadata": {},
   "source": [
    "<div class = 'alert-warning'>\n",
    "    \n",
    "4. Expliquer pourquoi le programme ``factorielle_rec(n)`` se termine.\n",
    "</div>\n",
    "\n",
    "**Réponse :**  la suite des paramètres décroit de 1 à chaque appel récursif de la fonction ``factorielle_iter``, donc le condition d'arrêt est atteinte et le programme se termine."
   ]
  },
  {
   "cell_type": "markdown",
   "metadata": {},
   "source": [
    "<div class = 'alert-warning'>\n",
    "    \n",
    "4. Représenter avec une pile, l'exécution des calculs lors de l'appel de ``factorielle_rec(3)``.\n",
    "  </div>\n",
    "  \n",
    "**Réponse :**  ![](i9.png)"
   ]
  },
  {
   "cell_type": "markdown",
   "metadata": {},
   "source": [
    "<div class = 'alert-warning'>\n",
    "    \n",
    "5. Déterminer la complexité temporelle des fonctions  ``factorielle_iter(n)`` et ``factorielle_rec(n)``\n",
    "  </div>\n",
    "  \n",
    "**Réponse :**   factorielle_iter(n) : une boucle for => Complexité en O(n)\n",
    "\n",
    "\n",
    "factorielle_rec(n) : si on note C(n) le nombre d'opérations élémentaires, alors on a C(n) = 3 + C(n).<br>\n",
    "On a une suite arithmétique de raison 3, donc C(n) = C(0)+ 3n = 2 + 3n = O(n)"
   ]
  },
  {
   "cell_type": "markdown",
   "metadata": {},
   "source": [
    "<div class = 'alert-warning'>\n",
    "    \n",
    "6. Comparer le temps d'exécution de ``factorielle_iter(100)`` et ``factorielle_rec(100)`` à l'aide de la fonction magique de Jupyter ``%%timeit`` en exécutant les cellules ci-dessous.<br>\n",
    "Expliquer les résultats obtenus"
   ]
  },
  {
   "cell_type": "code",
   "execution_count": 15,
   "metadata": {},
   "outputs": [
    {
     "name": "stdout",
     "output_type": "stream",
     "text": [
      "199 µs ± 12.7 µs per loop (mean ± std. dev. of 7 runs, 10000 loops each)\n"
     ]
    }
   ],
   "source": [
    "%%timeit\n",
    "factorielle_iter(500)\n"
   ]
  },
  {
   "cell_type": "code",
   "execution_count": 16,
   "metadata": {},
   "outputs": [
    {
     "name": "stdout",
     "output_type": "stream",
     "text": [
      "357 µs ± 9.09 µs per loop (mean ± std. dev. of 7 runs, 1000 loops each)\n"
     ]
    }
   ],
   "source": [
    "%%timeit\n",
    "factorielle_rec(500)"
   ]
  },
  {
   "cell_type": "markdown",
   "metadata": {},
   "source": [
    "**Réponse :** Bien que l'on ait montré que les deux programmes ait la même complexité temporelle, Python n'est pas bien adapté pour faire de la récursivité, d'où un temps plus long pour le programme récursif."
   ]
  },
  {
   "cell_type": "markdown",
   "metadata": {},
   "source": [
    "<div class = 'alert-warning'>\n",
    "\n",
    "7. Executer les cellules ci-dessous :\n"
   ]
  },
  {
   "cell_type": "code",
   "execution_count": 27,
   "metadata": {},
   "outputs": [
    {
     "data": {
      "text/plain": [
       "41493596034378540855568670930866121709511191949318099176894676576975585651235319500860007652178003420075184635383617118495750871114045907794553402161068339611621037904199177522062663390179682805164719697495968842457728766097103003726111095340241127118833157738815328438929737613021106312930374401485378725446079610290429491049793888120762511625132917004641668962117590203575175488980653577868915285093782469994674699190832093511068363824287063522268544339213775150488588104036818809099292912497141900508938994404715351473154531587441509960174267875087460367974117072368747277143988920683691618503608198459718093784453523958505377611086511162363145920886108557450874513945305436213711898150847192094426374203275029996333784944014775671414680824207499914714878359669720638954670589960178569480263388767112871068004950827400717124819476386401369193544354120312786601434792549959143530120653103406625503231020738351502195103148673612338739395096551462159349015789949944072311004426924838140141455487872738045856023561583204317945953055830693351246890721246151468485308724031267967089113548982733475375756899365176396424781733462510879015743437398920492267098317033932107176343983352444576040476565400414414699479984354554597799386702839428513413188913165695310848513525094006147774047007331406541794428004436691903685469270857271701648011512057452448607968773784803660653009109815639091294110633715621540903800135058671624262333902434166628716521228590274568833504897926869369792878376894841436573866436955075473964882256222183380014600761196859217603234808467455216330411738004331144225926243690558782914907973885758784585739828695390302383837265882427654306437517757897215045071361801730051628424476294227485755627828763498767195281368913583918824499284741591683130334032199946752082914885764345863832313545205075955912062067273296951386122994658607527317884452449865348164169238844889061495850934373442889814884427321817131272533891534506581143823381205875379808605080889761753882896252933633750454549168600267229591225528854584482686655324313011353754812409561237686078007700707939541848907149467377854407528307872988103912945121929864793703451257436445581459757140822705986325165352906584571123585270211933452981105568398809884094980346185078025273038736784042169427237980464304250045030806637032760016341921442805708802430850567892108646977455139539119838636167190300278146380136932482332771595180596193069504237836082620570887209297929797429404576877338319877444685544294800321741056689423710545028870419611915072739000031642014474213323293871618029555614004602867400422885389854650328028428515122296028795741801621823236098320971441047012533067314896153236788734984553949604397050352347766211395914519270422122231426998692087463520980686224354813376194395131942868113486531562228173214976481705381846155326596187530296478601160872263640443922257601926494610916885151013143945574398303192557154162151442469122370519149097861849436150963109933639594561796593396851958605338631176324147066842257192394742531726479559749993283247279807896470753054014194090200609712674753186365525403212757757853930697530056595208207457499471898144453772248207888443335118545601568853708182892895218300139654376947286418776665762815389737340159410543681435437346134244692067070082782423645557450882556670157242752810317141640631410681384330924027281318960884813040665226169552825637183862464944295688859393846726723694199475571320546018263425731029115353532728808182773021596787088437293412117084511580629967697266601663635276959969021502122104954259567278593185516268447100374434620422003535391203738393095420695021486207390653190910821344334251497896284236198571674773848126097443055036250866354720730971298084697196537722779893160200560725058007512407494448163392214398118492748281978655178478547749198714138485042290383954090570842038137277135667703565041081780520695032136233521692740531015340921761834078817735674646749071616600653230438902639786065509005309872435445689315601329942407112295015453771521051942445512795364971214872222193729289159833001742397977592530501318837883494884232222507318816399438935627817102875432588794558857742780390717166381257903798149148445526885871629931014510733215554773264576035916184298708323237568837917135073006026738292294687081030751946020376438138677107333779312582257356435534577162804030480925785909747233413932904072239860005448269296110393640127539539899397420021925268928622564959279136369546983247314494094297494213208716963662812963846191378114609210701033012119934264941666449130310898493535366401831282683112506578386425906537197010907276429330534751297336716929415047870949241778121534979499449732358445130210029720359993576507730563696950539990891252004810120090569633144368179194247963563389102486250773367249399801723451627048850149438343735826440053481474957421328873648479589553843836378275601433377798816126854462406494134416119108952653326761627660221130879211665924379496534838030236064294981985541014311566601739518539426008673198564586684635442730180022292607589767192198367529528365158715521887698317999005853121518691037776676883654291247419826099434535671529412823837612115555686210454583810355154404953718470726363218532775486501811002621331228429860926112159573066023932077476742800909462674322138805290643067711276964013735906251051050623568241317651533030775358975134565147424167401517470720839101869989993279364910892687924739705814152855543965954222603919059265825637344676406359525838966981511983959886603683753042017990328185945569412550519066302854869533377682984600031808093822130038102214387057461181304251961916405970456035183121708151658647356556540532928411748628957082856792300053525846377061280591452035546389932127875906349627837975871352588618213252263577038396202737385324908353680497990085701522483303439525197344653342994652565236096742834550523739733902374261808871799283722285366293439240895762913154442106573609205481842139365893867715542842477275100166734357743093638948444564764377184073874379471007867151070449554657626281566137550730763768080600031844296233977808233311359787577136983012817571625671683287281511937336685789437109097748581222868126824122317272681184975207863453107495331708260153159440253645365524453587952034745213429248916644504804355352281977721981971869054884176896398782704782066126921472548618247859626434279190274503452994769367997217285165465591799471789067885687278574470084289723778234763080740919512966238346427839653865017324665850192144091694630371265581197700774682562035198318782913591013997817303635173764706714383992810291224460848320518983248348855131025539721583184931653670732273172995431750775475634748127320956655431851879586978172491721700865768098908327830838240437737974455342525688712898855513180967012497859454290609627370590659970784172738420721605576789060565167694565490120388165775861939230924362983389549857279874523398090499858467484850399509109398834210424693113617875978611803096108774362764990414655167545507613665725914993376114340243762910290384135888531312591132544849225896007184851169390193985434649415483782338302531368775990005443722332901462568184095998830522521585328599833990336595418932696680163265899358234663247080324020429791357425755498549372896192091650794671997121439832581553945835125648010889886887056882711222628734035772418424803231173027338442220604015609242079569493204943809402465562530303328824165302038006041288444384884189129393985971765670211501611340121169355535864984802941563238279447576315042685734269863116562800932164578165410411899078396210758605145091526528422433647230880469088426412525126584729134059195171754291152622002229756986927959124620964363057052133099216422258437651889193630329851223282950806126200573565554213183555838289318138795940962303792777230344423432341561603558590502324475274502630869831414125396371754413611897269158650716722308083435295578401087236027347001118786146233185439431057058483770474806035004556885020602730222256397630738939985024978155182679916994164145540329909813190506654358156657691529068908186204138444091456355291242064901717436430473455191375922914953282988151808740076733486997695322871450791584448703980405737673555777873593937891577147956023340708456392314170118392555234618119775915673385955919265270624063734277760215846511035368057963320714896942663358570375305829676608224208465464558556667889222627619990263961792637457851652540918756608543859661221944248720424960000000000000000000000000000000000000000000000000000000000000000000000000000000000000000000000000000000000000000000000000000000000000000000000000000000000000000000000000000000000000000000000000000000000000000000000000000000000000000000000000000000000000000000000000000000000000000000000000000000000000000000000000000000000000000000000000000000000000000000000000000000000000000000000000000000000000000000000000000000000000000000000000000000000000000000000000000000000000000000000000000000000000000000000000000000000000000000000000000000000000000000000000000000000000000000000000000000000000000000000000000000000000000000000000000000000000000000000000000000000000000000000000000000000000000000000000000000000000000000000000000000000000000000000000000"
      ]
     },
     "execution_count": 27,
     "metadata": {},
     "output_type": "execute_result"
    }
   ],
   "source": [
    "factorielle_iter(3000)"
   ]
  },
  {
   "cell_type": "code",
   "execution_count": 32,
   "metadata": {},
   "outputs": [
    {
     "ename": "RecursionError",
     "evalue": "maximum recursion depth exceeded in comparison",
     "output_type": "error",
     "traceback": [
      "\u001b[1;31m---------------------------------------------------------------------------\u001b[0m",
      "\u001b[1;31mRecursionError\u001b[0m                            Traceback (most recent call last)",
      "\u001b[1;32m<ipython-input-32-449e17cc24b3>\u001b[0m in \u001b[0;36m<module>\u001b[1;34m\u001b[0m\n\u001b[1;32m----> 1\u001b[1;33m \u001b[0mfactorielle_rec\u001b[0m\u001b[1;33m(\u001b[0m\u001b[1;36m3000\u001b[0m\u001b[1;33m)\u001b[0m\u001b[1;33m\u001b[0m\u001b[1;33m\u001b[0m\u001b[0m\n\u001b[0m",
      "\u001b[1;32m<ipython-input-5-1278f607adb6>\u001b[0m in \u001b[0;36mfactorielle_rec\u001b[1;34m(n)\u001b[0m\n\u001b[0;32m      6\u001b[0m         \u001b[1;32mreturn\u001b[0m \u001b[1;36m1\u001b[0m\u001b[1;33m\u001b[0m\u001b[1;33m\u001b[0m\u001b[0m\n\u001b[0;32m      7\u001b[0m     \u001b[1;32melse\u001b[0m \u001b[1;33m:\u001b[0m\u001b[1;33m\u001b[0m\u001b[1;33m\u001b[0m\u001b[0m\n\u001b[1;32m----> 8\u001b[1;33m         \u001b[1;32mreturn\u001b[0m \u001b[0mn\u001b[0m\u001b[1;33m*\u001b[0m\u001b[0mfactorielle_rec\u001b[0m\u001b[1;33m(\u001b[0m\u001b[0mn\u001b[0m\u001b[1;33m-\u001b[0m\u001b[1;36m1\u001b[0m\u001b[1;33m)\u001b[0m\u001b[1;33m\u001b[0m\u001b[1;33m\u001b[0m\u001b[0m\n\u001b[0m",
      "... last 1 frames repeated, from the frame below ...\n",
      "\u001b[1;32m<ipython-input-5-1278f607adb6>\u001b[0m in \u001b[0;36mfactorielle_rec\u001b[1;34m(n)\u001b[0m\n\u001b[0;32m      6\u001b[0m         \u001b[1;32mreturn\u001b[0m \u001b[1;36m1\u001b[0m\u001b[1;33m\u001b[0m\u001b[1;33m\u001b[0m\u001b[0m\n\u001b[0;32m      7\u001b[0m     \u001b[1;32melse\u001b[0m \u001b[1;33m:\u001b[0m\u001b[1;33m\u001b[0m\u001b[1;33m\u001b[0m\u001b[0m\n\u001b[1;32m----> 8\u001b[1;33m         \u001b[1;32mreturn\u001b[0m \u001b[0mn\u001b[0m\u001b[1;33m*\u001b[0m\u001b[0mfactorielle_rec\u001b[0m\u001b[1;33m(\u001b[0m\u001b[0mn\u001b[0m\u001b[1;33m-\u001b[0m\u001b[1;36m1\u001b[0m\u001b[1;33m)\u001b[0m\u001b[1;33m\u001b[0m\u001b[1;33m\u001b[0m\u001b[0m\n\u001b[0m",
      "\u001b[1;31mRecursionError\u001b[0m: maximum recursion depth exceeded in comparison"
     ]
    }
   ],
   "source": [
    "factorielle_rec(3000)"
   ]
  },
  {
   "cell_type": "markdown",
   "metadata": {},
   "source": [
    "<div class = 'alert-warning'>\n",
    "\n",
    "8 Que constatez-vous ?\n",
    "    \n",
    "</div>\n",
    "\n",
    "**Réponse :** le programme récursif renvoie une erreur de type \"RecursionError\" car Python est limité en nombre d'appels récursifs."
   ]
  },
  {
   "cell_type": "markdown",
   "metadata": {},
   "source": [
    "<div class = 'alert-info'>\n",
    "                                \n",
    "## Exemple n°2 : \n",
    "On considère **la suite de Fibonacci** notée $(F_n)$ définie sur les entiers positifs par : $${\\displaystyle {\\begin{cases} F_0=0, F_1=1\\\\\n",
    "F_n=F_{n-1}+F_{n-2}\\qquad \\text{pour tout entier }n\\geqslant2\n",
    "\\end{cases}}}$$\n",
    "    </div>\n",
    "    <br>\n",
    "    <div class = 'alert-warning'>\n",
    "1. Calculer $F_2$ et $F_3$.\n",
    "  </div>\n",
    "  \n",
    "**Réponse :** $F_2=F_1+F_0= 1+0=1 $ <br>\n",
    "$F_3= F_2+F_1= 1+1=2$"
   ]
  },
  {
   "cell_type": "markdown",
   "metadata": {},
   "source": [
    " <div class = 'alert-warning'>\n",
    "2.a) Programmer de façon itérative, la fonction ``fibo_iter`` qui prend pour paramètre un entier ``n`` positif et qui renvoie le terme général $F_n$ de la suite de Fibonacci."
   ]
  },
  {
   "cell_type": "code",
   "execution_count": 12,
   "metadata": {},
   "outputs": [
    {
     "data": {
      "text/plain": [
       "8"
      ]
     },
     "execution_count": 12,
     "metadata": {},
     "output_type": "execute_result"
    }
   ],
   "source": [
    "def fibo_iter(n) :\n",
    "    \"\"\"n est un entier positif\n",
    "    Renvoie le terme général Fn de la suite de Fibonacci\"\"\"\n",
    "    # YOUR CODE HERE\n",
    "    u = 0     # F0\n",
    "    v = 1     # F1\n",
    "    for i in range(2,n+1) :\n",
    "        w =  v + u    # w stocke F_n, v stocke F_n-1, u stocke F_n-2 \n",
    "        u = v\n",
    "        v = w\n",
    "    return w\n"
   ]
  },
  {
   "cell_type": "markdown",
   "metadata": {},
   "source": [
    "<div class = 'alert-warning'>\n",
    "    \n",
    "2.b) Déterminer la complexité temporelle de la fonction ``fibo_iter(n)``"
   ]
  },
  {
   "cell_type": "code",
   "execution_count": 14,
   "metadata": {},
   "outputs": [],
   "source": [
    "assert fibo_iter(2) == 1\n",
    "assert fibo_iter(3) == 2\n",
    "assert fibo_iter(6) == 8\n"
   ]
  },
  {
   "cell_type": "markdown",
   "metadata": {},
   "source": [
    "<div class = 'alert-warning'>\n",
    "    \n",
    "2. Programmer de façon récursive, la fonction ``fibo_rec`` qui prend pour paramètre un entier ``n`` positif et qui renvoie le terme général $F_n$ de la suite de Fibonacci.\n"
   ]
  },
  {
   "cell_type": "code",
   "execution_count": 3,
   "metadata": {},
   "outputs": [],
   "source": [
    "def fibo_rec(n) :\n",
    "    \"\"\"n est un entier positif\n",
    "    Renvoie le terme général Fn de la suite de Fibonacci\"\"\"\n",
    "    # YOUR CODE HERE\n",
    "    if n == 0 :\n",
    "        return 0     # Condition d'arrêt n°1\n",
    "    elif n == 1 :\n",
    "        return 1     # Condition d'arrêt n°2\n",
    "    else :\n",
    "        return fibo_rec(n-1) + fibo_rec(n-2)\n",
    "    \n",
    "    \n"
   ]
  },
  {
   "cell_type": "code",
   "execution_count": 17,
   "metadata": {},
   "outputs": [],
   "source": [
    "assert fibo_rec(2) == 1\n",
    "assert fibo_rec(3) == 2\n",
    "assert fibo_rec(6) == 8"
   ]
  },
  {
   "cell_type": "markdown",
   "metadata": {},
   "source": [
    "<div class = 'alert-warning'>\n",
    "    \n",
    "3. Représenter l'arbre d'appels de la fonction récursive ``fibo_rec(5)``.\n",
    "    </div>\n",
    "    \n",
    "**Correction :** Dans le schéma, remplacez fib par fibo_rec\n",
    "![](i10.png)"
   ]
  },
  {
   "cell_type": "markdown",
   "metadata": {},
   "source": [
    "<div class = 'alert-warning'>\n",
    "    \n",
    "4. Combien de fois est recalculé $F_2$ ? Quel est l'inconvénient ?\n",
    "    </div>\n",
    "\n",
    "**Réponse :** $F_2$ est recalculé 3 fois. L'inconvénient est que l'on augmente considérablement la complexité temporelle."
   ]
  },
  {
   "cell_type": "markdown",
   "metadata": {},
   "source": [
    "<div class='alert-success'>\n",
    "    \n",
    "**Remarque :** On montre que la complexité temporelle de ``fibo_rec(n)`` est en $O\\left(\\dfrac{1 +\\sqrt 5}{2}\\right)^n$ ; c'est donc une complexité exponentielle.<br>\n",
    "La complexité de la fonction récursive ``fibo_rec(n)`` est donc beaucoup plus importante que celle de  ``fibo_iter(n)`` qui est linéaire.<br>\n",
    "C'est souvent le cas : un programme récursif est en général plus coûteux que son programme itératif correspondant"
   ]
  },
  {
   "cell_type": "markdown",
   "metadata": {},
   "source": [
    "<div class = 'alert-warning'>\n",
    "    \n",
    "5. Exécuter les cellules suivantes qui confirment évidemment la remarque ci-dessus:"
   ]
  },
  {
   "cell_type": "code",
   "execution_count": 61,
   "metadata": {},
   "outputs": [
    {
     "name": "stdout",
     "output_type": "stream",
     "text": [
      "4.13 µs ± 357 ns per loop (mean ± std. dev. of 7 runs, 100000 loops each)\n"
     ]
    }
   ],
   "source": [
    "%%timeit \n",
    "fibo_iter(20)"
   ]
  },
  {
   "cell_type": "code",
   "execution_count": 62,
   "metadata": {},
   "outputs": [
    {
     "name": "stdout",
     "output_type": "stream",
     "text": [
      "10.7 ms ± 1.68 ms per loop (mean ± std. dev. of 7 runs, 100 loops each)\n"
     ]
    }
   ],
   "source": [
    "%%timeit\n",
    "fibo_rec(20)"
   ]
  },
  {
   "cell_type": "markdown",
   "metadata": {},
   "source": [
    "<div class = 'alert-warning'>\n",
    "    \n",
    "6. Pour pallier à cet inconvénient de termes recalculés inutilement, on utilise la technique de mémoïsation qui consiste à stocker les valeurs de $F_n$ dans un tableau ``tab`` au fur et à mesure qu'elles sont calculées.<br>\n",
    "Plus précisément, chaque élément de ``tab`` est un couple tel que :<br>\n",
    "    ``tab[n][0]`` : représente la valeur de $F_n$;<br>\n",
    "    ``tab[n][1]`` : vaut False si $F_n$ n'a pas encore été calculé, True si $F_n$ a été calculé.<br>\n",
    "    \n",
    "Compléter la fonction récursive ``fibo_rec_memo`` en renvoyant le nombre de Fibonacci $F_n$ en utilisant la technique de mémoïsation.\n",
    "    "
   ]
  },
  {
   "cell_type": "code",
   "execution_count": 63,
   "metadata": {},
   "outputs": [],
   "source": [
    "def fibo_rec_memo(n):\n",
    "    \"\"\" n est un entier positif\n",
    "    Renvoie le nombre de Fibonacci $F_n$ en utilisant la technique de mémoïsation\"\"\"\n",
    "    tab = [(None,False)]*(n+1)    # On initialise tab, tableau à n+1 éléments\n",
    "    if tab[n][1] == True :    # Valeur de F_n déjà calculée \n",
    "        return tab[n][0]\n",
    "    else  :                  # tab[n][1] == False  \n",
    "        if n == 0 :\n",
    "            tab[n] = 0, True \n",
    "            return 0\n",
    "        elif n == 1 :\n",
    "            tab[n] = 1, True\n",
    "            return 1\n",
    "        else :               # n est supérieur ou égal à 2 \n",
    "            tab[n] = fibo_rec_memo(n-1) + fibo_rec_memo(n-2), True \n",
    "            return fibo_rec_memo(n-1) + fibo_rec_memo(n-2)\n"
   ]
  },
  {
   "cell_type": "markdown",
   "metadata": {},
   "source": [
    "<div class = 'alert-warning'>\n",
    "    \n",
    "7. Exécuter la cellule suivante et comparer avec le temps d'exécution de ``fibo_iter(10)``"
   ]
  },
  {
   "cell_type": "code",
   "execution_count": 60,
   "metadata": {},
   "outputs": [
    {
     "name": "stdout",
     "output_type": "stream",
     "text": [
      "16.1 ms ± 3.32 ms per loop (mean ± std. dev. of 7 runs, 100 loops each)\n"
     ]
    }
   ],
   "source": [
    "%%timeit\n",
    "fibo_rec_memo(10)"
   ]
  },
  {
   "cell_type": "code",
   "execution_count": 54,
   "metadata": {},
   "outputs": [
    {
     "name": "stdout",
     "output_type": "stream",
     "text": [
      "2.53 µs ± 203 ns per loop (mean ± std. dev. of 7 runs, 100000 loops each)\n"
     ]
    }
   ],
   "source": [
    "%%timeit\n",
    "fibo_iter(10)"
   ]
  },
  {
   "cell_type": "markdown",
   "metadata": {},
   "source": [
    "**Réponse :** On constate alors que le temps mis par cette nouvelle fonction récursive bien que ne faisant pas de calculs inutiles, n'améliore pas forcément le temps d'exécution.<br>\n",
    "Python n'est vraiment pas adapté pour la récursivité."
   ]
  },
  {
   "cell_type": "code",
   "execution_count": null,
   "metadata": {},
   "outputs": [],
   "source": []
  }
 ],
 "metadata": {
  "kernelspec": {
   "display_name": "Python 3",
   "language": "python",
   "name": "python3"
  },
  "language_info": {
   "codemirror_mode": {
    "name": "ipython",
    "version": 3
   },
   "file_extension": ".py",
   "mimetype": "text/x-python",
   "name": "python",
   "nbconvert_exporter": "python",
   "pygments_lexer": "ipython3",
   "version": "3.8.3"
  }
 },
 "nbformat": 4,
 "nbformat_minor": 4
}
