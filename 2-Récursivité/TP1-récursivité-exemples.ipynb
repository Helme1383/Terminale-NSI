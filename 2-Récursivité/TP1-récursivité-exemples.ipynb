{
 "cells": [
  {
   "cell_type": "markdown",
   "metadata": {},
   "source": [
    "# <div align='center'> TP : Exemples classiques utilisant la récursivité\n",
    "    \n",
    "<br>\n",
    "    \n",
    "<div class = 'alert-info'>\n",
    "                                \n",
    "## Exemple n°1 : \n",
    "On considère **la factorielle** d'un entier positif $n$, que l'on notera $n!$ défini par : $${\\displaystyle {\\begin{cases} 0!=1\\\\\n",
    "n! = n\\times (n-1)\\times (n-2)\\times  ...\\times 2\\times 1\\qquad \\text{pour tout entier }n\\geqslant1\n",
    "\\end{cases}}}$$\n",
    "    </div>\n",
    "    <br>\n",
    "    <div class = 'alert-warning'>\n",
    "1. Programmer de façon itérative, la fonction ``factorielle_iter`` qui prend pour paramètre un entier ``n`` positif et qui renvoie ``n!``"
   ]
  },
  {
   "cell_type": "code",
   "execution_count": null,
   "metadata": {},
   "outputs": [],
   "source": [
    "def factorielle_iter(n) :\n",
    "    \"\"\"n est un entier positif\n",
    "    Renvoie la factorielle de n \"\"\"\n",
    "    # YOUR CODE HERE\n",
    "    "
   ]
  },
  {
   "cell_type": "code",
   "execution_count": null,
   "metadata": {},
   "outputs": [],
   "source": [
    "assert factorielle_iter(0) == 1\n",
    "assert factorielle_iter(4) == 24"
   ]
  },
  {
   "cell_type": "markdown",
   "metadata": {},
   "source": [
    "<div class = 'alert-warning'>\n",
    "\n",
    "2. Vérifier que pour tout entier $n\\geqslant 1$, $\\qquad n!=n\\times (n-1)!$."
   ]
  },
  {
   "cell_type": "markdown",
   "metadata": {},
   "source": [
    "**Réponse :** \n",
    "\n"
   ]
  },
  {
   "cell_type": "markdown",
   "metadata": {},
   "source": [
    "<div class = 'alert-warning'>\n",
    "    \n",
    "3. Programmer de façon récursive, la fonction ``factorielle_rec`` qui prend pour paramètre un entier ``n`` positif et qui renvoie ``n!``"
   ]
  },
  {
   "cell_type": "code",
   "execution_count": null,
   "metadata": {},
   "outputs": [],
   "source": [
    "def factorielle_rec(n) :\n",
    "    \"\"\"n est un entier positif\n",
    "    Renvoie la factorielle de n \"\"\"\n",
    "    # YOUR CODE HERE\n",
    "    "
   ]
  },
  {
   "cell_type": "code",
   "execution_count": null,
   "metadata": {},
   "outputs": [],
   "source": [
    "assert factorielle_rec(0) == 1\n",
    "assert factorielle_rec(4) == 24"
   ]
  },
  {
   "cell_type": "markdown",
   "metadata": {},
   "source": [
    "<div class = 'alert-warning'>\n",
    "    \n",
    "4. Expliquer pourquoi le programme ``factorielle_rec(n)`` se termine.\n",
    "</div>\n",
    "\n",
    "**Réponse :**  "
   ]
  },
  {
   "cell_type": "markdown",
   "metadata": {},
   "source": [
    "<div class = 'alert-warning'>\n",
    "    \n",
    "4. Représenter avec une pile, l'exécution des calculs lors de l'appel de ``factorielle_rec(3)``.\n",
    "  </div>\n",
    "  \n",
    "**Réponse :**  "
   ]
  },
  {
   "cell_type": "markdown",
   "metadata": {},
   "source": [
    "<div class = 'alert-warning'>\n",
    "    \n",
    "5. Déterminer la complexité temporelle des fonctions  ``factorielle_iter(n)`` et ``factorielle_rec(n)``\n",
    "  </div>\n",
    "  \n",
    "**Réponse :**  "
   ]
  },
  {
   "cell_type": "markdown",
   "metadata": {},
   "source": [
    "<div class = 'alert-warning'>\n",
    "    \n",
    "6. Comparer le temps d'exécution de ``factorielle_iter(100)`` et ``factorielle_rec(100)`` à l'aide de la fonction magique de Jupyter ``%%timeit`` en exécutant les cellules ci-dessous.<br>\n",
    "Expliquer les résultats obtenus"
   ]
  },
  {
   "cell_type": "code",
   "execution_count": null,
   "metadata": {},
   "outputs": [],
   "source": [
    "\n"
   ]
  },
  {
   "cell_type": "code",
   "execution_count": null,
   "metadata": {},
   "outputs": [],
   "source": []
  },
  {
   "cell_type": "markdown",
   "metadata": {},
   "source": [
    "**Réponse :** Bien que l'on ait montré que les deux programmes ait la même complexité temporelle, Python n'est pas bien adapté pour faire de la récursivité, d'où un temps plus long pour le programme récursif."
   ]
  },
  {
   "cell_type": "markdown",
   "metadata": {},
   "source": [
    "<div class = 'alert-warning'>\n",
    "\n",
    "7. Executer les cellules ci-dessous :\n"
   ]
  },
  {
   "cell_type": "code",
   "execution_count": null,
   "metadata": {},
   "outputs": [],
   "source": [
    "factorielle_iter(3000)"
   ]
  },
  {
   "cell_type": "code",
   "execution_count": null,
   "metadata": {},
   "outputs": [],
   "source": [
    "factorielle_rec(3000)"
   ]
  },
  {
   "cell_type": "markdown",
   "metadata": {},
   "source": [
    "<div class = 'alert-warning'>\n",
    "\n",
    "8 Que constatez-vous ?\n",
    "    \n",
    "</div>\n",
    "\n",
    "**Réponse :** "
   ]
  },
  {
   "cell_type": "markdown",
   "metadata": {},
   "source": [
    "<div class = 'alert-info'>\n",
    "                                \n",
    "## Exemple n°2 : \n",
    "On considère **la suite de Fibonacci** notée $(F_n)$ définie sur les entiers positifs par : $${\\displaystyle {\\begin{cases} F_0=0, F_1=1\\\\\n",
    "F_n=F_{n-1}+F_{n-2}\\qquad \\text{pour tout entier }n\\geqslant2\n",
    "\\end{cases}}}$$\n",
    "    </div>\n",
    "    <br>\n",
    "    <div class = 'alert-warning'>\n",
    "1. Calculer $F_2$ et $F_3$.\n",
    "  </div>\n",
    "  \n",
    "**Réponse :**"
   ]
  },
  {
   "cell_type": "markdown",
   "metadata": {},
   "source": [
    " <div class = 'alert-warning'>\n",
    "2.a) Programmer de façon itérative, la fonction ``fibo_iter`` qui prend pour paramètre un entier ``n`` positif et qui renvoie le terme général $F_n$ de la suite de Fibonacci."
   ]
  },
  {
   "cell_type": "code",
   "execution_count": null,
   "metadata": {},
   "outputs": [],
   "source": [
    "def fibo_iter(n) :\n",
    "    \"\"\"n est un entier positif\n",
    "    Renvoie le terme général Fn de la suite de Fibonacci\"\"\"\n",
    "    # YOUR CODE HERE\n",
    "    \n"
   ]
  },
  {
   "cell_type": "markdown",
   "metadata": {},
   "source": [
    "<div class = 'alert-warning'>\n",
    "    \n",
    "2.b) Déterminer la complexité temporelle de la fonction ``fibo_iter(n)``"
   ]
  },
  {
   "cell_type": "code",
   "execution_count": null,
   "metadata": {},
   "outputs": [],
   "source": [
    "assert fibo_iter(2) == 1\n",
    "assert fibo_iter(3) == 2\n",
    "assert fibo_iter(6) == 8\n"
   ]
  },
  {
   "cell_type": "markdown",
   "metadata": {},
   "source": [
    "<div class = 'alert-warning'>\n",
    "    \n",
    "2. Programmer de façon récursive, la fonction ``fibo_rec`` qui prend pour paramètre un entier ``n`` positif et qui renvoie le terme général $F_n$ de la suite de Fibonacci.\n"
   ]
  },
  {
   "cell_type": "code",
   "execution_count": null,
   "metadata": {},
   "outputs": [],
   "source": [
    "def fibo_rec(n) :\n",
    "    \"\"\"n est un entier positif\n",
    "    Renvoie le terme général Fn de la suite de Fibonacci\"\"\"\n",
    "    # YOUR CODE HERE\n",
    "    \n",
    "    \n"
   ]
  },
  {
   "cell_type": "code",
   "execution_count": null,
   "metadata": {},
   "outputs": [],
   "source": [
    "assert fibo_rec(2) == 1\n",
    "assert fibo_rec(3) == 2\n",
    "assert fibo_rec(6) == 8"
   ]
  },
  {
   "cell_type": "markdown",
   "metadata": {},
   "source": [
    "<div class = 'alert-warning'>\n",
    "    \n",
    "3. Représenter l'arbre d'appels de la fonction récursive ``fibo_rec(5)``.\n",
    "    </div>\n",
    "    \n"
   ]
  },
  {
   "cell_type": "markdown",
   "metadata": {},
   "source": [
    "<div class = 'alert-warning'>\n",
    "    \n",
    "4. Combien de fois est recalculé $F_2$ ? Quel est l'inconvénient ?\n",
    "    </div>\n",
    "\n",
    "**Réponse :** "
   ]
  },
  {
   "cell_type": "markdown",
   "metadata": {},
   "source": [
    "<div class='alert-success'>\n",
    "    \n",
    "**Remarque :** On montre que la complexité temporelle de ``fibo_rec(n)`` est en $O\\left(\\dfrac{1 +\\sqrt 5}{2}\\right)^n$ ; c'est donc une complexité exponentielle.<br>\n",
    "La complexité de la fonction récursive ``fibo_rec(n)`` est donc beaucoup plus importante que celle de  ``fibo_iter(n)`` qui est linéaire.<br>\n",
    "C'est souvent le cas : un programme récursif est en général plus coûteux que son programme itératif correspondant"
   ]
  },
  {
   "cell_type": "markdown",
   "metadata": {},
   "source": [
    "<div class = 'alert-warning'>\n",
    "    \n",
    "5. Exécuter les cellules suivantes qui confirment évidemment la remarque ci-dessus:"
   ]
  },
  {
   "cell_type": "code",
   "execution_count": null,
   "metadata": {},
   "outputs": [],
   "source": [
    "%%timeit \n",
    "fibo_iter(20)"
   ]
  },
  {
   "cell_type": "code",
   "execution_count": null,
   "metadata": {},
   "outputs": [],
   "source": [
    "%%timeit\n",
    "fibo_rec(20)"
   ]
  },
  {
   "cell_type": "markdown",
   "metadata": {},
   "source": [
    "<div class = 'alert-warning'>\n",
    "    \n",
    "6. Pour pallier à cet inconvénient de termes recalculés inutilement, on utilise la technique de mémoïsation qui consiste à stocker les valeurs de $F_n$ dans un tableau ``tab`` au fur et à mesure qu'elles sont calculées.<br>\n",
    "Plus précisément, chaque élément de ``tab`` est un couple tel que :<br>\n",
    "    ``tab[n][0]`` : représente la valeur de $F_n$;<br>\n",
    "    ``tab[n][1]`` : vaut False si $F_n$ n'a pas encore été calculé, True si $F_n$ a été calculé.<br>\n",
    "    \n",
    "Compléter la fonction récursive ``fibo_rec_memo`` en renvoyant le nombre de Fibonacci $F_n$ en utilisant la technique de mémoïsation.\n",
    "    "
   ]
  },
  {
   "cell_type": "code",
   "execution_count": null,
   "metadata": {},
   "outputs": [],
   "source": [
    "def fibo_rec_memo(n):\n",
    "    \"\"\" n est un entier positif\n",
    "    Renvoie le nombre de Fibonacci $F_n$ en utilisant la technique de mémoïsation\"\"\"\n",
    "    tab = [(None,False)]*(n+1)    # On initialise tab, tableau à n+1 éléments\n",
    "    if tab[n][1] == True :    # Valeur de F_n déjà calculée \n",
    "        return .......\n",
    "    else  :                  # tab[n][1] == False  \n",
    "        if n == 0 :\n",
    "            tab[n] = .......\n",
    "            return .......\n",
    "        elif n == 1 :\n",
    "            tab[n] = .......\n",
    "            return .......\n",
    "        else :               #  n supérieur ou égal à 2\n",
    "            tab[n] = .......\n",
    "            return .......\n"
   ]
  },
  {
   "cell_type": "markdown",
   "metadata": {},
   "source": [
    "<div class = 'alert-warning'>\n",
    "    \n",
    "7. Exécuter la cellule suivante et comparer avec le temps d'exécution de ``fibo_iter(10)``"
   ]
  },
  {
   "cell_type": "code",
   "execution_count": null,
   "metadata": {},
   "outputs": [],
   "source": [
    "%%timeit\n",
    "fibo_rec_memo(10)"
   ]
  },
  {
   "cell_type": "code",
   "execution_count": null,
   "metadata": {},
   "outputs": [],
   "source": [
    "%%timeit\n",
    "fibo_iter(10)"
   ]
  },
  {
   "cell_type": "markdown",
   "metadata": {},
   "source": [
    "**Réponse :** On constate alors que le temps mis par cette nouvelle fonction récursive bien que ne faisant pas de calculs inutiles, n'améliore pas forcément le temps d'exécution.<br>\n",
    "Python n'est vraiment pas adapté pour la récursivité."
   ]
  }
 ],
 "metadata": {
  "kernelspec": {
   "display_name": "Python 3",
   "language": "python",
   "name": "python3"
  },
  "language_info": {
   "codemirror_mode": {
    "name": "ipython",
    "version": 3
   },
   "file_extension": ".py",
   "mimetype": "text/x-python",
   "name": "python",
   "nbconvert_exporter": "python",
   "pygments_lexer": "ipython3",
   "version": "3.8.3"
  }
 },
 "nbformat": 4,
 "nbformat_minor": 4
}
