{
 "cells": [
  {
   "cell_type": "markdown",
   "metadata": {},
   "source": [
    "# <div align ='center'> TP : Le problème des tours de Hanoï \n",
    " \n",
    "    \n",
    "<div class='alert-info'>\n",
    "    \n",
    "On a commencé à programmer la fonction  ``hanoi(tour,n,a,b,c)``qui admet comme argument :\n",
    "- ``tour`` : le tableau constitués de 3 sous tableaux ``tour[0]``, ``tour[1]`` et ``tour[2]`` contenant les disques des tours de départ, intermédiaire et d'arrivée;\n",
    "- ``n`` le nombre de disques;\n",
    "- ``a`` la tour de départ, ``b`` la tour intermédiaire et ``c`` la tour d'arrivée.\n",
    "\n",
    "![](i14.png)\n",
    "    \n",
    "Dans l'exemple précédent, la fonction ``hanoi(tour, 4,0,1,2)`` doit renvoyer ``[[],[],[4,3,2,1]]``.<br>\n",
    "De plus, le programme affichera, étape par étape, le tableau ``tour``.\n",
    "    <\\div>\n",
    "    <br>  \n",
    "<br>     \n",
    "<div class='alert-warning'>\n",
    "    \n",
    "1. Compléter les pointillés  en tenant compte des commentaires."
   ]
  },
  {
   "cell_type": "code",
   "execution_count": null,
   "metadata": {},
   "outputs": [],
   "source": [
    "def hanoi(tour,n,a = 0, b = 1, c = 2) :\n",
    "    # tour de départ : a représentée par la valeur 0\n",
    "    # tour intermédiaire : b représentée par la valeur 1\n",
    "    # tour finale :  c représentée par la valeur 2\n",
    "    \n",
    "    if n == 1 :   # un seul disque à déplacer\n",
    "        .........\n",
    "        .........       \n",
    "        \n",
    "        print(tour)           # affichage du tableau tour étape par étape\n",
    "        \n",
    "    else :\n",
    "        # déplacer n-1 disques de la tour a à la tour b\n",
    "        # tour de départ : .....\n",
    "        # tour intermédiaire : .....\n",
    "        # tour finale : .....\n",
    "        \n",
    "        .........\n",
    "        \n",
    "        \n",
    "        # déplacer le disque restant de la tour a vers la tour c\n",
    "        \n",
    "        .........\n",
    "        .........\n",
    "        \n",
    "        \n",
    "        # déplacer ....\n",
    "        # tour de départ : .....\n",
    "        # tour intermédiaire : .....\n",
    "        # tour finale : .....\n",
    "        \n",
    "        .........\n",
    "        .........             # affichage du tableau tour étape par étape\n",
    "    \n",
    "    return ....\n",
    "        \n",
    "        \n",
    "        \n",
    "        \n",
    "        \n",
    "        \n",
    "        \n",
    "    "
   ]
  },
  {
   "cell_type": "code",
   "execution_count": null,
   "metadata": {},
   "outputs": [],
   "source": [
    "assert hanoi(tour, 4,0,1,2) == [[],[],[4,3,2,1]]"
   ]
  },
  {
   "cell_type": "markdown",
   "metadata": {},
   "source": [
    "<div class='alert-warning'>\n",
    "\n",
    "2. Exécuter ce programme pour 6 tours."
   ]
  },
  {
   "cell_type": "code",
   "execution_count": null,
   "metadata": {},
   "outputs": [],
   "source": []
  },
  {
   "cell_type": "code",
   "execution_count": null,
   "metadata": {},
   "outputs": [],
   "source": []
  },
  {
   "cell_type": "code",
   "execution_count": null,
   "metadata": {},
   "outputs": [],
   "source": []
  }
 ],
 "metadata": {
  "kernelspec": {
   "display_name": "Python 3",
   "language": "python",
   "name": "python3"
  },
  "language_info": {
   "codemirror_mode": {
    "name": "ipython",
    "version": 3
   },
   "file_extension": ".py",
   "mimetype": "text/x-python",
   "name": "python",
   "nbconvert_exporter": "python",
   "pygments_lexer": "ipython3",
   "version": "3.8.3"
  }
 },
 "nbformat": 4,
 "nbformat_minor": 4
}
