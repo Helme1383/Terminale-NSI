{
 "cells": [
  {
   "cell_type": "markdown",
   "metadata": {},
   "source": [
    "# <div align='center'>TP mini projet : le flocon de Von Koch\n",
    "</div>\n",
    "\n",
    "<div class ='alert-danger'>\n",
    "    \n",
    "**N.B. :** A rendre  dans votre collection Pearltrees \"Devoirs Terminale NSI\"  pour le **mercredi 30/09/2020.**<br>\n",
    "Vous pouvez travailler en binôme en précisant dans le titre les deux noms et prénoms.\n",
    "    </div>\n",
    "    \n",
    "    \n",
    "<div class='alert-info'>\n",
    "    \n",
    "### Introduction :\n",
    "Le  flocon  de  Koch  est  l'une  des  premières courbes  fractales  à  avoir  été  décrite  (bien avant l'invention du terme \"fractal(e)\" par Mandelbrot).<br>\n",
    "Elle a été inventée en 1904 par le mathématicien suédois Helge von Koch.<br>\n",
    "\n",
    "\n",
    "    \n",
    "![](i17.png)\n",
    "![](i18.png)\n",
    "<br>\n",
    "</div>\n",
    "\n",
    "Vous pouvez visionner la vidéo ci-dessous traitant ce sujet :"
   ]
  },
  {
   "cell_type": "code",
   "execution_count": 1,
   "metadata": {},
   "outputs": [
    {
     "data": {
      "text/html": [
       "<div align='center'>\n",
       "<iframe width=\"560\" height=\"315\" src=\"https://www.youtube.com/embed/PW_Pka9iBko\" frameborder=\"0\" allow=\"accelerometer; autoplay; clipboard-write; encrypted-media; gyroscope; picture-in-picture\" allowfullscreen></iframe>\n"
      ],
      "text/plain": [
       "<IPython.core.display.HTML object>"
      ]
     },
     "metadata": {},
     "output_type": "display_data"
    }
   ],
   "source": [
    "%%html\n",
    "<div align='center'>\n",
    "<iframe width=\"560\" height=\"315\" src=\"https://www.youtube.com/embed/PW_Pka9iBko\" frameborder=\"0\" allow=\"accelerometer; autoplay; clipboard-write; encrypted-media; gyroscope; picture-in-picture\" allowfullscreen></iframe>"
   ]
  },
  {
   "cell_type": "markdown",
   "metadata": {},
   "source": [
    "<div class='alert-info'>\n",
    "    \n",
    "On va utiliser le module ``turtle`` de Python pour réaliser la fractale du flocon de Von Koch.<br>\n",
    "Pour revoir les principales commandes du module ``turtle``, vous pouvez lire la documentation [ici](https://fr.wikibooks.org/wiki/Programmation_Python/Turtle).\n",
    "    </div>\n",
    "\n",
    "On propose le programme récursif suivant :"
   ]
  },
  {
   "cell_type": "code",
   "execution_count": 3,
   "metadata": {},
   "outputs": [],
   "source": [
    "import turtle as t\n",
    "\n",
    "def koch(longueur, n):\n",
    "    if n == 0:\n",
    "        t.forward(longueur)\n",
    "    else:\n",
    "        koch(longueur/3, n-1)\n",
    "        t.left(60)\n",
    "        koch(longueur/3, n-1)\n",
    "        t.right(120)\n",
    "        koch(longueur/3, n-1)\n",
    "        t.left(60)\n",
    "        koch(longueur/3, n-1)\n",
    "    return\n",
    "    \n",
    "    \n",
    "    \n"
   ]
  },
  {
   "cell_type": "markdown",
   "metadata": {},
   "source": [
    "<div class='alert-warning'>\n",
    "\n",
    "1. Visualiser les dessins correspondants aux appels de ``koch(100,1)``, ``koch(100,2)`` puis ``koch(100,3)``"
   ]
  },
  {
   "cell_type": "markdown",
   "metadata": {},
   "source": [
    "<div class='alert-warning'>\n",
    "\n",
    "2. Expliquer à l'aide d'une pile d'exécution le déroulement du programme lors de l'appel``koch(100,1)`` puis lors de l'appel ``koch(100,2)``."
   ]
  },
  {
   "cell_type": "markdown",
   "metadata": {},
   "source": [
    "<div class='alert-warning'>\n",
    "\n",
    "3. En utilisant la fonction ``koch`` précédente, réaliser la fonction ``flocon(longueur,n)`` de paramètre la longueur du segment initial et ``n`` le nombre de répétitions du procédé de construction de Koch.\n",
    "\n",
    "Par exemple ``flocon(100,4)`` renverra la figure ci-dessous :\n",
    "![](i19.png)\n",
    "    <br>"
   ]
  },
  {
   "cell_type": "code",
   "execution_count": 4,
   "metadata": {},
   "outputs": [],
   "source": []
  },
  {
   "cell_type": "code",
   "execution_count": null,
   "metadata": {},
   "outputs": [],
   "source": []
  }
 ],
 "metadata": {
  "kernelspec": {
   "display_name": "Python 3",
   "language": "python",
   "name": "python3"
  },
  "language_info": {
   "codemirror_mode": {
    "name": "ipython",
    "version": 3
   },
   "file_extension": ".py",
   "mimetype": "text/x-python",
   "name": "python",
   "nbconvert_exporter": "python",
   "pygments_lexer": "ipython3",
   "version": "3.8.3"
  }
 },
 "nbformat": 4,
 "nbformat_minor": 4
}
