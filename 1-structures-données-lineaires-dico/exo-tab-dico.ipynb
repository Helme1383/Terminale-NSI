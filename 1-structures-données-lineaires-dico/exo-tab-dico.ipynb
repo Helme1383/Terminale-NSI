{
 "cells": [
  {
   "cell_type": "markdown",
   "metadata": {},
   "source": [
    "# <div align='center'>  Exercices : Tableaux et dictionnaires\n",
    "\n",
    "\n"
   ]
  },
  {
   "cell_type": "markdown",
   "metadata": {},
   "source": [
    "<div class='alert-info'>\n",
    "\n",
    "## Exercice 1\n",
    "    \n",
    "    Un fabricant décide de créer des tee-shirts dont la taille peut-être : XS, S, M, L, XL, XXL.\n",
    "    A chaque taille son prix; il adopte le principe suivant :\n",
    "    - 8 euros pour la taille XS\n",
    "    - et il ajoute 2 euros en passant à la taille supérieure jusqu'au XXL.\n",
    "    \n",
    "1. Implémenter en Python ces informations dans la structure de données la mieux adaptée."
   ]
  },
  {
   "cell_type": "code",
   "execution_count": 2,
   "metadata": {},
   "outputs": [],
   "source": [
    "# YOUR CODE HERE\n"
   ]
  },
  {
   "cell_type": "markdown",
   "metadata": {},
   "source": [
    "Ce même fabricant décide de changer sa façon de fixer le prix de revente des tee-shirt.<br>\n",
    "Ceux dont la taille est XS sont toujours à 8 euros, mais cette fois-ci pour passer à la taille suivante, il faut ajouter au prix de la taille inférieure la moitié de sa racine carrée.\n",
    "    \n",
    "Par exemple, pour obtenir le prix des tailles S, il fait :   $8+\\frac{\\sqrt 8}{2}\\simeq 9,41$\n",
    "<br>\n",
    "<br>\n",
    "<div class='alert-info'>\n",
    "\n",
    "2. Proposer un programme Python qui automatise ces calculs et les enregistre dans une structure de données adaptée.<br>\n",
    "On pourra utiliser la fonction ``round(x,n)`` qui arrondi un flottant ``x`` à ``n`` après la virgule.\n",
    "    "
   ]
  },
  {
   "cell_type": "code",
   "execution_count": 1,
   "metadata": {},
   "outputs": [],
   "source": [
    "# YOUR CODE HERE\n"
   ]
  },
  {
   "cell_type": "markdown",
   "metadata": {},
   "source": [
    "<div class='alert-info'>\n",
    "    \n",
    "## Exercice 2\n",
    "    \n",
    "    On considère une expression arithmétique exp de type str contenant des opérandes (nombres que l'on prendra ici entiers positifs) et des opérateurs binaires élémentaires (+, -, *, et /).\n",
    "    Chaque opérande et opérateur sera séparé par un espace.\n",
    "    \n",
    "Ecrire en Python une fonction ``separe(exp)`` qui prend en argument une expression arithmétique ``exp`` de type ``str`` et qui renvoie deux tableaux : le premier, nommé ``operandes``, contenant les operandes de ``exp`` et la seconde, nommé ``operateurs``, contenant les opérateurs de ``exp``.\n",
    "    \n",
    "    Par exemple, si exp = '13 + 5 * 7 - 21', alors la fonction separe(exp) renvoie operandes = ['13','5','7','21'] et operateurs = ['+','*','-'].\n",
    "    On pourra utiliser la méthode sur les chaînes de caractères .split() qui découpe une chaîne de caractères en un tableau de chaînes de caractères au niveau du séparateur espace.\n",
    "    Ainsi '13 + 5 * 7 - 21'.split() renvoie le tableau ['13', '+', '5', '*', '7', '-', '21']\n",
    "\n",
    "<br>"
   ]
  },
  {
   "cell_type": "code",
   "execution_count": 27,
   "metadata": {},
   "outputs": [],
   "source": [
    "# YOUR CODE HERE"
   ]
  },
  {
   "cell_type": "code",
   "execution_count": 28,
   "metadata": {},
   "outputs": [],
   "source": [
    "assert separe('13 + 5 * 7 - 21') == (['13','5','7','21'], ['+','*','-'])"
   ]
  },
  {
   "cell_type": "markdown",
   "metadata": {},
   "source": [
    "<div class='alert-info'>\n",
    "    \n",
    "## Exercice 3\n",
    "    \n",
    "Ecrire en Python une fonction ``tab_to_dico`` qui admet pour argument un tableau de la forme ``tab = [clé1, valeur1, clé2,valeur2, ...]`` et qui renvoie le dictionnaire de la forme ``{clé1 : valeur 1, clé2 : valeur2,... }``\n",
    "    \n"
   ]
  },
  {
   "cell_type": "code",
   "execution_count": 37,
   "metadata": {},
   "outputs": [],
   "source": [
    "# YOUR CODE HERE\n"
   ]
  },
  {
   "cell_type": "code",
   "execution_count": 38,
   "metadata": {},
   "outputs": [],
   "source": [
    "assert tab_to_dico(['Prenom', 'Julie', 'âge', 17, 'taille', '160 cm']) == {'Prenom': 'Julie', 'âge': 17, 'taille': '160 cm'}"
   ]
  },
  {
   "cell_type": "code",
   "execution_count": null,
   "metadata": {},
   "outputs": [],
   "source": []
  }
 ],
 "metadata": {
  "kernelspec": {
   "display_name": "Python 3",
   "language": "python",
   "name": "python3"
  },
  "language_info": {
   "codemirror_mode": {
    "name": "ipython",
    "version": 3
   },
   "file_extension": ".py",
   "mimetype": "text/x-python",
   "name": "python",
   "nbconvert_exporter": "python",
   "pygments_lexer": "ipython3",
   "version": "3.7.6"
  }
 },
 "nbformat": 4,
 "nbformat_minor": 4
}
