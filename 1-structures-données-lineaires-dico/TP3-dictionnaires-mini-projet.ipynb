{
 "cells": [
  {
   "cell_type": "markdown",
   "metadata": {},
   "source": [
    "# <div align='center'> TP mini-projet sur les dictionnaires\n",
    "    \n",
    "<div class ='alert-danger'>\n",
    "    \n",
    "**N.B. :** A rendre  dans votre collection Pearltrees \"Devoirs Terminale NSI\"  pour le **lundi 20/09/2020.**<br>\n",
    "Vous pouvez travailler en binôme en précisant dans le titre les deux noms et prénoms.\n",
    "    </div>\n",
    "    \n",
    "## I. Rappels sur les dictionnaires\n",
    "\n",
    "Dans cette partie, nous allons fabriquer un carnet d'adresses pour stocker des contacts. \n",
    "\n",
    "### I.1 Fabrication d'un contact \n",
    "<br> \n",
    "<div class='alert-info'> \n",
    "    \n",
    "    \n",
    "Chaque contact sera un dictionnaire dont les clés seront :\n",
    "- `nom` : Nom et prénom du contact\n",
    "- `tel` : N° de téléphone\n",
    "- `rue` : adresse complète\n",
    "- `code` : code postal\n",
    "- `ville` : ville\n",
    "</div>\n",
    "    \n",
    "<br> \n",
    "<br> \n",
    "    \n",
    "<div class='alert-warning'>\n",
    "    \n",
    "1. Creer un dictionnaire nommé `contact` correspondant au contact suivant :\n",
    "> Margaret Costa-Royer<br/>\n",
    "> 08 06 18 37 28<br/>\n",
    "> 93, avenue Bruneau<br/>\n",
    "> 13749 Perrot"
   ]
  },
  {
   "cell_type": "code",
   "execution_count": null,
   "metadata": {},
   "outputs": [],
   "source": [
    "# YOUR CODE HERE\n",
    "\n"
   ]
  },
  {
   "cell_type": "code",
   "execution_count": null,
   "metadata": {},
   "outputs": [],
   "source": [
    "# Vérification\n",
    "assert contact[\"nom\"] == \"Margaret Costa-Royer\"\n",
    "assert contact[\"tel\"] == \"08 06 18 37 28\"\n",
    "assert contact[\"ville\"] == \"Perrot\""
   ]
  },
  {
   "cell_type": "markdown",
   "metadata": {},
   "source": [
    "<div class='alert-warning'>\n",
    "\n",
    "2. Ajouter une nouvelle entrée \"passwd\" dans le contact ayant pour valeur 's75JWikE&o'"
   ]
  },
  {
   "cell_type": "code",
   "execution_count": null,
   "metadata": {},
   "outputs": [],
   "source": [
    "# YOUR CODE HERE\n"
   ]
  },
  {
   "cell_type": "code",
   "execution_count": null,
   "metadata": {},
   "outputs": [],
   "source": [
    "# Vérification\n",
    "assert contact[\"passwd\"] == 's75JWikE&o'"
   ]
  },
  {
   "cell_type": "markdown",
   "metadata": {},
   "source": [
    "### I.2 Génération automatique d'un contact\n",
    "<br>\n",
    "    <br>\n",
    "\n",
    "<div class='alert-warning'>\n",
    "    \n",
    "3. Ecrire une fonction `genere_contact()`\n",
    "    - qui ne prend aucun paramètre\n",
    "    - qui renvoie un dictionnaire possédant les mêmes clés que le contact ci-dessus, y compris \"passwd\"\n",
    "</div>\n",
    "<br>\n",
    "<br>\n",
    "<div class='alert-info'>\n",
    "    \n",
    "On pourra utiliser le module `faker` de Python dont un exemple d'utilisation est donné dans la cellule ci-dessous."
   ]
  },
  {
   "cell_type": "code",
   "execution_count": null,
   "metadata": {},
   "outputs": [],
   "source": [
    "from faker import Faker\n",
    "\n",
    "fake = Faker(\"fr_FR\") # Générateur de données personnelles pour un français\n",
    "\n",
    "print(fake.name())\n",
    "print(fake.phone_number())\n",
    "print(fake.street_address())\n",
    "print(fake.postcode(), fake.city())\n",
    "print(fake.password())"
   ]
  },
  {
   "cell_type": "markdown",
   "metadata": {},
   "source": [
    "<div class='alert-info'>\n",
    "    \n",
    "***Remarque*** :  Si la cellule ci-dessus provoque une erreur disant que le module `faker` n'est pas disponible, vous pouvez l'installer dans l'environnement jupyter via la commande\n",
    "\n",
    "```!pip install faker```"
   ]
  },
  {
   "cell_type": "code",
   "execution_count": null,
   "metadata": {},
   "outputs": [],
   "source": [
    "def genere_contact():\n",
    "    \"\"\"Fabrique un contact factice et renvoie le contact sous forme d'un dictionnaire\"\"\"\n",
    "    # YOUR CODE HERE\n",
    "    "
   ]
  },
  {
   "cell_type": "code",
   "execution_count": null,
   "metadata": {},
   "outputs": [],
   "source": [
    "contact1 = genere_contact()\n",
    "assert type(contact1[\"nom\"]) == str\n",
    "assert \"ville\" in contact1"
   ]
  },
  {
   "cell_type": "markdown",
   "metadata": {},
   "source": [
    "## II. Mise en pratique : Fabrication du carnet d'adresses\n",
    "\n",
    "Tout est à présent en place pour que nous puissions fabriquer notre carnet d'adresses.\n",
    "\n",
    "### II.1 Première implémentation\n",
    "<br>\n",
    "<div class='alert-info'>\n",
    "Dans une première approche, nous allons considérer que le carnet d'adresse sera une liste de contacts, chaque contact étant un dictionnaire dont la structure a été définie à la section précédente.\n",
    "    </div>\n",
    "<br>\n",
    "<br>\n",
    "<div class='alert-warning'>\n",
    "    \n",
    "1. Fabriquer une fonction `genere_carnet1`\n",
    "    - prenant en paramètre le nombre `n` de contacts à générer\n",
    "    - renvoyant une **liste** de `n` contacts générés aléatoirement."
   ]
  },
  {
   "cell_type": "code",
   "execution_count": null,
   "metadata": {},
   "outputs": [],
   "source": [
    "def genere_carnet1(n):\n",
    "    \"\"\"Renvoie une liste de n contacts aléatoires\"\"\"\n",
    "    # YOUR CODE HERE\n",
    "    "
   ]
  },
  {
   "cell_type": "markdown",
   "metadata": {},
   "source": [
    "<div class='alert-warning'>\n",
    "\n",
    "2. Ecrire à présent une fonction `est_present`\n",
    "    - prenant 2 paramètres : un nom et un carnet d'adresse\n",
    "    - renvoyant `True` si le nom figure dans le carnet d'adresse, `False` sinon"
   ]
  },
  {
   "cell_type": "code",
   "execution_count": null,
   "metadata": {},
   "outputs": [],
   "source": [
    "def est_present(nom, carnet):\n",
    "    \"\"\"Teste si nom est présent dans le carnet d'adresse\"\"\"\n",
    "    # YOUR CODE HERE\n",
    "    "
   ]
  },
  {
   "cell_type": "code",
   "execution_count": null,
   "metadata": {},
   "outputs": [],
   "source": [
    "# Vérification\n",
    "\n",
    "carnet1 = genere_carnet1(10)\n",
    "nom = carnet1[-1][\"nom\"]      # On récupère un nom du dernier contact du carnet1\n",
    "assert est_present(nom, carnet1)\n",
    "assert not est_present(\"Berners-Lee Tim\", carnet1)"
   ]
  },
  {
   "cell_type": "markdown",
   "metadata": {},
   "source": [
    "### Mesure de performance de la recherche d'une valeur dans un  tableau\n",
    "<br>\n",
    "<div class='alert-info'>\n",
    "    \n",
    "Nous allons regarder ici comment évolue la vitesse de recherche en foncton de la taille du carnet d'adresse. <br>\n",
    "On utilisera pour cela la fonction magique de *Jupyter* : `%%timeit`qui mesure le temps moyen d'un code sur un très grand nombre d'exécutions. \n",
    "\n",
    "<br>\n",
    "<div class='alert-warning'>\n",
    "1. Etudier et exécuter les cellules suivantes :"
   ]
  },
  {
   "cell_type": "code",
   "execution_count": null,
   "metadata": {},
   "outputs": [],
   "source": [
    "# Fabrication d'un carnet de 100 contacts\n",
    "carnet1 = genere_carnet1(100)\n",
    "nom = carnet1[-1][\"nom\"]  # On récupère un nom du dernier contact du carnet1\n",
    "nom"
   ]
  },
  {
   "cell_type": "code",
   "execution_count": null,
   "metadata": {},
   "outputs": [],
   "source": [
    "%%timeit\n",
    "\n",
    "# On mesure le temps d'une recherche d'une valeur dans le tableau carnet1\n",
    "est_present(nom, carnet1)"
   ]
  },
  {
   "cell_type": "markdown",
   "metadata": {},
   "source": [
    "Vous lisez sous la cellule le temps de recherche.\n",
    "<br>\n",
    "\n",
    "<div class='alert-warning'>\n",
    "    \n",
    "A présent, on refait l'expérience pour 1000 contacts dans le carnet d'adresses."
   ]
  },
  {
   "cell_type": "code",
   "execution_count": null,
   "metadata": {},
   "outputs": [],
   "source": [
    "carnet1 = genere_carnet1(1000)\n",
    "nom = carnet1[-1][\"nom\"]  # On récupère un nom du carnet\n",
    "nom\n"
   ]
  },
  {
   "cell_type": "code",
   "execution_count": null,
   "metadata": {},
   "outputs": [],
   "source": [
    "%%timeit\n",
    "\n",
    "# On mesure le temps d'une recherche dans ce carnet\n",
    "est_present(nom, carnet1)"
   ]
  },
  {
   "cell_type": "markdown",
   "metadata": {},
   "source": [
    "<div class='alert-success'>\n",
    "    \n",
    "**Conclusion :** Vous devez avoir constaté ci-dessus que le temps de recherche est proportionnel à la taille du carnet d'adresse représenté par un tableau : si celui-ci contient 10 fois plus de contacts, la recherche peut être jusqu'à 10 fois plus longue.<br>\n",
    "Cela illustre bien le résultat du cours suivant : L'algorithme de la recherche d'une valeur dans un tableau non trié a une complexité temporelle linéaire (i.e en $O(n)$)."
   ]
  },
  {
   "cell_type": "markdown",
   "metadata": {},
   "source": [
    "### II. 2 Seconde implémentation\n",
    "<br>\n",
    "<div class='alert-info'>\n",
    "    \n",
    "Nous allons changer d'approche et fabriquer un carnet d'adresse sous forme d'un dictionnaire dont les clés seront les **noms** et les valeurs seront les fiches contacts. Ainsi notre carnet d'adresses sera un dictionnaire dont les valeurs seront des dictionnaires !<br>\n",
    "Un contact avec cette nouvelle structure donnera par exemple :<br> ``'Paul Durand': {'tel': '0483493108',  'ville': 'Toulon',  'passwd': '&7q!2Gv)tZ'}``\n",
    "    </div>\n",
    "<br>\n",
    "    <br>\n",
    "<div class='alert-warning'>\n",
    "    \n",
    "Fabriquer une fonction `genere_carnet2`\n",
    "\n",
    "- prenant en paramètre le nombre n de contacts à générer;\n",
    "- renvoyant un **dictionnaire** de `n` contacts générés aléatoirement"
   ]
  },
  {
   "cell_type": "code",
   "execution_count": null,
   "metadata": {},
   "outputs": [],
   "source": [
    "def genere_carnet2(n):\n",
    "    \"\"\"Renvoie un dictionnaire de n contacts aléatoires\"\"\"\n",
    "    # YOUR CODE HERE\n",
    " \n",
    "\n"
   ]
  },
  {
   "cell_type": "code",
   "execution_count": null,
   "metadata": {},
   "outputs": [],
   "source": [
    "# Vérification\n",
    "\n",
    "carnet2 = genere_carnet2(10)\n",
    "assert type(carnet2) == dict\n",
    "nom = list(carnet2.keys())[-1]\n",
    "assert type(carnet2[nom]) == dict"
   ]
  },
  {
   "cell_type": "markdown",
   "metadata": {},
   "source": [
    "### Mesure de performance de la recherche d'une clé dans un dictionnaire\n",
    "<br>\n",
    "<div class='alert-info'>\n",
    "    \n",
    "Nous allons regarder pour cette nouvelle implémentation comment évolue la vitesse de recherche d'une clé en fonction de la taille du carnet d'adresse. Valider les 2 cellules suivantes."
   ]
  },
  {
   "cell_type": "code",
   "execution_count": null,
   "metadata": {},
   "outputs": [],
   "source": [
    "# Fabrication d'un carnet de 100 contacts\n",
    "carnet2 = genere_carnet2(100)\n",
    "nom = list(carnet2.keys())[-1] # On récupère le dernier nom du carnet2\n",
    "nom"
   ]
  },
  {
   "cell_type": "code",
   "execution_count": null,
   "metadata": {},
   "outputs": [],
   "source": [
    "%%timeit\n",
    "\n",
    "nom in carnet2           # On le recherche"
   ]
  },
  {
   "cell_type": "markdown",
   "metadata": {},
   "source": [
    "<div class='alert-success'>\n",
    "\n",
    "## Conclusion\n",
    "\n",
    "Vous le constatez d'après les expériences ci-dessus : le temps de recherche dans le dictionnaire est pratiquement indépendant du nombre d'entrées dans ce dictionnaires (complexité temporelle constante en $O(1)$), car en multipliant le nombre de contacts par 100, le temps est resté pratiquement identique alors que dans le cas de la recherche dans un tableau, celui-ci est proportionnel à la longueur du tableau (complexité linéaire en $O(n)$).\n",
    "\n",
    "Le dictionnaire est donc une structure de données optimisée pour la recherche sur les clés."
   ]
  },
  {
   "cell_type": "code",
   "execution_count": null,
   "metadata": {},
   "outputs": [],
   "source": []
  }
 ],
 "metadata": {
  "kernelspec": {
   "display_name": "Python 3",
   "language": "python",
   "name": "python3"
  },
  "language_info": {
   "codemirror_mode": {
    "name": "ipython",
    "version": 3
   },
   "file_extension": ".py",
   "mimetype": "text/x-python",
   "name": "python",
   "nbconvert_exporter": "python",
   "pygments_lexer": "ipython3",
   "version": "3.7.6"
  }
 },
 "nbformat": 4,
 "nbformat_minor": 4
}
