{
 "cells": [
  {
   "cell_type": "markdown",
   "metadata": {},
   "source": [
    "# <div align='center'> TP mini-projet sur les dictionnaires\n",
    "    \n",
    "<div class ='alert-danger'>\n",
    "    \n",
    "**N.B. :** A rendre  dans votre collection Pearltrees \"Devoirs Terminale NSI\"  pour le **lundi 20/09/2020.**<br>\n",
    "Vous pouvez travailler en binôme en précisant dans le titre les deux noms et prénoms.\n",
    "    </div>\n",
    "    \n",
    "## I. Rappels sur les dictionnaires\n",
    "\n",
    "Dans cette partie, nous allons fabriquer un carnet d'adresses pour stocker des contacts. \n",
    "\n",
    "### I.1 Fabrication d'un contact \n",
    "<br> \n",
    "<div class='alert-info'> \n",
    "    \n",
    "    \n",
    "Chaque contact sera un dictionnaire dont les clés seront :\n",
    "- `nom` : Nom et prénom du contact\n",
    "- `tel` : N° de téléphone\n",
    "- `rue` : adresse complète\n",
    "- `code` : code postal\n",
    "- `ville` : ville\n",
    "</div>\n",
    "    \n",
    "<br> \n",
    "<br> \n",
    "    \n",
    "<div class='alert-warning'>\n",
    "    \n",
    "1. Creer un dictionnaire nommé `contact` correspondant au contact suivant :\n",
    "> Margaret Costa-Royer<br/>\n",
    "> 08 06 18 37 28<br/>\n",
    "> 93, avenue Bruneau<br/>\n",
    "> 13749 Perrot"
   ]
  },
  {
   "cell_type": "code",
   "execution_count": 5,
   "metadata": {},
   "outputs": [],
   "source": [
    "# YOUR CODE HERE\n",
    "contact = {'nom' : 'Margaret Costa-Royer', 'tel' : '08 06 18 37 28', 'ville' : 'Perrot' }\n"
   ]
  },
  {
   "cell_type": "code",
   "execution_count": 6,
   "metadata": {},
   "outputs": [],
   "source": [
    "# Vérification\n",
    "assert contact[\"nom\"] == \"Margaret Costa-Royer\"\n",
    "assert contact[\"tel\"] == \"08 06 18 37 28\"\n",
    "assert contact[\"ville\"] == \"Perrot\""
   ]
  },
  {
   "cell_type": "markdown",
   "metadata": {},
   "source": [
    "<div class='alert-warning'>\n",
    "\n",
    "2. Ajouter une nouvelle entrée \"passwd\" dans le contact ayant pour valeur 's75JWikE&o'"
   ]
  },
  {
   "cell_type": "code",
   "execution_count": 7,
   "metadata": {},
   "outputs": [],
   "source": [
    "# YOUR CODE HERE\n",
    "contact[\"passwd\"] = 's75JWikE&o'"
   ]
  },
  {
   "cell_type": "code",
   "execution_count": 8,
   "metadata": {},
   "outputs": [],
   "source": [
    "# Vérification\n",
    "assert contact[\"passwd\"] == 's75JWikE&o'"
   ]
  },
  {
   "cell_type": "markdown",
   "metadata": {},
   "source": [
    "### I.2 Génération automatique d'un contact\n",
    "<br>\n",
    "    <br>\n",
    "\n",
    "<div class='alert-warning'>\n",
    "    \n",
    "3. Ecrire une fonction `genere_contact()`\n",
    "    - qui ne prend aucun paramètre\n",
    "    - qui renvoie un dictionnaire possédant les mêmes clés que le contact ci-dessus, y compris \"passwd\"\n",
    "</div>\n",
    "<br>\n",
    "<br>\n",
    "<div class='alert-info'>\n",
    "    \n",
    "On pourra utiliser le module `faker` de Python dont un exemple d'utilisation est donné dans la cellule ci-dessous."
   ]
  },
  {
   "cell_type": "code",
   "execution_count": 9,
   "metadata": {},
   "outputs": [
    {
     "name": "stdout",
     "output_type": "stream",
     "text": [
      "Requirement already satisfied: faker in c:\\users\\franck olivier\\anaconda3\\lib\\site-packages (4.1.2)\n",
      "Requirement already satisfied: python-dateutil>=2.4 in c:\\users\\franck olivier\\anaconda3\\lib\\site-packages (from faker) (2.8.1)\n",
      "Requirement already satisfied: text-unidecode==1.3 in c:\\users\\franck olivier\\anaconda3\\lib\\site-packages (from faker) (1.3)\n",
      "Requirement already satisfied: six>=1.5 in c:\\users\\franck olivier\\anaconda3\\lib\\site-packages (from python-dateutil>=2.4->faker) (1.14.0)\n"
     ]
    }
   ],
   "source": [
    "!pip install faker"
   ]
  },
  {
   "cell_type": "code",
   "execution_count": 7,
   "metadata": {},
   "outputs": [
    {
     "name": "stdout",
     "output_type": "stream",
     "text": [
      "Camille Allain\n",
      "01 71 33 46 29\n",
      "88, rue Alain Robert\n",
      "29086 Saint Marie\n",
      "&0VDpuIeFQ\n"
     ]
    }
   ],
   "source": [
    "from faker import Faker\n",
    "\n",
    "fake = Faker(\"fr_FR\") # Générateur de données personnelles pour un français\n",
    "\n",
    "print(fake.name())\n",
    "print(fake.phone_number())\n",
    "print(fake.street_address())\n",
    "print(fake.postcode(), fake.city())\n",
    "print(fake.password())\n",
    "\n"
   ]
  },
  {
   "cell_type": "markdown",
   "metadata": {},
   "source": [
    "<div class='alert-info'>\n",
    "    \n",
    "***Remarque*** :  Si la cellule ci-dessus provoque une erreur disant que le module `faker` n'est pas disponible, vous pouvez l'installer dans l'environnement jupyter via la commande\n",
    "\n",
    "```!pip install faker```"
   ]
  },
  {
   "cell_type": "code",
   "execution_count": 11,
   "metadata": {},
   "outputs": [
    {
     "data": {
      "text/plain": [
       "{'nom': 'Frédérique Masson',\n",
       " 'tel': '+33 5 28 92 15 82',\n",
       " 'ville': 'Sainte Noël-les-Bains',\n",
       " 'passwd': '$Pp0PCb+5i'}"
      ]
     },
     "execution_count": 11,
     "metadata": {},
     "output_type": "execute_result"
    }
   ],
   "source": [
    "def genere_contact():\n",
    "    \"\"\"Fabrique un contact factice et renvoie le contact sous forme d'un dictionnaire\"\"\"\n",
    "    # YOUR CODE HERE\n",
    "    return {'nom' : fake.name(), 'tel' : fake.phone_number(), 'ville' : fake.city(), 'passwd' : fake.password()}\n",
    "genere_contact()  "
   ]
  },
  {
   "cell_type": "code",
   "execution_count": 12,
   "metadata": {},
   "outputs": [],
   "source": [
    "contact1 = genere_contact()\n",
    "assert type(contact1[\"nom\"]) == str\n",
    "assert \"ville\" in contact1"
   ]
  },
  {
   "cell_type": "markdown",
   "metadata": {},
   "source": [
    "## II. Mise en pratique : Fabrication du carnet d'adresses\n",
    "\n",
    "Tout est à présent en place pour que nous puissions fabriquer notre carnet d'adresses.\n",
    "\n",
    "### II.1 Première implémentation\n",
    "<br>\n",
    "<div class='alert-info'>\n",
    "Dans une première approche, nous allons considérer que le carnet d'adresse sera une liste de contacts, chaque contact étant un dictionnaire dont la structure a été définie à la section précédente.\n",
    "    </div>\n",
    "<br>\n",
    "<br>\n",
    "<div class='alert-warning'>\n",
    "    \n",
    "1. Fabriquer une fonction `genere_carnet1`\n",
    "    - prenant en paramètre le nombre `n` de contacts à générer\n",
    "    - renvoyant une **liste** de `n` contacts générés aléatoirement."
   ]
  },
  {
   "cell_type": "code",
   "execution_count": 13,
   "metadata": {},
   "outputs": [
    {
     "data": {
      "text/plain": [
       "[{'nom': 'Élisabeth Le Leleu',\n",
       "  'tel': '03 30 65 38 90',\n",
       "  'ville': 'Sainte Virginie',\n",
       "  'passwd': 'iPi31ef%^%'},\n",
       " {'nom': 'Michel Legendre',\n",
       "  'tel': '02 42 29 27 18',\n",
       "  'ville': 'Saint Constance',\n",
       "  'passwd': '(06SAARvzS'},\n",
       " {'nom': 'daisy Martinez du Marion',\n",
       "  'tel': '0541600138',\n",
       "  'ville': 'Navarro',\n",
       "  'passwd': '1FT#sVo1&3'},\n",
       " {'nom': 'Christine Charpentier',\n",
       "  'tel': '+33 (0)4 94 06 59 96',\n",
       "  'ville': 'Boutin-sur-Rousset',\n",
       "  'passwd': 'i!d3O^DpVq'},\n",
       " {'nom': 'William Etienne-Le Gall',\n",
       "  'tel': '0108289060',\n",
       "  'ville': 'GautierBourg',\n",
       "  'passwd': 'AM^k7KqNFM'},\n",
       " {'nom': 'David de Lopez',\n",
       "  'tel': '+33 (0)5 42 07 23 30',\n",
       "  'ville': 'Didier',\n",
       "  'passwd': 'o&1SZBXuf8'},\n",
       " {'nom': 'Valérie de la Godard',\n",
       "  'tel': '06 58 92 35 58',\n",
       "  'ville': 'Albert',\n",
       "  'passwd': '#*1BoDhmN8'},\n",
       " {'nom': 'Danielle Briand-Ramos',\n",
       "  'tel': '0498739808',\n",
       "  'ville': 'Hoareau-la-Forêt',\n",
       "  'passwd': '^wLWYkTjR7'},\n",
       " {'nom': 'Matthieu Faure',\n",
       "  'tel': '+33 (0)6 28 64 14 42',\n",
       "  'ville': 'Saint Agnès',\n",
       "  'passwd': 'Z+@l5ZNjO3'},\n",
       " {'nom': 'Emmanuel Boulanger du Rocher',\n",
       "  'tel': '+33 (0)8 02 73 00 40',\n",
       "  'ville': 'Mahe',\n",
       "  'passwd': ')(5sPXp2#k'}]"
      ]
     },
     "execution_count": 13,
     "metadata": {},
     "output_type": "execute_result"
    }
   ],
   "source": [
    "def genere_carnet1(n):\n",
    "    \"\"\"Renvoie une liste de n contacts aléatoires\"\"\"\n",
    "    # YOUR CODE HERE\n",
    "    tab = []\n",
    "    for i in range(n):\n",
    "        tab.append(genere_contact())\n",
    "    return tab\n",
    "genere_carnet1(10)"
   ]
  },
  {
   "cell_type": "markdown",
   "metadata": {},
   "source": [
    "<div class='alert-warning'>\n",
    "\n",
    "2. Ecrire à présent une fonction `est_present`\n",
    "    - prenant 2 paramètres : un nom et un carnet d'adresse\n",
    "    - renvoyant `True` si le nom figure dans le carnet d'adresse, `False` sinon"
   ]
  },
  {
   "cell_type": "code",
   "execution_count": 14,
   "metadata": {},
   "outputs": [
    {
     "name": "stdout",
     "output_type": "stream",
     "text": [
      "Marianne Leconte\n",
      "[{'nom': 'Bernadette Traore-Godard', 'tel': '+33 1 41 67 51 42', 'ville': 'Vallee-les-Bains', 'passwd': '*xmM1d%8&9'}, {'nom': 'Étienne de Renard', 'tel': '05 53 85 06 57', 'ville': 'Saint Maggie-les-Bains', 'passwd': '&I0K8WBt%3'}, {'nom': 'Renée Carpentier', 'tel': '+33 5 29 41 25 10', 'ville': 'Morinnec', 'passwd': '&4^SjK!ghp'}, {'nom': 'Margot-Brigitte Rodriguez', 'tel': '08 06 60 23 68', 'ville': 'Pasquier', 'passwd': 'pw4SXcHs$^'}, {'nom': 'Philippine-daisy Guyon', 'tel': '0695669113', 'ville': 'Boyer-sur-Bertin', 'passwd': '007jMY*x#4'}, {'nom': 'Franck Clement', 'tel': '+33 4 60 28 29 14', 'ville': 'Morenonec', 'passwd': 'sb7sCHSfV+'}, {'nom': 'Victoire Chartier', 'tel': '06 09 01 39 91', 'ville': 'Bernard', 'passwd': '$nV+PoziC1'}, {'nom': 'Pauline Gonzalez', 'tel': '03 66 96 38 00', 'ville': 'Saint Matthieudan', 'passwd': '!vk2LYji@5'}, {'nom': 'Pauline-Michèle Daniel', 'tel': '0150113039', 'ville': 'Saint Auguste-sur-Mer', 'passwd': '^)t7GRl!LF'}, {'nom': 'Marianne Leconte', 'tel': '+33 5 62 84 96 47', 'ville': 'Benard', 'passwd': '@F!ovLOu1w'}]\n",
      "{'nom': 'Marianne Leconte', 'tel': '+33 5 62 84 96 47', 'ville': 'Benard', 'passwd': '@F!ovLOu1w'}\n"
     ]
    },
    {
     "data": {
      "text/plain": [
       "True"
      ]
     },
     "execution_count": 14,
     "metadata": {},
     "output_type": "execute_result"
    }
   ],
   "source": [
    "def est_present(nom, carnet):\n",
    "    \"\"\"Teste si nom est présent dans le carnet d'adresse\"\"\"\n",
    "    # YOUR CODE HERE\n",
    "    n = len (carnet)\n",
    "    for i in range (n) :\n",
    "        if nom in carnet[i][\"nom\"] :\n",
    "            return True\n",
    "    return False\n",
    "\n",
    "carnet1 = genere_carnet1(10)\n",
    "nom = carnet1[-1][\"nom\"] \n",
    "print(nom)\n",
    "print(carnet1)\n",
    "print(carnet1[len(carnet1)-1])\n",
    "est_present(nom, carnet1)"
   ]
  },
  {
   "cell_type": "code",
   "execution_count": 15,
   "metadata": {},
   "outputs": [],
   "source": [
    "# Vérification\n",
    "\n",
    "carnet1 = genere_carnet1(10)\n",
    "nom = carnet1[-1][\"nom\"]      # On récupère un nom du dernier contact du carnet1\n",
    "assert est_present(nom, carnet1)\n",
    "assert not est_present(\"Berners-Lee Tim\", carnet1)"
   ]
  },
  {
   "cell_type": "markdown",
   "metadata": {},
   "source": [
    "### Mesure de performance de la recherche d'une valeur dans un  tableau\n",
    "<br>\n",
    "<div class='alert-info'>\n",
    "    \n",
    "Nous allons regarder ici comment évolue la vitesse de recherche en foncton de la taille du carnet d'adresse. <br>\n",
    "On utilisera pour cela la fonction magique de *Jupyter* : `%%timeit`qui mesure le temps moyen d'un code sur un très grand nombre d'exécutions. \n",
    "\n",
    "<br>\n",
    "<div class='alert-warning'>\n",
    "1. Etudier et exécuter les cellules suivante :"
   ]
  },
  {
   "cell_type": "code",
   "execution_count": 16,
   "metadata": {},
   "outputs": [
    {
     "data": {
      "text/plain": [
       "'Antoinette Rossi-Bourdon'"
      ]
     },
     "execution_count": 16,
     "metadata": {},
     "output_type": "execute_result"
    }
   ],
   "source": [
    "# Fabrication d'un carnet de 100 contacts\n",
    "carnet1 = genere_carnet1(100)\n",
    "nom = carnet1[-1][\"nom\"]  # On récupère un nom du dernier contact du carnet1\n",
    "nom"
   ]
  },
  {
   "cell_type": "code",
   "execution_count": 17,
   "metadata": {},
   "outputs": [
    {
     "name": "stdout",
     "output_type": "stream",
     "text": [
      "21.6 µs ± 1.47 µs per loop (mean ± std. dev. of 7 runs, 100000 loops each)\n"
     ]
    }
   ],
   "source": [
    "%%timeit\n",
    "\n",
    "# On mesure le temps d'une recherche d'une valeur dans le tableau carnet1\n",
    "est_present(nom, carnet1)"
   ]
  },
  {
   "cell_type": "markdown",
   "metadata": {},
   "source": [
    "Vous lisez sous la cellule le temps de recherche.\n",
    "<br>\n",
    "\n",
    "<div class='alert-warning'>\n",
    "    \n",
    "A présent, on refait l'expérience pour 1000 contacts dans le carnet d'adresses."
   ]
  },
  {
   "cell_type": "code",
   "execution_count": 18,
   "metadata": {},
   "outputs": [
    {
     "data": {
      "text/plain": [
       "'Michel Schmitt-Salmon'"
      ]
     },
     "execution_count": 18,
     "metadata": {},
     "output_type": "execute_result"
    }
   ],
   "source": [
    "carnet1 = genere_carnet1(1000)\n",
    "nom = carnet1[-1][\"nom\"]  # On récupère un nom du carnet\n",
    "nom"
   ]
  },
  {
   "cell_type": "code",
   "execution_count": 19,
   "metadata": {},
   "outputs": [
    {
     "name": "stdout",
     "output_type": "stream",
     "text": [
      "218 µs ± 29.1 µs per loop (mean ± std. dev. of 7 runs, 1000 loops each)\n"
     ]
    }
   ],
   "source": [
    "%%timeit\n",
    "\n",
    "# On mesure le temps d'une recherche dans ce carnet\n",
    "est_present(nom, carnet1)"
   ]
  },
  {
   "cell_type": "markdown",
   "metadata": {},
   "source": [
    "<div class='alert-success'>\n",
    "    \n",
    "**Conclusion :** Vous devez avoir constaté ci-dessus que le temps de recherche est proportionnel à la taille du carnet d'adresse représenté par un tableau : si celui-ci contient 10 fois plus de contacts, la recherche peut être jusqu'à 10 fois plus longue.<br>\n",
    "Cela illustre bien le résultat du cours suivant : L'algorithme de la recherche d'une valeur dans un tableau non trié a une complexité temporelle linéaire (i.e en $O(n)$)."
   ]
  },
  {
   "cell_type": "markdown",
   "metadata": {},
   "source": [
    "### II. 2 Seconde implémentation\n",
    "<br>\n",
    "<div class='alert-info'>\n",
    "    \n",
    "Nous allons changer d'approche et fabriquer un carnet d'adresse sous forme d'un dictionnaire dont les clés seront les **noms** et les valeurs seront les fiches contacts. Ainsi notre carnet d'adresses sera un dictionnaire dont les valeurs seront des dictionnaires !<br>\n",
    "Un contact avec cette nouvelle structure donnera par exemple :<br> ``'Paul Durand': {'tel': '0483493108',  'ville': 'Toulon',  'passwd': '&7q!2Gv)tZ'}``\n",
    "    </div>\n",
    "<br>\n",
    "    <br>\n",
    "<div class='alert-warning'>\n",
    "    \n",
    "Fabriquer une fonction `genere_carnet2`\n",
    "\n",
    "- prenant en paramètre le nombre n de contacts à générer;\n",
    "- renvoyant un **dictionnaire** de `n` contacts générés aléatoirement"
   ]
  },
  {
   "cell_type": "code",
   "execution_count": 20,
   "metadata": {},
   "outputs": [
    {
     "data": {
      "text/plain": [
       "{'Paulette Da Silva': {'tel': '+33 (0)2 11 67 00 83',\n",
       "  'ville': 'Briand',\n",
       "  'passwd': '#$+OYk#e9w'},\n",
       " 'Dorothée Morvan': {'tel': '04 38 26 92 89',\n",
       "  'ville': 'Descamps',\n",
       "  'passwd': 'tYj3tJiu^2'},\n",
       " 'Anaïs Leveque': {'tel': '+33 (0)4 14 02 76 66',\n",
       "  'ville': 'Roger',\n",
       "  'passwd': '5!7l4DeuCl'},\n",
       " 'Catherine Garcia': {'tel': '+33 (0)4 99 52 09 88',\n",
       "  'ville': 'LedouxVille',\n",
       "  'passwd': 'c2#4NFl$F&'},\n",
       " 'Marcelle Arnaud': {'tel': '0357332781',\n",
       "  'ville': 'Lefevrenec',\n",
       "  'passwd': '&oUz$vCL%4'},\n",
       " 'Laurence Jean': {'tel': '+33 1 66 26 06 16',\n",
       "  'ville': 'Saint Mathildeboeuf',\n",
       "  'passwd': 'RR@8OHuAs5'},\n",
       " 'Christelle Louis': {'tel': '+33 (0)1 71 52 47 64',\n",
       "  'ville': 'Bodin',\n",
       "  'passwd': '%0!MDRKfUg'},\n",
       " 'André Lopez': {'tel': '+33 2 87 29 73 95',\n",
       "  'ville': 'Teixeiraboeuf',\n",
       "  'passwd': '8LG5!b8r&('},\n",
       " 'Auguste Joubert': {'tel': '+33 (0)8 02 56 47 56',\n",
       "  'ville': 'Da Costa-sur-Thibault',\n",
       "  'passwd': '^v98!Hpx)K'},\n",
       " 'Christophe Didier': {'tel': '08 05 26 99 72',\n",
       "  'ville': 'Saint Noëldan',\n",
       "  'passwd': '0tZDZat2_$'}}"
      ]
     },
     "execution_count": 20,
     "metadata": {},
     "output_type": "execute_result"
    }
   ],
   "source": [
    "def genere_carnet2(n):\n",
    "    \"\"\"Renvoie un dictionnaire de n contacts aléatoires\"\"\"\n",
    "    # YOUR CODE HERE\n",
    "    dico = {}\n",
    "    for i in range(n) :\n",
    "        dico[fake.name()] = {'tel' : fake.phone_number(), 'ville' : fake.city(), 'passwd' : fake.password()}\n",
    "    return dico \n",
    "\n",
    "genere_carnet2(10)"
   ]
  },
  {
   "cell_type": "code",
   "execution_count": 21,
   "metadata": {},
   "outputs": [],
   "source": [
    "# Vérification\n",
    "\n",
    "carnet2 = genere_carnet2(10)\n",
    "assert type(carnet2) == dict\n",
    "nom = list(carnet2.keys())[-1]\n",
    "assert type(carnet2[nom]) == dict"
   ]
  },
  {
   "cell_type": "markdown",
   "metadata": {},
   "source": [
    "### Mesure de performance de la recherche d'une clé dans un dictionnaire\n",
    "<br>\n",
    "<div class='alert-info'>\n",
    "    \n",
    "Nous allons regarder pour cette nouvelle implémentation comment évolue la vitesse de recherche d'une clé en fonction de la taille du carnet d'adresse. Valider les 2 cellules suivantes."
   ]
  },
  {
   "cell_type": "code",
   "execution_count": 22,
   "metadata": {},
   "outputs": [
    {
     "data": {
      "text/plain": [
       "'Geneviève Leconte'"
      ]
     },
     "execution_count": 22,
     "metadata": {},
     "output_type": "execute_result"
    }
   ],
   "source": [
    "# Fabrication d'un carnet de 100 contacts\n",
    "carnet2 = genere_carnet2(100)\n",
    "nom = list(carnet2.keys())[-1] # On récupère le dernier nom du carnet2\n",
    "nom"
   ]
  },
  {
   "cell_type": "code",
   "execution_count": 23,
   "metadata": {},
   "outputs": [
    {
     "name": "stdout",
     "output_type": "stream",
     "text": [
      "167 ns ± 29.9 ns per loop (mean ± std. dev. of 7 runs, 10000000 loops each)\n"
     ]
    }
   ],
   "source": [
    "%%timeit\n",
    "\n",
    "nom in carnet2           # On le recherche"
   ]
  },
  {
   "cell_type": "markdown",
   "metadata": {},
   "source": [
    "<div class='alert-success'>\n",
    "\n",
    "## Conclusion\n",
    "\n",
    "Vous le constatez d'après les expériences ci-dessus : le temps de recherche dans le dictionnaire est pratiquement indépendant du nombre d'entrées dans ce dictionnaires (complexité temporelle constante en $O(1)$), car en multipliant le nombre de contacts par 100, le temps est resté pratiquement identique alors que dans le cas de la recherche dans un tableau, celui-ci est proportionnel à la longueur du tableau (complexité linéaire en $O(n)$).\n",
    "\n",
    "Le dictionnaire est donc une structure de données optimisée pour la recherche sur les clés."
   ]
  },
  {
   "cell_type": "code",
   "execution_count": null,
   "metadata": {},
   "outputs": [],
   "source": []
  }
 ],
 "metadata": {
  "kernelspec": {
   "display_name": "Python 3",
   "language": "python",
   "name": "python3"
  },
  "language_info": {
   "codemirror_mode": {
    "name": "ipython",
    "version": 3
   },
   "file_extension": ".py",
   "mimetype": "text/x-python",
   "name": "python",
   "nbconvert_exporter": "python",
   "pygments_lexer": "ipython3",
   "version": "3.8.3"
  }
 },
 "nbformat": 4,
 "nbformat_minor": 4
}
