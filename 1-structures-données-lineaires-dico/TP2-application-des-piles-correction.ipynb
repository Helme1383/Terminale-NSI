{
 "cells": [
  {
   "cell_type": "markdown",
   "metadata": {},
   "source": [
    "# <div align='center'>  TP : Application des piles\n",
    "\n",
    "<div class='alert-info'>\n",
    "    \n",
    "**N.B :** On va étudier deux applications classiques qui necessitent l'usage d'une pile.<br>\n",
    "Pour cela, on va utiliser les méthodes de l'interface de la structure abstraite ``Pile`` implémentées en Python dans le TP précédent."
   ]
  },
  {
   "cell_type": "code",
   "execution_count": 1,
   "metadata": {},
   "outputs": [],
   "source": [
    "def creerPile():\n",
    "    \"\"\" Renvoie une liste Python vide, i.e une pile vide\"\"\"    \n",
    "    return []\n",
    "\n",
    "def estVide(P) :\n",
    "    \"\"\"P est une liste Python représentant une pile\n",
    "    Renvoie True si P est vide, False sinon\"\"\"\n",
    "    return P == []\n",
    "\n",
    "def push(P, x) :\n",
    "    \"\"\"P est une liste Python représentant une pile, x une valeur \n",
    "    Empile la valeur x et ne renvoie rien\"\"\"\n",
    "    P.append(x)\n",
    "    \n",
    "def pop(P) :\n",
    "    \"\"\"P est une liste Python représentant une pile\n",
    "    Renvoie le sommet de la pile tout en le supprimant de la pile\"\"\"\n",
    "    return P.pop()\n",
    "\n",
    "def sommet(P) :\n",
    "    \"\"\"P est une liste Python représentant une pile\n",
    "    Renvoie le sommet de la pile sans le supprimer de la pile\"\"\"\n",
    "    return P[-1]    \n",
    "\n",
    "def taille(P) :\n",
    "    \"\"\"P est une liste Python représentant une pilele de la pile\"\"\"\n",
    "    return len(P)"
   ]
  },
  {
   "cell_type": "markdown",
   "metadata": {},
   "source": [
    "## Application n°1 :\n",
    "\n",
    "Il s'agit d’écrire une fonction qui contrôle si une expression mathématique, donnée sous forme d'une chaîne de caractères, est bien parenthésée, c’est-à-dire s’il y a autant de parenthèses ouvrantes que de fermantes, et qu’elles sont bien placées.\n",
    "\n",
    "Par exemple l'expression '(4-(5+3)-2)' est bien parenthésée tandis que '(2*(4+2*(3+1)-2)' ne l'est pas.\n",
    "\n",
    "**L’algorithme :**\n",
    "- On crée une pile.\n",
    "- On parcourt l’expression de gauche à droite.\n",
    "- À chaque fois que l’on rencontre une parenthèse ouvrante \"( \" on l'empile.\n",
    "- Si on rencontre une parenthèse fermante \" ) \" et que la pile n'est pas vide on dépile (sinon on retourne faux )\n",
    "- À la fin du parcours, la pile doit être vide...\n",
    "\n",
    "<div class='alert-warning'>\n",
    "    \n",
    "1. Implémenter cet algorithme en Python en écrivant une fonction ``verifieParentheses(exp)`` qui prend en argument une expression arithmétique ``exp`` de type str, et  qui renvoie True si elle est bien parenthésée, False sinon."
   ]
  },
  {
   "cell_type": "code",
   "execution_count": 2,
   "metadata": {},
   "outputs": [],
   "source": [
    "# Your CODE HERE\n",
    "def verifieParentheses(exp) :\n",
    "    P = creerPile()\n",
    "    for c in exp :\n",
    "        if c == '(' :\n",
    "            push(P,c)\n",
    "        elif c == ')' :\n",
    "            if estVide(P) :\n",
    "                return False\n",
    "            else :\n",
    "                pop(P)\n",
    "    return estVide(P)"
   ]
  },
  {
   "cell_type": "code",
   "execution_count": 3,
   "metadata": {},
   "outputs": [],
   "source": [
    "assert verifieParentheses('(4-(5+3)-2)')\n",
    "assert not verifieParentheses('(2*(4+2*(3+1)-2)')"
   ]
  },
  {
   "cell_type": "markdown",
   "metadata": {},
   "source": [
    "<div class='alert-warning'>\n",
    "    \n",
    "2. Modifier la fonction précédente en écrivant  une fonction  ``couplesParentheses(exp)`` qui prend en argument une expression arithmétique ``exp`` de type str, et  qui renvoie les couples d'indice de la parenthèse ouvrante et de la parenthèse fermante correspondante  si ``exp`` est bien parenthésée, False sinon."
   ]
  },
  {
   "cell_type": "code",
   "execution_count": 4,
   "metadata": {},
   "outputs": [],
   "source": [
    "# Your CODE HERE\n",
    "def couplesParentheses(exp) :\n",
    "    P = creerPile()\n",
    "    couples = []\n",
    "    for i in range(len(exp)) :\n",
    "        if exp[i] == '(' :\n",
    "            push(P,i)\n",
    "        elif exp[i] == ')' :\n",
    "            if estVide(P) :\n",
    "                return False\n",
    "            else :\n",
    "                j = pop(P)\n",
    "                couples.append((j,i))            \n",
    "    if estVide(P) :\n",
    "        return couples\n",
    "    else :\n",
    "        return False"
   ]
  },
  {
   "cell_type": "code",
   "execution_count": 5,
   "metadata": {},
   "outputs": [],
   "source": [
    "assert couplesParentheses('(4-(5+3)-2)') == [(3, 7), (0, 10)]\n",
    "assert not couplesParentheses('(2*(4+2*(3+1)-2)')"
   ]
  },
  {
   "cell_type": "markdown",
   "metadata": {},
   "source": [
    "## Application n°2 : Evaluer une expression arithmétique en NPI (notation polonaise inversée ou notation postfixée)\n",
    "\n",
    "On considère une expression écrite en notation polonaise inverée (ou NPI ou en core notation postfixée).<br>\n",
    "Cette expression est de type str et les opérandes et opérateurs sont séparés par des espaces.\n",
    "\n",
    "Par exemple, l'expression arithmétique en notation habituelle (on dit notation infixée) $\"(8+3)\\times 5\"$ s'écrit en NPI \"8 3 + 5 *\" dont l'évaluation donne 55.\n",
    "<br>\n",
    "Comme on l'a vu en cours, la notation NPI consiste à mettre les opérateurs après leurs deux opérandes.\n",
    "<br>\n",
    "<br>\n",
    "<div alert='danger'>\n",
    "    \n",
    "**Objectif :** On veut évaluer  une expression en NPI en écrivant une fonction en Python\n",
    "    <div>\n",
    "<br>\n",
    "        <br>\n",
    "**L’algorithme :**\n",
    "- On crée une pile.\n",
    "- On parcourt l’expression de gauche à droite.\n",
    "- Si on rencontre un opérande, alors on l'empile.\n",
    "- Sinon :\n",
    "        - on dépile les deux opérandes\n",
    "        - on effectue l'opération \"Operande du sous-sommet Operateur Operande du sommet\"\n",
    "        - on empile le résultat\n",
    "- On dépile : le résultat renvoyé est l'évaluation de l'expression en NPI.\n",
    "\n",
    "<div class='alert-warning'>\n",
    "    \n",
    "1. Implémenter cet algorithme en Python en écrivant une fonction ``evaluerNPI`` qui prend en argument une expression arithmétique ``exp`` de type str écrite en NPI, et  qui renvoie son évaluation."
   ]
  },
  {
   "cell_type": "code",
   "execution_count": 14,
   "metadata": {},
   "outputs": [],
   "source": [
    "# YOUR CODE HERE\n",
    "\n",
    "def evaluerNPI(exp) :\n",
    "    P = creerPile()\n",
    "    tab = exp.split()\n",
    "    for c in tab :\n",
    "        \n",
    "        if c in '+-*/' :       # c est un opérateur\n",
    "            a = pop(P)\n",
    "            b = pop(P)\n",
    "            if  c == '+' :\n",
    "                push(P, b + a)\n",
    "            elif c == '-' :\n",
    "                push(P, b - a)\n",
    "            elif c == '*' :\n",
    "                push(P, b*a)\n",
    "            elif c == '/' :\n",
    "                push(P, b/a)\n",
    "              \n",
    "        else :                    # c est un opérande\n",
    "            push(P, float(c))\n",
    "    return pop(P)\n",
    "            \n",
    "            \n"
   ]
  },
  {
   "cell_type": "code",
   "execution_count": 13,
   "metadata": {},
   "outputs": [],
   "source": [
    "assert evaluerNPI(\"8 3 + 5 *\") == 55"
   ]
  },
  {
   "cell_type": "code",
   "execution_count": null,
   "metadata": {},
   "outputs": [],
   "source": []
  }
 ],
 "metadata": {
  "kernelspec": {
   "display_name": "Python 3",
   "language": "python",
   "name": "python3"
  },
  "language_info": {
   "codemirror_mode": {
    "name": "ipython",
    "version": 3
   },
   "file_extension": ".py",
   "mimetype": "text/x-python",
   "name": "python",
   "nbconvert_exporter": "python",
   "pygments_lexer": "ipython3",
   "version": "3.7.6"
  }
 },
 "nbformat": 4,
 "nbformat_minor": 4
}
