{
 "cells": [
  {
   "cell_type": "markdown",
   "metadata": {},
   "source": [
    "# <div align='center'> TP : Implémentation des listes, piles et files avec Python\n",
    "    \n",
    " <div class='alert-info'>\n",
    "     \n",
    "### Objectif : \n",
    "Dans ce TP, on va implémenter en Python les structures de données abstraites linéaires étudiées en cours : les listes, les piles et les files.\n",
    "     \n",
    "Pour cela, on utilisera la plupart du temps les listes Python (tableaux dynamiques) dont la documentation est accessible en cliquant [ici](https://docs.python.org/fr/3/tutorial/datastructures.html).\n",
    "</div> \n",
    "    \n",
    "    \n",
    "## I. Implémentation des listes \n",
    " \n",
    "**Rappel :** Une liste est une structure de données abstraite linéaire permettant de regrouper des données.<br>\n",
    "Par définition de la linéarité de la structure,  une liste correspond donc à une suite finie d'éléments ordonnés.<br>\n",
    "On peut accéder à un de de ses éléments en partant du début, mais sans aucun accès direct à un élément autre que le premier.<br>\n",
    "De plus, une liste est **évolutive** et la place de leurs élément a une grande importance : on peut donc ajouter ou supprimer n'importe quel élément quelque soit leur position (**dynamisme** de la structure) et éventuellement les modifier.\n",
    "    \n",
    "De plus, une liste est composée de deux parties : <br>\n",
    "$\\bullet$ sa **tête** notée *car* , qui correspond au **premier élément** de la liste;<br>\n",
    "$\\bullet$ sa **queue** notée *cdr* , qui correspond au **reste** de la liste.\n",
    "    \n",
    "    \n",
    "### I.1 Implémentation des listes avec les listes Python\n"
   ]
  },
  {
   "cell_type": "markdown",
   "metadata": {},
   "source": [
    "<div class='alert-warning'>\n",
    "    \n",
    "### A faire vous-même 1 \n",
    "\n",
    "\n",
    "Implémenter les méthodes de l'interface de la structure abstraite ``Liste`` vues en cours en complétant les fonctions documentées ci-dessous :\n",
    "\n"
   ]
  },
  {
   "cell_type": "code",
   "execution_count": 48,
   "metadata": {},
   "outputs": [],
   "source": [
    "def creerListe():\n",
    "    \"\"\" Renvoie une liste Python vide\"\"\"    \n",
    "    # YOUR CODE HERE\n",
    "    return []\n"
   ]
  },
  {
   "cell_type": "code",
   "execution_count": 49,
   "metadata": {},
   "outputs": [],
   "source": [
    "def estVide(L) :\n",
    "    \"\"\"L est une liste Python\n",
    "    Renvoie True si L est vide, False sinon\"\"\"\n",
    "    # YOUR CODE HERE\n",
    "    return L == []"
   ]
  },
  {
   "cell_type": "code",
   "execution_count": 50,
   "metadata": {},
   "outputs": [],
   "source": [
    "assert estVide([])\n",
    "assert not estVide([1,4])"
   ]
  },
  {
   "cell_type": "code",
   "execution_count": 51,
   "metadata": {},
   "outputs": [],
   "source": [
    "def ajouteEnTete(x,L):\n",
    "    \"\"\"L est une liste Python et x une valeur\n",
    "    Renvoie la liste L avec l'élément x rajouté en tête de L \"\"\"\n",
    "    # YOUR CODE HERE\n",
    "    L.insert(0,x)\n",
    "    return L\n"
   ]
  },
  {
   "cell_type": "code",
   "execution_count": 52,
   "metadata": {},
   "outputs": [],
   "source": [
    "L = [2,9,12]\n",
    "assert ajouteEnTete(5,L) == [5,2,9,12]\n",
    "assert L == [5,2,9,12]   # La liste L est modifiée"
   ]
  },
  {
   "cell_type": "code",
   "execution_count": 53,
   "metadata": {},
   "outputs": [],
   "source": [
    "def supprEnTete(L) :\n",
    "    \"\"\"L est une liste Python\n",
    "    Renvoie la tête de L qui est supprimé de L\"\"\"\n",
    "    # YOUR CODE HERE\n",
    "    return L.pop(0)"
   ]
  },
  {
   "cell_type": "code",
   "execution_count": 54,
   "metadata": {},
   "outputs": [],
   "source": [
    "L = [5,4,3]\n",
    "assert supprEnTete(L) == 5\n",
    "assert L == [4,3]"
   ]
  },
  {
   "cell_type": "code",
   "execution_count": 55,
   "metadata": {},
   "outputs": [],
   "source": [
    "def taille(L) :\n",
    "    \"\"\"L est une liste Python\n",
    "    Renvoie la taille de L\"\"\"\n",
    "    # YOUR CODE HERE\n",
    "    return len(L)"
   ]
  },
  {
   "cell_type": "code",
   "execution_count": 56,
   "metadata": {},
   "outputs": [],
   "source": [
    "assert taille([5,7,2]) == 3\n",
    "assert taille([9]) == 1\n"
   ]
  },
  {
   "cell_type": "code",
   "execution_count": 57,
   "metadata": {},
   "outputs": [],
   "source": [
    "def cons(x,L) :\n",
    "    \"\"\"L est une liste Python\n",
    "    Renvoie une nouvelle liste ayant pour tête x et pour queue L\"\"\"\n",
    "    # YOUR CODE HERE\n",
    "    return [x] + L"
   ]
  },
  {
   "cell_type": "code",
   "execution_count": 58,
   "metadata": {},
   "outputs": [],
   "source": [
    "L = [2,9,12]\n",
    "assert cons(5,L) == [5,2,9,12]\n",
    "assert L == [2,9,12]               # L n'est pas modifiée"
   ]
  },
  {
   "cell_type": "markdown",
   "metadata": {},
   "source": [
    "### I.2 Implémentation des listes avec les tuples en Python\n",
    "\n",
    "On a vu en cours la représentation de la liste comportant,  dans  cet  ordre,  les  trois  éléments 1, 2 et 4.\n",
    "![](i3.png)\n",
    "Cette représentation de ce type abstrait \"Liste\"  est très proche de la structure de donnée (concrète) des listes chaînées.<br>\n",
    "Les listes chaînées n'étant pas implémentées en Python, on va utiliser la structure des tuples qui va permettre de programmer le type abstrait \"Liste\" d'une façon proche de la représentation du schéma ci-dessus.\n",
    "\n",
    "Voici les méthodes de  l'interface de la structure abstraite ``Liste``  avec cette implémentation (à analyser):"
   ]
  },
  {
   "cell_type": "code",
   "execution_count": 2,
   "metadata": {},
   "outputs": [],
   "source": [
    "def creerVide():\n",
    "    return None\n",
    "\n",
    "def cons(x,L):\n",
    "    return(x,L)\n",
    "\n",
    "def ajouteEnTete(x,L):\n",
    "    return cons(x,L)   # On remarquera que ajouteEnTete(x,L) ne modifie pas cette fois-ci la liste L \n",
    "\n",
    "def supprEnTete(L):\n",
    "    return L[0],L[1]\n",
    "\n",
    "def estVide(L):\n",
    "    return L is None\n",
    "\n",
    "def taille(L):\n",
    "    if estVide(L):\n",
    "        return 0\n",
    "    return 1 + taille(L[1])        # Fonction récursive : elle s'appelle elle-même\n"
   ]
  },
  {
   "cell_type": "markdown",
   "metadata": {},
   "source": [
    "<div class='alert-warning'>\n",
    "    \n",
    "### A faire vous-même 2 : \n",
    "\n",
    "Vérifier le bon fonctionnement de cette implémentation en exécutant ces instructions:\n",
    "- nil = creerVide()\n",
    "- estVide(nil)\n",
    "- L = cons(5, cons(4, cons(3, cons(2, cons(1, cons(0,nil))))))\n",
    "- estVide(L)\n",
    "- afficher taille(L)\n",
    "- L = ajouteEnTete(6,L)\n",
    "- afficher compte(L)\n",
    "- x, L=supprEnTete(L)\n",
    "- x\n",
    "- taille(L)\n",
    "- x, L=supprEnTete(L)\n",
    "- x\n",
    "- taille(L)"
   ]
  },
  {
   "cell_type": "code",
   "execution_count": null,
   "metadata": {},
   "outputs": [],
   "source": []
  },
  {
   "cell_type": "markdown",
   "metadata": {},
   "source": [
    "<div class='alert-warning'>\n",
    "    \n",
    "### A faire vous-même 3 : \n",
    "Construire la liste  des éléments 1,2 et 4 (dans cet ordre) selon le schéma suivant :\n",
    "![](i14.png)\n",
    "    <br>"
   ]
  },
  {
   "cell_type": "code",
   "execution_count": 3,
   "metadata": {},
   "outputs": [
    {
     "data": {
      "text/plain": [
       "(1, (2, (4, None)))"
      ]
     },
     "execution_count": 3,
     "metadata": {},
     "output_type": "execute_result"
    }
   ],
   "source": [
    "#YOUR CODE HERE\n",
    "L = creerVide()\n",
    "cons(1,cons(2,cons(4,L)))"
   ]
  },
  {
   "cell_type": "markdown",
   "metadata": {},
   "source": [
    "## II. Implémentation d'une pile \n",
    "\n",
    "**Rappel :** En informatique,  une **pile** (**stack** en anglais) est une structure de données abstraite fondée sur le principe **LIFO (Last In First Out : dernier entré, premier sorti)**\n",
    "ce qui signifie que le dernier élément ajouté à la pile sera le premier que l'on pourra récupérer.\n",
    "![](i4.png)\n",
    "\n",
    "**N.B. :** Pour stocker les données dans notre pile, nous utiliserons les listes Python.\n",
    "Le dernier élément du tableau sera le sommet de la pile. Seul cet élément sera visible.\n",
    "\n",
    "**Exemple** : Si la pile est représentée en mémoire par le tableau `[2, 3, 5, 8]`, le sommet de la pile sera `8`. Si on dépile le 8, la pile deviendra `[2, 3, 5]` et le sommet de la pile sera 5. Une fois tous les éléments dépilés, la pile sera vide et représentée par `[]`.\n",
    "\n"
   ]
  },
  {
   "cell_type": "markdown",
   "metadata": {},
   "source": [
    "<div class='alert-warning'>\n",
    "    \n",
    "### A faire vous-même 4\n",
    "\n",
    "\n",
    "Implémenter les méthodes de l'interface de la structure abstraite ``Pile`` vues en cours en complétant les fonctions documentées ci-dessous. On utilisera de nouveau la documentation sur les listes Python disponible [ici](https://docs.python.org/fr/3/tutorial/datastructures.html).\n"
   ]
  },
  {
   "cell_type": "code",
   "execution_count": 61,
   "metadata": {},
   "outputs": [],
   "source": [
    "def creerPile():\n",
    "    \"\"\" Renvoie une liste Python vide, i.e une pile vide\"\"\"    \n",
    "    # YOUR CODE HERE\n",
    "    return []"
   ]
  },
  {
   "cell_type": "code",
   "execution_count": 62,
   "metadata": {},
   "outputs": [],
   "source": [
    "def estVide(P) :\n",
    "    \"\"\"P est une liste Python représentant une pile\n",
    "    Renvoie True si P est vide, False sinon\"\"\"\n",
    "    # YOUR CODE HERE\n",
    "    return P == []"
   ]
  },
  {
   "cell_type": "code",
   "execution_count": 63,
   "metadata": {},
   "outputs": [],
   "source": [
    "assert estVide([])\n",
    "assert not estVide([5,2,9])"
   ]
  },
  {
   "cell_type": "code",
   "execution_count": 64,
   "metadata": {},
   "outputs": [],
   "source": [
    "def push(P, x) :\n",
    "    \"\"\"P est une liste Python représentant une pile, x une valeur \n",
    "    Empile la valeur x et ne renvoie rien\"\"\"\n",
    "    # YOUR CODE HERE\n",
    "    P.append(x)\n",
    "    "
   ]
  },
  {
   "cell_type": "code",
   "execution_count": 65,
   "metadata": {},
   "outputs": [],
   "source": [
    "P = [2,3,5,8]\n",
    "push(P,1)\n",
    "assert P == [2,3,5,8,1]"
   ]
  },
  {
   "cell_type": "code",
   "execution_count": 66,
   "metadata": {},
   "outputs": [],
   "source": [
    "def pop(P) :\n",
    "    \"\"\"P est une liste Python représentant une pile\n",
    "    Renvoie le sommet de la pile tout en le supprimant de la pile\"\"\"\n",
    "    # YOUR CODE HERE\n",
    "    return P.pop()"
   ]
  },
  {
   "cell_type": "code",
   "execution_count": 67,
   "metadata": {},
   "outputs": [],
   "source": [
    "P = [5,3,6]\n",
    "assert pop(P) == 6\n",
    "assert P == [5,3]    # Le sommet  de la pile a été supprimé"
   ]
  },
  {
   "cell_type": "code",
   "execution_count": 68,
   "metadata": {},
   "outputs": [],
   "source": [
    "def sommet(P) :\n",
    "    \"\"\"P est une liste Python représentant une pile\n",
    "    Renvoie le sommet de la pile sans le supprimer de la pile\"\"\"\n",
    "    # YOUR CODE HERE\n",
    "    return P[-1]    # ou P[len(P)-1]"
   ]
  },
  {
   "cell_type": "code",
   "execution_count": 69,
   "metadata": {},
   "outputs": [],
   "source": [
    "P = [5,3,6]\n",
    "assert sommet(P) == 6\n",
    "assert P == [5,3,6]   # Le sommet de la pile n'a pas été supprimé"
   ]
  },
  {
   "cell_type": "code",
   "execution_count": 70,
   "metadata": {},
   "outputs": [],
   "source": [
    "def taille(P) :\n",
    "    \"\"\"P est une liste Python représentant une pile\n",
    "    Renvoie la taille de la pile\"\"\"\n",
    "    # YOUR CODE HERE\n",
    "    return len(P)"
   ]
  },
  {
   "cell_type": "code",
   "execution_count": 71,
   "metadata": {},
   "outputs": [],
   "source": [
    "assert taille([4,9,6]) == 3\n",
    "assert taille ([]) == 0"
   ]
  },
  {
   "cell_type": "markdown",
   "metadata": {},
   "source": [
    "## III. Implémentation d'une file \n",
    "\n",
    "**Rappel :** En informatique,  une **file** (**queue** en anglais) est une structure de données abstraite fondée sur le principe **FIFO (First In First Out : premier entré, premier sorti)**\n",
    "ce qui signifie que le premier élément ajouté à la file sera le premier que l'on pourra récupérer.\n",
    "![](i6.png)\n",
    "\n",
    "**N.B. :** Pour stocker les données dans notre file, nous utiliserons les listes Python.\n",
    "- le dernier élément du tableau sera l'avant de la file. Seul cet élément sera visible;\n",
    "- le premier élément du tableau sera l'arrière de la file.\n",
    "\n",
    "**Exemple** : Si la file est représentée en mémoire par le tableau `[2, 3, 5, 8]`, l'avant de la file sera `8` et l'arrière de la file sera 2. Si on enfile 1 (i.e on ajoute 1 à l'arrière de la file) , celle-ci contiendra `[1, 2, 3, 5, 8]`. Une fois tous les éléments défilés, la file sera vide et représentée par `[]`."
   ]
  },
  {
   "cell_type": "markdown",
   "metadata": {},
   "source": [
    "<div class='alert-warning'>\n",
    "    \n",
    "### A faire vous-même 5\n",
    "\n",
    "\n",
    "Implémenter les méthodes de l'interface de la structure abstraite ``File`` vues en cours en complétant les fonctions documentées ci-dessous. On utilisera de nouveau la documentation sur les listes Python disponible [ici](https://docs.python.org/fr/3/tutorial/datastructures.html).\n"
   ]
  },
  {
   "cell_type": "code",
   "execution_count": 72,
   "metadata": {},
   "outputs": [],
   "source": [
    "def creerFile() :\n",
    "    \"\"\" Renvoie une liste Python vide, i.e une file vide\"\"\"    \n",
    "    # YOUR CODE HERE\n",
    "    return []"
   ]
  },
  {
   "cell_type": "code",
   "execution_count": 73,
   "metadata": {},
   "outputs": [],
   "source": [
    "def estVide(F) :\n",
    "    \"\"\"F est une liste Python représentant une file\n",
    "    Renvoie True si F est vide, False sinon\"\"\"\n",
    "    # YOUR CODE HERE\n",
    "    return F == []"
   ]
  },
  {
   "cell_type": "code",
   "execution_count": 74,
   "metadata": {},
   "outputs": [],
   "source": [
    "assert estVide([])\n",
    "assert not estVide([5,2,9])"
   ]
  },
  {
   "cell_type": "code",
   "execution_count": 75,
   "metadata": {},
   "outputs": [],
   "source": [
    "def enfile(F,x) :\n",
    "    \"\"\"F est une liste Python représentant une file, x une valeur \n",
    "    Enfile la valeur x et ne renvoie rien\"\"\"\n",
    "    # YOUR CODE HERE\n",
    "    F.insert(0,x)\n",
    "    "
   ]
  },
  {
   "cell_type": "code",
   "execution_count": 76,
   "metadata": {},
   "outputs": [],
   "source": [
    "F = [2, 3, 5, 8]\n",
    "enfile(F,1)\n",
    "\n",
    "assert F == [1,2, 3, 5, 8]"
   ]
  },
  {
   "cell_type": "code",
   "execution_count": 77,
   "metadata": {},
   "outputs": [],
   "source": [
    "def defile(F) :\n",
    "    \"\"\"F est une liste Python représentant une file, x une valeur \n",
    "    Renvoie le premier élément de la file en le supprimant de la file\"\"\"\n",
    "    # YOUR CODE HERE\n",
    "    return F.pop()"
   ]
  },
  {
   "cell_type": "code",
   "execution_count": 78,
   "metadata": {},
   "outputs": [],
   "source": [
    "F = [2, 3, 5, 8]\n",
    "assert defile(F) == 8\n",
    "assert F == [2,3,5]"
   ]
  },
  {
   "cell_type": "code",
   "execution_count": 79,
   "metadata": {},
   "outputs": [],
   "source": [
    "def premier(F) :\n",
    "    \"\"\"F est une liste Python représentant une file, x une valeur \n",
    "    Renvoie le premier élément de la file sans le supprimant de la file\"\"\"\n",
    "    # YOUR CODE HERE\n",
    "    return F[-1]"
   ]
  },
  {
   "cell_type": "code",
   "execution_count": 80,
   "metadata": {},
   "outputs": [],
   "source": [
    "F = [2, 3, 5, 8]\n",
    "assert premier(F) == 8\n",
    "assert F == [2,3,5,8]"
   ]
  },
  {
   "cell_type": "code",
   "execution_count": 81,
   "metadata": {},
   "outputs": [],
   "source": [
    "def taille(F) :\n",
    "    \"\"\"F est une liste Python représentant une file, x une valeur \n",
    "    Renvoie la taille de la file\"\"\"\n",
    "    # YOUR CODE HERE\n",
    "    return len(F)"
   ]
  },
  {
   "cell_type": "code",
   "execution_count": 82,
   "metadata": {},
   "outputs": [],
   "source": [
    "assert taille([4,9,6]) == 3\n",
    "assert taille ([]) == 0"
   ]
  },
  {
   "cell_type": "code",
   "execution_count": null,
   "metadata": {},
   "outputs": [],
   "source": []
  }
 ],
 "metadata": {
  "kernelspec": {
   "display_name": "Python 3",
   "language": "python",
   "name": "python3"
  },
  "language_info": {
   "codemirror_mode": {
    "name": "ipython",
    "version": 3
   },
   "file_extension": ".py",
   "mimetype": "text/x-python",
   "name": "python",
   "nbconvert_exporter": "python",
   "pygments_lexer": "ipython3",
   "version": "3.7.6"
  }
 },
 "nbformat": 4,
 "nbformat_minor": 4
}
