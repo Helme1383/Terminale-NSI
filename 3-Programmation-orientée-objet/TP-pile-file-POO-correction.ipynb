{
 "cells": [
  {
   "cell_type": "markdown",
   "metadata": {},
   "source": [
    "# <div align='center'> TP : Implémentation des piles et des files avec la POO\n",
    "</div>\n",
    "    \n",
    "## I. Cas des piles non bornées (piles à capacité infinie)\n",
    "<br>\n",
    "\n",
    "<br>\n",
    "\n",
    "    \n",
    "<div class ='alert-info'>\n",
    "    \n",
    "    \n",
    "**N.B. :** Dans un TP du chapitre 1, on avait utilisé les tableaux (listes Python) pour implémenter et ainsi simuler le comportement de la structure abstraite Pile. <br>\n",
    "Mais en faisant cela, on peut être tenté d'utiliser des fonctionnalités du tableau qui ne sont pas possibles avec une vraie pile comme accéder au premier élément de la pile en faisant ``pile[0]``.\n",
    "    \n",
    "    \n",
    "La POO  va nous permettre de créer une classe ``Pile`` qui va se comporter exactement comme on le souhaite.\n",
    "    \n",
    "On va ainsi créer la classe Pile (non bornée, c'est-à-dire de capacité infinie et donc on pourra empiler autant d'éléments que l'on veut) dont les attributs et les méthodes sont résumés dans le schéma ci-dessous.\n",
    "    ![](i6.png)\n",
    "<br>\n",
    "    </div>\n",
    "<br>\n",
    "    <br>\n",
    "    \n",
    "<div class ='alert-success'>\n",
    "        \n",
    "**Remarque importante :** Pour simuler au mieux le comportement de la pile, l'attribut ``tableau`` représentant l'état de la pile sera **privé.** <br>\n",
    "Ainsi, on ne pourra pas accéder à ses éléments autre que le sommet via la méthode ``sommet()`` ou la méthode``pop()`` comme une vraie pile...\n",
    "    </div>\n",
    "<br>\n",
    "    <br>\n",
    "<div class ='alert-warning'>\n",
    "    \n",
    "    \n",
    "### A faire vous-même 1 :\n",
    "    \n",
    "1. Compléter alors la classe Pile en tenant compte de la documentation."
   ]
  },
  {
   "cell_type": "code",
   "execution_count": 7,
   "metadata": {},
   "outputs": [],
   "source": [
    "class Pile:\n",
    "    \"\"\"Classe Pile non bornée\"\"\"\n",
    "\n",
    "    def __init__(self):\n",
    "        \"\"\"Initialisation d'une pile vide\"\"\"\n",
    "        self.__tableau = []\n",
    "        self.taille = 0\n",
    "\n",
    "    def estVide(self) :\n",
    "        \"\"\"Teste si la pile est vide\"\"\"\n",
    "        return self.__tableau == []\n",
    "\n",
    "    def push(self, x):\n",
    "        \"\"\"Empile la valeur x et ne renvoie rien\"\"\"\n",
    "        self.taille += 1\n",
    "        self.__tableau.append(x)\n",
    "        \n",
    "    def pop(self):\n",
    "        \"\"\"Renvoie le sommet de la pile tout en le supprimant de la pile\n",
    "        Afficher un message d'erreur si la pile est vide\"\"\"\n",
    "        if self.estVide() :\n",
    "            print( \"Attention, vous dépilez sur une pile déjà vide!\")\n",
    "        else :\n",
    "            self.taille -= 1\n",
    "            return self.__tableau.pop()  # Renvoie le dernier élément de la pile\n",
    "\n",
    "    def sommet(self) :\n",
    "        \"\"\"Renvoie le sommet de la pile sans le supprimer de la pile\n",
    "        Affiche un message de prévention si la pile est vide\"\"\"\n",
    "        if self.estVide() :\n",
    "            print(\"la pile est vide\")\n",
    "        else :\n",
    "            return self.__tableau[-1]\n",
    "        \n",
    "    def __str__(self):\n",
    "        \"\"\"affiche l'état de la pile avec print\"\"\"\n",
    "        return str(self.__tableau)\n",
    "    \n"
   ]
  },
  {
   "cell_type": "markdown",
   "metadata": {},
   "source": [
    "<div class ='alert-warning'>\n",
    "  \n",
    "    \n",
    "2. Analyser et exécuter les instructions ci-dessous"
   ]
  },
  {
   "cell_type": "code",
   "execution_count": 8,
   "metadata": {},
   "outputs": [
    {
     "name": "stdout",
     "output_type": "stream",
     "text": [
      "[7, 3]\n",
      "Attention, vous dépilez sur une pile déjà vide!\n"
     ]
    }
   ],
   "source": [
    "# Exemple et tests à analyser et à exécuter\n",
    "\n",
    "p = Pile()\n",
    "p.push(7)\n",
    "p.push(3)\n",
    "p.push(9)\n",
    "p.pop()\n",
    "\n",
    "print(p)\n",
    "\n",
    "assert p.taille == 2\n",
    "assert not p.estVide()\n",
    "assert p.sommet() == 3\n",
    "assert not p.estVide()\n",
    "assert p.pop() == 3\n",
    "assert p.pop() == 7\n",
    "assert p.taille == 0\n",
    "assert p.estVide()\n",
    "p.pop()\n",
    "\n",
    " \n"
   ]
  },
  {
   "cell_type": "markdown",
   "metadata": {},
   "source": [
    "<div class ='alert-success'>\n",
    "\n",
    "**Remarque :** On pourra remarquer que l'on n'a accès qu'au sommet de la pile via la méthode ``sommet()`` ou ``pop()`` (comme une vraie pile donc...)"
   ]
  },
  {
   "cell_type": "code",
   "execution_count": 9,
   "metadata": {},
   "outputs": [
    {
     "name": "stdout",
     "output_type": "stream",
     "text": [
      "[7, 3, 9]\n",
      "9\n"
     ]
    },
    {
     "ename": "AttributeError",
     "evalue": "'Pile' object has no attribute '__tableau'",
     "output_type": "error",
     "traceback": [
      "\u001b[1;31m---------------------------------------------------------------------------\u001b[0m",
      "\u001b[1;31mAttributeError\u001b[0m                            Traceback (most recent call last)",
      "\u001b[1;32m<ipython-input-9-ecee950a5ed2>\u001b[0m in \u001b[0;36m<module>\u001b[1;34m\u001b[0m\n\u001b[0;32m      7\u001b[0m \u001b[0mprint\u001b[0m\u001b[1;33m(\u001b[0m\u001b[0mp\u001b[0m\u001b[1;33m.\u001b[0m\u001b[0msommet\u001b[0m\u001b[1;33m(\u001b[0m\u001b[1;33m)\u001b[0m\u001b[1;33m)\u001b[0m\u001b[1;33m\u001b[0m\u001b[1;33m\u001b[0m\u001b[0m\n\u001b[0;32m      8\u001b[0m \u001b[1;33m\u001b[0m\u001b[0m\n\u001b[1;32m----> 9\u001b[1;33m \u001b[0mp\u001b[0m\u001b[1;33m.\u001b[0m\u001b[0m__tableau\u001b[0m \u001b[1;33m[\u001b[0m\u001b[1;36m0\u001b[0m\u001b[1;33m]\u001b[0m\u001b[1;33m\u001b[0m\u001b[1;33m\u001b[0m\u001b[0m\n\u001b[0m",
      "\u001b[1;31mAttributeError\u001b[0m: 'Pile' object has no attribute '__tableau'"
     ]
    }
   ],
   "source": [
    "p.push(7)\n",
    "p.push(3)\n",
    "p.push(9)\n",
    "\n",
    "print(p)\n",
    "\n",
    "print(p.sommet())\n",
    "\n",
    "p.__tableau [0]"
   ]
  },
  {
   "cell_type": "markdown",
   "metadata": {},
   "source": [
    "## II. Piles bornées  (piles à capacité finie)\n",
    "<br>\n",
    "<br>\n",
    "<div class ='alert-info'>\n",
    "    \n",
    "**N.B. :** Les piles à capacité infinie sont des objets idéaux.<br>\n",
    "En effet, dans la réalité, en informatique, une pile est à capacité finie : Pensez par exemple à la pile d'exécution limitée en général à 1000 appels récursifs en Python.\n",
    "\n",
    "Pour les piles à capacité finie, nous avons  choisi d’utiliser un tableau de taille ``N`` et un autre entier à part pour gérer la taille de la pile.<br>\n",
    "Plus précisément, nous allons créer  une classe ayant pour attribut :\n",
    "- ``tableau`` représentant l'état de la pile bornée\n",
    "- ``capacité`` représentant le nombre d'élément du tableau\n",
    "_ ``taille`` représentant la taille de la pile, c'est-à-dire le nombre d'éléments empilés.\n",
    "\n",
    "Les méthodes de cette classe  seront : \n",
    "- ``__init__()``\n",
    "- ``estVide()``\n",
    "- ``estPleine()``\n",
    "- ``push()``\n",
    "- ``pop()``\n",
    "- ``sommet()``\n",
    "- ``__str__()``\n",
    "</div>\n",
    "<br>\n",
    "<br>\n",
    "\n",
    "<div class ='alert-warning'>\n",
    "    \n",
    "    \n",
    "### A faire vous-même 2 :\n",
    "    \n",
    "Compléter alors cette classe Pile (non bornée) en tenant compte de la documentation ci-dessous :\n",
    "\n",
    "\n"
   ]
  },
  {
   "cell_type": "code",
   "execution_count": 10,
   "metadata": {},
   "outputs": [],
   "source": [
    "class Pile:\n",
    "    \"\"\"Classe Pile non bornée\"\"\"\n",
    "\n",
    "    def __init__(self, N):\n",
    "        \"\"\"Initialisation d'une pile vide\"\"\"\n",
    "        self.__tableau = [None]*N\n",
    "        self.capacite = N\n",
    "        self.taille = 0\n",
    "\n",
    "    def estVide(self) :\n",
    "        \"\"\"Teste si la pile est vide\"\"\"\n",
    "        return self.taille == 0\n",
    "    \n",
    "    def estPleine(self) :\n",
    "        \"\"\"Teste si la pile est pleine\"\"\"\n",
    "        return self.taille == self.capacite\n",
    "\n",
    "    def push(self, x):\n",
    "        \"\"\"Empile la valeur x et ne renvoie rien\"\"\"\n",
    "        \"\"\"Affiche un message d'alerte si la pile est déjà pleine\"\"\"\n",
    "        if self.estPleine() : \n",
    "            print (\"vous empilez sur une pile déjà pleine !\")\n",
    "        else :\n",
    "            self.taille += 1\n",
    "            self.__tableau[self.taille - 1] = x\n",
    "        \n",
    "        \n",
    "    def pop(self):\n",
    "        \"\"\"Renvoie le sommet de la pile tout en le supprimant de la pile\n",
    "        Afficher un message d'erreur si la pile est vide\"\"\"\n",
    "        if self.estVide() :\n",
    "            print( \"Attention, vous dépilez sur une pile déjà vide!\")\n",
    "        else :\n",
    "            sommet = self.__tableau[self.taille - 1]\n",
    "            self.__tableau[self.taille - 1] = None\n",
    "            self.taille -= 1\n",
    "            return sommet\n",
    "\n",
    "    def sommet(self) :\n",
    "        \"\"\"Renvoie le sommet de la pile sans le supprimer de la pile\n",
    "        Affiche un message de prévention si la pile est vide\"\"\"\n",
    "        if self.estVide() :\n",
    "            print(\"la pile est vide\")\n",
    "        else :\n",
    "            return self.__tableau[self.taille - 1]\n",
    "        \n",
    "    def __str__(self):\n",
    "        \"\"\"affiche l'état de la pile avec print\"\"\"\n",
    "        return str(self.__tableau)\n",
    "    "
   ]
  },
  {
   "cell_type": "code",
   "execution_count": 11,
   "metadata": {},
   "outputs": [
    {
     "name": "stdout",
     "output_type": "stream",
     "text": [
      "[None, None, None, None, None]\n",
      "4\n",
      "la pile est vide\n"
     ]
    }
   ],
   "source": [
    "p = Pile (5)\n",
    "print(p)\n",
    "p.push(8)\n",
    "p.push(4)\n",
    "print(p.pop())\n",
    "p.pop()\n",
    "p.estVide()\n",
    "p.sommet()"
   ]
  },
  {
   "cell_type": "markdown",
   "metadata": {},
   "source": [
    "## III. Implémentation de la classe File à l'aide des tableaux\n",
    "<br>\n",
    "<br>\n",
    "<div class ='alert-info'>\n",
    "    \n",
    "**N.B. :** De la même façon que dans le I., nous allons implémenter la structure abstraite File (non bornée) en créant une classe et en utilisant les tableaux Python.\n",
    "![](i6-bis.png)\n",
    "    </div>\n",
    "<br>\n",
    "<br>\n",
    "<div class ='alert-warning'>\n",
    "    \n",
    "### A faire vous-même 3 :\n",
    "    \n",
    "1. Compléter alors la classe File  en tenant compte de la documentation ci-dessous"
   ]
  },
  {
   "cell_type": "code",
   "execution_count": 12,
   "metadata": {},
   "outputs": [],
   "source": [
    "class File :\n",
    "    \"\"\"Création de la classe File (non bornée)\"\"\"\n",
    "    def __init__(self):\n",
    "        \"\"\"Initialisation d'une file vide\"\"\"\n",
    "        self.__tableau = []     # __tableau est un attribut privé\n",
    "        self.taille = 0\n",
    "\n",
    "    def estVide(self) :\n",
    "        \"\"\"Teste si la file est vide\"\"\"\n",
    "        return self.__tableau == []\n",
    "\n",
    "    def enfile(self, x):\n",
    "        \"\"\"Enfile la valeur x en queue de file et ne renvoie rien\"\"\"\n",
    "        self.taille += 1\n",
    "        self.__tableau.insert(0,x)\n",
    "        \n",
    "    def defile(self):\n",
    "        \"\"\"Renvoie le premier élément de la file (tête de la file) en le supprimant de la file\n",
    "        Afficher un message d'erreur si la file est vide\"\"\"\n",
    "        if self.estVide() :\n",
    "            print( \"Attention, vous défilez sur une file déjà vide!\")\n",
    "        else :\n",
    "            self.taille -= 1\n",
    "            return self.__tableau.pop()  # Renvoie le premier élément de la file\n",
    "\n",
    "    def premier(self) :\n",
    "        \"\"\"Renvoie le premier élément de la file sans le supprimer de la file\n",
    "        Affiche un message de prévention si la file est vide\"\"\"\n",
    "        if self.estVide() :\n",
    "            print(\"la file est vide\")\n",
    "        else :\n",
    "            return self.__tableau[-1]\n",
    "        \n",
    "    def __str__(self):\n",
    "        \"\"\"affiche l'état de la file avec print\"\"\"\n",
    "        return str(self.__tableau)"
   ]
  },
  {
   "cell_type": "markdown",
   "metadata": {},
   "source": [
    "<div class ='alert-warning'>\n",
    "\n",
    "2. Analyser et exécuter les instructions ci-dessous."
   ]
  },
  {
   "cell_type": "code",
   "execution_count": 13,
   "metadata": {},
   "outputs": [
    {
     "name": "stdout",
     "output_type": "stream",
     "text": [
      "[5, 3, 9]\n",
      "Attention, vous défilez sur une file déjà vide!\n"
     ]
    },
    {
     "data": {
      "text/plain": [
       "True"
      ]
     },
     "execution_count": 13,
     "metadata": {},
     "output_type": "execute_result"
    }
   ],
   "source": [
    "F = File()\n",
    "F.enfile(9)\n",
    "F.enfile(3)\n",
    "F.enfile(5)\n",
    "print(F)\n",
    "assert F.premier() == 9\n",
    "F.defile()\n",
    "assert F.taille == 2\n",
    "assert F.defile() == 3\n",
    "F.defile()\n",
    "F.defile()\n",
    "F.estVide()"
   ]
  },
  {
   "cell_type": "markdown",
   "metadata": {},
   "source": [
    "## IV. Implémentation d'une file à l'aide deux piles\n",
    "<br>\n",
    "<br>\n",
    "<div class ='alert-info'>\n",
    "\n",
    "**N.B. :** On va implémenter une file à l'aide de deux piles.<br>\n",
    "\n",
    "\n",
    "On aura donc besoin de la classe ``Pile`` non bornée que l'on a étudiée précédemment et dont on redonne l'implémentation ci-dessous :\n",
    "<br>\n",
    "<br>\n"
   ]
  },
  {
   "cell_type": "code",
   "execution_count": 14,
   "metadata": {},
   "outputs": [],
   "source": [
    "class Pile:\n",
    "    \"\"\"Classe Pile non bornée\"\"\"\n",
    "\n",
    "    def __init__(self):\n",
    "        \"\"\"Initialisation d'une pile vide\"\"\"\n",
    "        self.__tableau = []\n",
    "        self.taille = 0\n",
    "\n",
    "    def estVide(self) :\n",
    "        \"\"\"Teste si la pile est vide\"\"\"\n",
    "        return self.__tableau == []\n",
    "\n",
    "    def push(self, x):\n",
    "        \"\"\"Empile la valeur x et ne renvoie rien\"\"\"\n",
    "        self.taille += 1\n",
    "        self.__tableau.append(x)\n",
    "        \n",
    "    def pop(self):\n",
    "        \"\"\"Renvoie le sommet de la pile tout en le supprimant de la pile\n",
    "        Afficher un message d'erreur si la pile est vide\"\"\"\n",
    "        if self.estVide() :\n",
    "            print( \"Attention, vous dépilez sur une pile déjà vide!\")\n",
    "        else :\n",
    "            self.taille -= 1\n",
    "            return self.__tableau.pop()  # Renvoie le dernier élément de la pile\n",
    "\n",
    "    def sommet(self) :\n",
    "        \"\"\"Renvoie le sommet de la pile sans le supprimer de la pile\n",
    "        Affiche un message de prévention si la pile est vide\"\"\"\n",
    "        if self.estVide() :\n",
    "            print(\"la pile est vide\")\n",
    "        else :\n",
    "            return self.__tableau[-1]\n",
    "        \n",
    "    def __str__(self):\n",
    "        \"\"\"affiche l'état de la pile avec print\"\"\"\n",
    "        return str(self.__tableau)\n",
    "    \n"
   ]
  },
  {
   "cell_type": "markdown",
   "metadata": {},
   "source": [
    "<div class ='alert-info'>\n",
    "\n",
    "\n",
    "**N.B. :** Pour implémenter une file à l'aide de deux piles,  on va écrire une classe File dont les attributs seront :\n",
    "- deux instances d'une classe Pile (non bornée)\n",
    "- ``taille`` représentant la taille de la file, c'est-à-dire le nombre d'éléments enfilés.\n",
    "\n",
    "**Principe :** \n",
    "- Pour enfiler un élément dans une file à l'aide de deux piles, cela se traduit par :\n",
    "<br>\n",
    "le placement de cet élément sur la première pile.\n",
    "<br>\n",
    "- Pour défiler un élément dans une file à l'aide de deux piles, cela se traduit par :\n",
    "le retrait de de cet élément de la deuxième pile si elle n'est pas vide.<br>\n",
    "Sinon, on dépile préalablement tous les éléments de la première pile, que l'on empile sur la deuxième."
   ]
  },
  {
   "cell_type": "markdown",
   "metadata": {},
   "source": [
    "<div class ='alert-warning'>\n",
    "\n",
    "\n",
    "### A faire vous-même 4 :\n",
    "\n",
    "Considérons les deux piles ``P1 =[3,4,5,6]`` et ``P2 =[2,1]`` représentant les numéros de clients correspondant à leur position dans une file d'attente.<br>\n",
    "Pour vérifier et ainsi vous convaincre  le principe décrit ci-dessus simule bien le comportement d'une file F,<br>\n",
    "utiliser ce principe \"à la main\" (à l'aide de schéma) pour réaliser les opérations suivantes :\n",
    "- ``F.enfile (7)``\n",
    "- ``F.defile()``\n",
    "- ``F.defile()``\n",
    "- ``F.defile()``"
   ]
  },
  {
   "cell_type": "markdown",
   "metadata": {},
   "source": [
    "<div class ='alert-warning'>\n",
    "\n",
    "\n",
    "### A faire vous-même 5 :\n",
    "\n",
    "1. Maintenant que vous êtes convaincu de ce principe, implémenter la classe ``File`` à l'aide de deux piles en tenant compte de la documentation ci-dessous : "
   ]
  },
  {
   "cell_type": "code",
   "execution_count": 15,
   "metadata": {},
   "outputs": [],
   "source": [
    "class File :\n",
    "    \"\"\"Création de la classe File à l'aide de deux piles)\"\"\"\n",
    "    def __init__(self):\n",
    "        \"\"\"Initialisation d'une file vide à l'aide deux piles viles\"\"\"\n",
    "        self.p1 = Pile()     #  Création de la premiere pile p1 vide\n",
    "        self.p2 = Pile()     # Création de la deuxieme pile p2 vide\n",
    "        self.taille = 0\n",
    "\n",
    "    def fileVide(self) :\n",
    "        \"\"\"Teste si la file est vide\"\"\"\n",
    "        return self.p1.estVide() and self.p2.estVide()\n",
    "\n",
    "    def enfile(self, x):\n",
    "        \"\"\"Empile la valeur x dans la pile p1  et ne renvoie rien\"\"\"\n",
    "        self.taille += 1\n",
    "        self.p1.push(x)\n",
    "         \n",
    "        \n",
    "    def defile(self):\n",
    "        \"\"\"Renvoie l'élément selon principe décrit ci-dessus\"\"\"\n",
    "        if self.fileVide() :\n",
    "            print( \"Attention, vous défilez sur une file déjà vide!\")\n",
    "        else :\n",
    "            if self.p2.estVide():\n",
    "                while not self.p1.estVide() :\n",
    "                    self.p2.push(self.p1.pop())\n",
    "            self.taille -= 1\n",
    "            return self.p2.pop()  \n",
    "\n",
    "    def premier(self) :\n",
    "        \"\"\"Renvoie le premier élément de la file selon le principe ci-dessus\"\"\"\n",
    "        if self.fileVide() :\n",
    "            print(\"la file est vide\")\n",
    "        else :\n",
    "            if self.p2.estVide():\n",
    "                while not self.p1.estVide() :\n",
    "                    self.p2.push(self.p1.pop()) \n",
    "            return self.p2.sommet()\n",
    "        \n",
    "    def __str__(self):\n",
    "        \"\"\"affiche l'état de la file avec print\"\"\"\n",
    "        return \"p1 = \" + str(self.p1) + \"; p2 = \" +str(self.p2)"
   ]
  },
  {
   "cell_type": "markdown",
   "metadata": {},
   "source": [
    "<div class ='alert-warning'>\n",
    "\n",
    "2. Analyser et exécuter les instructions ci-dessous."
   ]
  },
  {
   "cell_type": "code",
   "execution_count": 16,
   "metadata": {},
   "outputs": [
    {
     "name": "stdout",
     "output_type": "stream",
     "text": [
      "p1 = [9, 3, 5]; p2 = []\n",
      "3\n",
      "p1 = []; p2 = [5, 3]\n",
      "2\n",
      "2\n",
      "p1 = []; p2 = [5]\n",
      "Attention, vous défilez sur une file déjà vide!\n"
     ]
    },
    {
     "data": {
      "text/plain": [
       "True"
      ]
     },
     "execution_count": 16,
     "metadata": {},
     "output_type": "execute_result"
    }
   ],
   "source": [
    "F = File()\n",
    "F.enfile(9)\n",
    "F.enfile(3)\n",
    "F.enfile(5)\n",
    "print(F)\n",
    "print(F.taille)\n",
    "assert F.premier() == 9\n",
    "F.defile()\n",
    "print(F)\n",
    "print(F.taille)\n",
    "print(F.p2.taille)\n",
    "assert F.defile() == 3\n",
    "print(F)\n",
    "F.defile()\n",
    "F.defile()\n",
    "F.fileVide()"
   ]
  }
 ],
 "metadata": {
  "kernelspec": {
   "display_name": "Python 3",
   "language": "python",
   "name": "python3"
  },
  "language_info": {
   "codemirror_mode": {
    "name": "ipython",
    "version": 3
   },
   "file_extension": ".py",
   "mimetype": "text/x-python",
   "name": "python",
   "nbconvert_exporter": "python",
   "pygments_lexer": "ipython3",
   "version": "3.8.3"
  }
 },
 "nbformat": 4,
 "nbformat_minor": 4
}
