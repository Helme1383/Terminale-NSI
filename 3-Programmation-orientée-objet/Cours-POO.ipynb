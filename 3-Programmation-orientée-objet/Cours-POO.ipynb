{
 "cells": [
  {
   "cell_type": "markdown",
   "metadata": {},
   "source": [
    "# <div align='center'> Notebook Cours : Programmation orientée objet (POO)\n",
    "\n",
    "<div class='alert-info'>\n",
    "            \n",
    "**N.B. :** Comme nous l'avons dit précédemment, nous avons déjà manipulé en première des objets en Python sans que l'on le sache comme les tableaux faisant partie de la classe ``list`` .<br>\n",
    "Observons ça de plus près.\n",
    "    </div>\n",
    "    <br> \n",
    "    <br>\n",
    "\n",
    "\n",
    "<div class='alert-danger'>\n",
    "    \n",
    "Pour cela parcourez le notebook en exécutant les cellules au fur et à mesure  et en analysant les commentaires associés.\n",
    "    \n",
    "    "
   ]
  },
  {
   "cell_type": "markdown",
   "metadata": {},
   "source": [
    "## I. Des objets en Python que l'on a déjà manipulés"
   ]
  },
  {
   "cell_type": "code",
   "execution_count": null,
   "metadata": {},
   "outputs": [],
   "source": [
    "tab = [5,3,8,13]"
   ]
  },
  {
   "cell_type": "code",
   "execution_count": null,
   "metadata": {},
   "outputs": [],
   "source": [
    "type(tab)"
   ]
  },
  {
   "cell_type": "markdown",
   "metadata": {},
   "source": [
    "<div class='alert-info'>\n",
    "    \n",
    "``tab`` est un tableau, ou plus précisément un **objet** de la classe ```list```. Et en tant qu'objet de la classe ```list```, il est possible de lui appliquer certaines fonctions prédéfinies, qu'on appelera **méthodes** :"
   ]
  },
  {
   "cell_type": "code",
   "execution_count": null,
   "metadata": {},
   "outputs": [],
   "source": [
    "tab.reverse()"
   ]
  },
  {
   "cell_type": "markdown",
   "metadata": {},
   "source": [
    "<div class='alert-info'>\n",
    "    \n",
    "La notation pointée (le . après le nom de l'objet) est spécifique à la POO. Chaque fois que vous voyez cela, c'est que vous êtes en train de manipuler des objets. \n",
    "    </div>\n",
    "<br>\n",
    "\n",
    "<div class='alert-warning'>\n",
    "    \n",
    "Mais qu'a donc fait cette méthode ``reverse()`` ?   "
   ]
  },
  {
   "cell_type": "code",
   "execution_count": null,
   "metadata": {},
   "outputs": [],
   "source": [
    "tab"
   ]
  },
  {
   "cell_type": "markdown",
   "metadata": {},
   "source": [
    "<div class='alert-info'>\n",
    "    \n",
    "Nous ne sommes pas surpris par ce résultat car la personne qui a programmé la méthode ```reverse()``` lui a donné un nom explicite.  \n",
    "    \n",
    "Comment a-t-elle programmé cette inversion des valeurs du tableau ? Nous n'en savons rien et cela ne nous intéresse pas. Nous sommes juste utilisateurs de cette méthode.\n",
    "\n",
    "    \n",
    "L'objet ``tab`` de la classe ```list``` nous a été livré avec sa méthode ```reverse()``` (et bien d'autres choses) et nous n'avons pas à démonter la boîte pour en observer les engrenages : on parle de principe d'**encapsulation** (que l'on avait déjà évoqué dans le cours manuscrit)"
   ]
  },
  {
   "cell_type": "markdown",
   "metadata": {},
   "source": [
    "<div class='alert-warning'>\n",
    "\n",
    "On peut obtenir la liste de toutes les fonctions disponibles pour un objet de la classe ```list```, par la fonction ```dir``` :"
   ]
  },
  {
   "cell_type": "code",
   "execution_count": null,
   "metadata": {},
   "outputs": [],
   "source": [
    "dir(tab)"
   ]
  },
  {
   "cell_type": "markdown",
   "metadata": {},
   "source": [
    "Les méthodes encadrées par un double underscore __ sont des **méthodes spéciales**, c'est-à-dire des  méthodes qui peuvent se lancer toutes seules par rapport à des instructions spécifiques de l'utilisateur.\n",
    "<br> Par exemple, si l'utilisateur veut faire l'addition de deux objets d'une même classe, l'instruction ``objet1 + objet2``va déclencher dans l'interpréteur Python la méthode spéciale  ``__add__ `` qui permettra de faire cette addition.\n",
    "<br>\n",
    "<br>\n",
    "\n",
    "<div class='alert-success'>\n",
    "    \n",
    "**Remarque :** Les méthodes spéciales dépassent le cadre du programme de Terminale NSI. On y reviendra juste sur l'une d'entre-elle : la méthode spéciale ``__str__``.\n",
    "<br>\n",
    "<br>\n",
    "\n",
    "<div class='alert-info'>\n",
    "    \n",
    "**N.B. :** Les méthodes sans les underscore sont les méthodes **publiques**.<br>\n",
    "L'utilisateur pourra directement les utiliser pour chaque objet de la classe  ```list```.<br>\n",
    "Celles-ci sont donc : ``append``, ```clear```, ..., ``sort``.  \n",
    "\n"
   ]
  },
  {
   "cell_type": "markdown",
   "metadata": {},
   "source": [
    "<div class='alert-warning'>\n",
    "\n",
    "Comment savoir ce que font les méthodes ? Si elles ont été correctement codées (et elles l'ont été), elles possèdent une **_docstring_** (ce sont les commentaires que vous mettez entre des triples guillemets après la ligne d'entête de la fonction), accessible par :"
   ]
  },
  {
   "cell_type": "code",
   "execution_count": null,
   "metadata": {},
   "outputs": [],
   "source": [
    "tab.append.__doc__"
   ]
  },
  {
   "cell_type": "code",
   "execution_count": null,
   "metadata": {},
   "outputs": [],
   "source": [
    "tab.reverse.__doc__"
   ]
  },
  {
   "cell_type": "code",
   "execution_count": null,
   "metadata": {},
   "outputs": [],
   "source": [
    "tab.sort.__doc__"
   ]
  },
  {
   "cell_type": "markdown",
   "metadata": {},
   "source": [
    "<div class='alert-success'>\n",
    "\n",
    "**Remarque n°1 :** Vous remarquerez que lorsque vous appliquez une méthode sur un objet, l'objet est modifié en place, c'est-à-dire que l'objet est directement modifié et qu'il reste dans la même case mémoire de l'ordinateur. Il n'y a donc pas de copie de l'objet initial lorsque vous lui appliquez une méthode.\n",
    "\n",
    "**Remarque n°2 :** ``__doc__`` est une méthode spéciale (qui est bien présente dans la classe ``list``) qui permet donc d'avoir des informations sur la méthode appliquée sur l'objet.<br>\n",
    "La syntaxe sera toujours ``nom_objet.nom_methode.__doc__``.\n",
    "\n",
    "**Remarque n°3 :** On peut également avoir des renseignements sur la classe de l'objet et sur la méthode appliquée à l'objet avec la fonction ``help``.<br>\n",
    "Les instructions correspondantes sont : ``help(nom_classe_objet)`` et ``help(nom_objet.nom_methode)``\n",
    "\n"
   ]
  },
  {
   "cell_type": "code",
   "execution_count": null,
   "metadata": {},
   "outputs": [],
   "source": [
    "help(list)"
   ]
  },
  {
   "cell_type": "code",
   "execution_count": null,
   "metadata": {},
   "outputs": [],
   "source": [
    "help(tab.sort)"
   ]
  },
  {
   "cell_type": "markdown",
   "metadata": {},
   "source": [
    "<div class='alert-warning'>\n",
    "    \n",
    "Pour les objets de la classe ``str`` (chaîne de caractères)"
   ]
  },
  {
   "cell_type": "code",
   "execution_count": null,
   "metadata": {},
   "outputs": [],
   "source": [
    "help(str)"
   ]
  },
  {
   "cell_type": "code",
   "execution_count": null,
   "metadata": {},
   "outputs": [],
   "source": [
    "ch = \"hello\"\n",
    "\n",
    "dir(ch)"
   ]
  },
  {
   "cell_type": "markdown",
   "metadata": {},
   "source": [
    "## II. Créer sa propre classe d'objets\n",
    "\n",
    "### II.1 Vocabulaire de la POO : classe, instance, attributs, méthodes"
   ]
  },
  {
   "cell_type": "markdown",
   "metadata": {},
   "source": [
    "<div class='alert-info'>\n",
    "\n",
    "**Définition :** En POO, une **classe**  est une structure de données définissant une catégorie générique d'objets. \n",
    "</div>\n",
    "<br>\n",
    "\n",
    "<br>\n",
    "<div class='alert-warning'>\n",
    "    \n",
    "**Exemple :** Dans le monde animal, _chat_ est une classe (nommée en réalité _félidé_ ).  \n",
    "Chaque élement de la classe _chat_ va se distinguer par des caractéristiques : \n",
    "- un âge, une couleur de pelage, un surnom... \n",
    "- et des fonctionnalités, comme la fonction  ```attrape_souris()```. \n",
    "    </div>\n",
    "<br>\n",
    "<br>\n",
    "\n",
    "<div class='alert-info'>\n",
    "    \n",
    "**Vocabulaire :** En POO,\n",
    "- chaque élément, chaque représentant d'une classe est appelé un **objet** ou une instance de la classe correspondante;\n",
    "- les caractéristiques, les propriétés d'une classe sont appelés des **attributs**;\n",
    "- les fonctions associées à une classe sont appelées des **méthodes.**\n",
    "</div>\n",
    "<br>\n",
    "<br>\n",
    "<div class='alert-warning'>\n",
    "    \n",
    "**Exemple :** Si on reprend, l'exemple de la classe Chat, on peut la résumer par le schéma ci-dessous : \n",
    "![](i4.png)\n",
    "\n",
    "On y a représenté de plus deux objets (bien réels) ou deux instances de cette classe Chat : Félix et Chipie."
   ]
  },
  {
   "cell_type": "markdown",
   "metadata": {},
   "source": [
    "### II.2 Créer sa propre classe en Python\n",
    "\n",
    "### a) La méthode minimale (mauvaise méthode)\n",
    "<br>\n",
    "<br>\n",
    "<div class='alert-warning'>\n",
    "\n",
    "**Exemple :** Créons une classe \"voiture\" en Python. Pour cela, il suffit d'écrire :\n",
    "\n"
   ]
  },
  {
   "cell_type": "code",
   "execution_count": null,
   "metadata": {},
   "outputs": [],
   "source": [
    "class Voiture :\n",
    "    pass            # pass signifie ne fait rien.\n",
    "                    # Pour l'instant, il n'y a rien dans la déclaration de la classe (et c'est mal...)"
   ]
  },
  {
   "cell_type": "markdown",
   "metadata": {},
   "source": [
    "La classe Voiture est ainsi créee.\n",
    "<br>\n",
    "<br>\n",
    "<div class='alert-info'>\n",
    "    \n",
    "**N.B. :** Comme vous pouvez le constater :\n",
    "- Pour créer une classe on utilise le mot-clé :``class``suivi par le nom de la classe;\n",
    "- le nom de la classe commence par une **majuscule** et ne contient que des caractères alpha-numériques."
   ]
  },
  {
   "cell_type": "markdown",
   "metadata": {},
   "source": [
    "<div class='alert-warning'>\n",
    "\n",
    "Pour créer une instance de cette classe, on écrit :"
   ]
  },
  {
   "cell_type": "code",
   "execution_count": null,
   "metadata": {},
   "outputs": [],
   "source": [
    "auto = Voiture()"
   ]
  },
  {
   "cell_type": "markdown",
   "metadata": {},
   "source": [
    "```auto``` est donc un objet, instance de la classe ```Voiture```."
   ]
  },
  {
   "cell_type": "code",
   "execution_count": null,
   "metadata": {},
   "outputs": [],
   "source": [
    "type(auto)"
   ]
  },
  {
   "cell_type": "markdown",
   "metadata": {},
   "source": [
    "<div class='alert-warning'>\n",
    "    \n",
    "On peut également voir à quelle adresse mémoire se trouve cet objet crée en faisant un simple affichage de cet objet :"
   ]
  },
  {
   "cell_type": "code",
   "execution_count": null,
   "metadata": {},
   "outputs": [],
   "source": [
    "print(auto)"
   ]
  },
  {
   "cell_type": "markdown",
   "metadata": {},
   "source": [
    "<div class='alert-warning'>\n",
    "    \n",
    "On peut alors créer autant de voitures que l'on veut qui se trouveront donc à différentes adresses mémoire de l'ordinateur :"
   ]
  },
  {
   "cell_type": "code",
   "execution_count": null,
   "metadata": {},
   "outputs": [],
   "source": [
    "auto1 = Voiture()\n",
    "auto2 = Voiture()\n",
    "auto3 = Voiture()"
   ]
  },
  {
   "cell_type": "code",
   "execution_count": null,
   "metadata": {},
   "outputs": [],
   "source": [
    "print(auto1)\n",
    "print(auto2)\n",
    "print(auto3)"
   ]
  },
  {
   "cell_type": "markdown",
   "metadata": {},
   "source": [
    "<div class='alert-info'>\n",
    "    \n",
    "Créons maintenant des attributs à l'instance auto1 auquel on affectera des valeurs.<br>\n",
    "Par exemple, pour cette classe ``Voiture``, considérons les attributs :\n",
    "- ``annee``\n",
    "- ``couleur``\n",
    "- ``vitesse_max``\n",
    "\n",
    "Pour cela, en Python, comme pour les méthodes, on utilisera la notation pointée ``nom_objet.nom_attribut = valeur``"
   ]
  },
  {
   "cell_type": "code",
   "execution_count": null,
   "metadata": {},
   "outputs": [],
   "source": [
    "auto1.annee = 2018\n",
    "auto1.couleur = \"rouge\"\n",
    "auto1.vitesse_max = 185"
   ]
  },
  {
   "cell_type": "code",
   "execution_count": null,
   "metadata": {},
   "outputs": [],
   "source": [
    "print(auto1.annee)\n",
    "print(auto1.couleur)\n",
    "print(auto1.vitesse_max)"
   ]
  },
  {
   "cell_type": "markdown",
   "metadata": {},
   "source": [
    "<div class='alert-success'>\n",
    "\n",
    "**Remarque :** On constate très vite qu'en agissant ainsi, il faudra créer les attributs et les valeurs correspondantes à chaque instance de notre classe (i.e à chaque voiture créee de la classe Voiture).<br>\n",
    "Cette méthode n'est donc pas satisfaisante.\n",
    "\n",
    "Si on désire créer une classe \"voiture\", c'est pour créer un concept générique de voiture et d'en spécifier des caractéristiques communes : l'année, la couleur, la vitesse maximale etc ...\n",
    "\n",
    "L'idée est donc qu'à la création (i.e  à la construction) de chaque objet voiture, on va lui spécifier directement les valeurs des attributs.<br>\n"
   ]
  },
  {
   "cell_type": "markdown",
   "metadata": {},
   "source": [
    "### b) La méthode constructeur (la bonne méthode)\n",
    "<br>\n",
    "<div class='alert-info'>\n",
    "    \n",
    "**N.B :** La **méthode constructeur**, toujours appelée ```__init__()```, est une méthode  qui sera automatiquement appelée à la création de l'objet. <br>\n",
    "Dans cette méthode constructeur, on va donc déclarer tous les attributs de la classe.<br>\n",
    "Ainsi, la méthode constructeur permettra de  doter  automatiquement un objet nouvellement créé de tous les attributs de sa classe :"
   ]
  },
  {
   "cell_type": "code",
   "execution_count": null,
   "metadata": {},
   "outputs": [],
   "source": [
    "class Voiture :\n",
    "    def __init__(self, annee, coul, vmax) :\n",
    "        self.annee = annee             # déclaration de l'attribut annee\n",
    "        self.couleur = coul            # déclaration de l'attribut couleur\n",
    "        self.vitesse_max = vmax        # déclaration de l'attribut vitesse_max\n",
    "        \n",
    "        "
   ]
  },
  {
   "cell_type": "markdown",
   "metadata": {},
   "source": [
    "<div class='alert-info'>\n",
    "\n",
    "**N.B :** \n",
    "- le mot-clé ```self```, omniprésent en POO, fait référence à l'objet auquel s'appliquera la méthode.<br>\n",
    "Elle représente l'objet dans la méthode en attendant qu'il soit créé.<br>\n",
    "Ainsi toutes les méthodes d'une classe auront pour premier paramètre ``self``.\n",
    "    <br>\n",
    "    <br>\n",
    "- pour construire un objet de cette classe ``Voiture`` , 3 autres paramètres seront aussi nécessaires : ```annee```, ```coul``` et ```vmax```. <br>\n",
    "Ils donneront respectivement leur valeur aux attributs ```annee```, ```couleur``` et ```vitesse_max```.\n",
    "</div>\n",
    "<br>\n",
    "\n",
    "<div class='alert-success'>\n",
    "\n",
    "**Remarque :** Dans cet exemple, les paramètres ```coul``` et ```vmax``` ont été utilisés pour abréger ```couleur``` et ```vitesse_max``` et ainsi pour les distinguer de leurs attributs.<br>\n",
    "Cela permet d'éviter des confusions (entre attributs et paramètres correspondants), mais vous pouvez très bien donner le même nom à un paramètre et à son attribut correspondant. <br>\n",
    "D'ailleurs, c'est que l'on a fait pour le parametre ``annee``! Et en pratique, on le fait très souvent.\n",
    "</div>\n",
    "<br>\n",
    "<br>\n",
    "<div class='alert-warning'>\n",
    "    \n",
    "Construisons donc notre première voiture que l'on nommera ``mon_bolide`` caractérisé par les attributs :\n",
    "- ``annee = 2019``\n",
    "- ``couleur = \"blanche\"``\n",
    "- ``vitesse_max = 230``\n"
   ]
  },
  {
   "cell_type": "code",
   "execution_count": null,
   "metadata": {},
   "outputs": [],
   "source": [
    "mon_bolide = Voiture(2019,\"blanche\", 230)"
   ]
  },
  {
   "cell_type": "markdown",
   "metadata": {},
   "source": [
    "<div class='alert-info'>\n",
    "    \n",
    "    \n",
    "**N.B. :** Désormais, on indique les valeurs des 3 paramètres après le nom de la classe.<br>\n",
    "Le mot-clé ``self`` (qui représentait l'objet en attendant qu'il soit créé) n'apparaît plus dans les paramètres car c'est l'objet ``mon_bolide`` nouvellement créé qui va le remplacer."
   ]
  },
  {
   "cell_type": "code",
   "execution_count": null,
   "metadata": {},
   "outputs": [],
   "source": [
    "print(type(mon_bolide))\n",
    "print(mon_bolide)"
   ]
  },
  {
   "cell_type": "markdown",
   "metadata": {},
   "source": [
    "<div class='alert-info'>\n",
    "    \n",
    "    \n",
    "**N.B. (Rappel) :** Pour accéder ou modifier la valeur d'un attribut, on utilise la notation pointée ``nom_objet.nom_attribut = valeur``"
   ]
  },
  {
   "cell_type": "code",
   "execution_count": null,
   "metadata": {},
   "outputs": [],
   "source": [
    "print(mon_bolide.annee)\n",
    "print(mon_bolide.couleur)\n",
    "print(mon_bolide.vitesse_max)"
   ]
  },
  {
   "cell_type": "code",
   "execution_count": null,
   "metadata": {},
   "outputs": [],
   "source": [
    "mon_bolide.couleur = \"bleu\"   # Modification de la valeur de l'attribut couleur\n",
    "mon_bolide.couleur"
   ]
  },
  {
   "cell_type": "markdown",
   "metadata": {},
   "source": [
    "<div class='alert-warning'>\n",
    "    \n",
    "Bien sûr, on peut créer une autre voiture en suivant le même principe :"
   ]
  },
  {
   "cell_type": "code",
   "execution_count": null,
   "metadata": {},
   "outputs": [],
   "source": [
    "batmobile = Voiture(2036, \"noire\", 325)"
   ]
  },
  {
   "cell_type": "code",
   "execution_count": null,
   "metadata": {},
   "outputs": [],
   "source": [
    "batmobile.vitesse_max"
   ]
  },
  {
   "cell_type": "markdown",
   "metadata": {},
   "source": [
    "<div class='alert-warning'>\n",
    "            \n",
    "### A faire vous-même 1 :\n",
    "    \n",
    "1. Créer une classe ``Point`` permettant de créer un objet ```A``` , dont on récupèrera l'abscisse par la variable ```A.x``` et l'ordonnée par ```A.y```.\n",
    "    \n",
    "2. Construire alors le point ``A(3;5)`` et ``B(-2;-4)``.\n",
    "    \n",
    "3. On considère le point ``C(3;5)`` (qui donc les mêmes coordonnées que le point A).<br>\n",
    "    Les points ``A`` et ``C`` définissent-ils les mêmes objets de classe ``Point`` ?"
   ]
  },
  {
   "cell_type": "code",
   "execution_count": null,
   "metadata": {},
   "outputs": [],
   "source": [
    "# YOUR CODE HERE\n",
    "\n"
   ]
  },
  {
   "cell_type": "markdown",
   "metadata": {},
   "source": [
    "### II.3 Créer une méthode pour une classe\n",
    "\n",
    "Pour notre classe ``Voiture``, on va créer la méthode ``petite_annonce``.<br>\n",
    "<br>\n",
    "\n",
    "<div class='alert-warning'>\n",
    "    \n",
    "Analyser et exécuter le code ci-dessous :"
   ]
  },
  {
   "cell_type": "code",
   "execution_count": null,
   "metadata": {},
   "outputs": [],
   "source": [
    "class Voiture :\n",
    "    def __init__(self, annee, coul, vmax) :\n",
    "        self.annee = annee\n",
    "        self.couleur = coul\n",
    "        self.vitesse_max = vmax\n",
    "        \n",
    "    def petite_annonce(self) :\n",
    "        print(\"À vendre voiture\", self.couleur, \"de\", self.annee, \", vitesse maximale\", self.vitesse_max, \"km/h.\")\n"
   ]
  },
  {
   "cell_type": "code",
   "execution_count": null,
   "metadata": {},
   "outputs": [],
   "source": [
    "batmobile = Voiture(2036, \"noire\", 325)\n",
    "batmobile.petite_annonce()       # Utilisation de la notation pointée pour appliquer la méthode à l'objet batmobile"
   ]
  },
  {
   "cell_type": "markdown",
   "metadata": {},
   "source": [
    "<div class='alert-warning'>\n",
    "            \n",
    "### A faire vous-même 2 :\n",
    "    \n",
    "Créer pour la classe ``Voiture`` la méthode ``age_voiture`` qui renvoie l'âge de la voiture en fonction de l'année de l'achat."
   ]
  },
  {
   "cell_type": "code",
   "execution_count": null,
   "metadata": {},
   "outputs": [],
   "source": [
    "# YOUR CODE HERE\n",
    "\n",
    "\n",
    "\n"
   ]
  },
  {
   "cell_type": "code",
   "execution_count": null,
   "metadata": {},
   "outputs": [],
   "source": [
    "mon_bolide = Voiture(2019,\"blanche\", 230)\n",
    "\n",
    "assert mon_bolide.age(2025) == 6\n",
    "assert mon_bolide.age(2019) == 0\n"
   ]
  },
  {
   "cell_type": "markdown",
   "metadata": {},
   "source": [
    "<div class='alert-success'>\n",
    "    \n",
    "**Remarque :** L'utilisateur n'ayant pas accès au code des méthodes de la classe, il est évidemment bienvenu de les documenter pour que l'utilisateur les exploite de la meilleure façon possible en toutes connaissances de causes."
   ]
  },
  {
   "cell_type": "code",
   "execution_count": null,
   "metadata": {},
   "outputs": [],
   "source": [
    "class Voiture :\n",
    "    \"\"\"Classe représentant un objet voiture\"\"\"\n",
    "    def __init__(self, annee, coul, vmax) :\n",
    "        \"\"\"Constructeur de notre classe\"\"\"\n",
    "        self.annee = annee\n",
    "        self.couleur = coul\n",
    "        self.vitesse_max = vmax\n",
    "        \n",
    "    def petite_annonce(self) :\n",
    "        \"\"\" Affiche automatiquement une petite annonce concernant le véhicule\"\"\"\n",
    "        print(\"À vendre voiture\", self.couleur, \"de\", self.annee, \", vitesse maximale\", self.vitesse_max, \"km/h.\")\n",
    "        \n",
    "    def age(self,a) :\n",
    "        \"\"\"Renvoie l'âge de la voiture en fonction de l'année a de l'achat.\"\"\"\n",
    "        return a - self.annee"
   ]
  },
  {
   "cell_type": "markdown",
   "metadata": {},
   "source": [
    "<div class='alert-warning'>\n",
    "    \n",
    "Ainsi il aura connaissance du rôle de chaque méthode sur son objet :"
   ]
  },
  {
   "cell_type": "code",
   "execution_count": null,
   "metadata": {},
   "outputs": [],
   "source": [
    "mon_bolide = Voiture(2019,\"blanche\", 230)\n",
    "mon_bolide.age.__doc__"
   ]
  },
  {
   "cell_type": "markdown",
   "metadata": {},
   "source": [
    "<div class='alert-warning'>\n",
    "    \n",
    "Que donne la commande ```dir``` pour notre objet ?"
   ]
  },
  {
   "cell_type": "code",
   "execution_count": null,
   "metadata": {},
   "outputs": [],
   "source": [
    "dir(mon_bolide)"
   ]
  },
  {
   "cell_type": "markdown",
   "metadata": {},
   "source": [
    "<div class='alert-warning'>\n",
    "    \n",
    "On y retrouve donc à la fois les trois attributs et les deux méthodes que nous avons créés pour notre objet."
   ]
  },
  {
   "cell_type": "code",
   "execution_count": null,
   "metadata": {},
   "outputs": [],
   "source": [
    "help(mon_bolide)"
   ]
  },
  {
   "cell_type": "markdown",
   "metadata": {},
   "source": [
    "### II.4 La méthode spéciale ``str``"
   ]
  },
  {
   "cell_type": "markdown",
   "metadata": {},
   "source": [
    "<div class='alert-success'>\n",
    "    \n",
    "**Remarque :** On a vu que lorsque l'on veut afficher un objet avec  la fonction ``print``, on obtient quelque chose de \"peu esthétique\" :"
   ]
  },
  {
   "cell_type": "code",
   "execution_count": null,
   "metadata": {},
   "outputs": [],
   "source": [
    "print(mon_bolide)"
   ]
  },
  {
   "cell_type": "markdown",
   "metadata": {},
   "source": [
    "On a certes des informations utiles (adresse mémoire où se trouve l'objet), mais pas forcément celles que l'on veut, et l'affichage reste abstrait pour l'utilisateur commun, il faut bien le reconnaître.\n",
    "<br>\n",
    "<br>\n",
    "<div class='alert-info'>\n",
    "    \n",
    "Pour remédier à cela, il existe  une méthode spéciale, ``__str__`` , spécialement utilisée pour afficher l'objet avec ``print.``"
   ]
  },
  {
   "cell_type": "code",
   "execution_count": null,
   "metadata": {},
   "outputs": [],
   "source": [
    "class Voiture :\n",
    "    \"\"\"Classe représentant un objet voiture\"\"\"\n",
    "    def __init__(self, annee, coul, vmax) :\n",
    "        \"\"\"Constructeur de notre classe\"\"\"\n",
    "        self.annee = annee\n",
    "        self.couleur = coul\n",
    "        self.vitesse_max = vmax\n",
    "        \n",
    "    def petite_annonce(self) :\n",
    "        \"\"\" Affiche automatiquement une petite annonce concernant le véhicule\"\"\"\n",
    "        print(\"À vendre voiture\", self.couleur, \"de\", self.annee, \", vitesse maximale\", self.vitesse_max, \"km/h.\")\n",
    "        \n",
    "    def age(self,a) :\n",
    "        \"\"\"Renvoie l'âge de la voiture en fonction de l'année a de l'achat.\"\"\"\n",
    "        return a - self.annee\n",
    "    \n",
    "    def __str__(self) :\n",
    "        \"\"\"Méthode permettant d'afficher plus joliment notre objet voiture\"\"\"\n",
    "        return \"Voiture ayant pour caractéristiques : année : \" + str(self.annee) + \"; couleur : \" + str(self.couleur) +\"; vitesse_max : \" + str(self.vitesse_max) + \"km/h\""
   ]
  },
  {
   "cell_type": "code",
   "execution_count": null,
   "metadata": {},
   "outputs": [],
   "source": [
    "mon_bolide = Voiture(2019,\"blanche\", 230)\n",
    "print(mon_bolide)"
   ]
  },
  {
   "cell_type": "markdown",
   "metadata": {},
   "source": [
    "## III. L'encapsulation\n",
    "### III.1 Le principe de l'encapsulation\n",
    "<br>\n",
    "\n",
    "<div class='alert-success'>\n",
    "    \n",
    "**Remarque :** Un objet étant constitué d'un état (valeurs des attributs) et de comportments (définis par leurs méthodes), un objet ne devrait donc jamais permettre à ses utilisateurs de modifier son état (valeurs des attributs) autrement qu'en utilisant les méthodes de la classe auxquelles appartient cet objet.<br>\n",
    "C'est ce que l'on appelle le principe d'**encapsulation** des données.\n",
    "</div>\n",
    "<br>\n",
    "<div class='alert-info'>\n",
    "    \n",
    "**Définition :** L'**encapsulation** des données désigne le fait de protéger les informations contenues dans un objet et de ne permettre la manipulation de ces informations que par l'utilisation des méthodes de l'objet.\n",
    "</div>\n",
    "<br>\n",
    "\n",
    "<div class='alert-warning'>\n",
    "    \n",
    "Reprenons alors l'exemple de la classe Voiture et de l'une de ses instances ``mon_bolide``.\n",
    "\n"
   ]
  },
  {
   "cell_type": "code",
   "execution_count": 1,
   "metadata": {},
   "outputs": [],
   "source": [
    "class Voiture :\n",
    "    \"\"\"Classe représentant un objet voiture\"\"\"\n",
    "    def __init__(self, annee, coul, vmax) :\n",
    "        \"\"\"Constructeur de notre classe\"\"\"\n",
    "        self.annee = annee\n",
    "        self.couleur = coul\n",
    "        self.vitesse_max = vmax\n",
    "        \n",
    "    def petite_annonce(self) :\n",
    "        \"\"\" Affiche automatiquement une petite annonce concernant le véhicule\"\"\"\n",
    "        print(\"À vendre voiture\", self.couleur, \"de\", self.annee, \", vitesse maximale\", self.vitesse_max, \"km/h.\")\n",
    "        \n",
    "    def age(self,a) :\n",
    "        \"\"\"Renvoie l'âge de la voiture en fonction de l'année a de l'achat.\"\"\"\n",
    "        return a - self.annee\n",
    "    \n",
    "    def __str__(self) :\n",
    "        \"\"\"Méthode permettant d'afficher plus joliment notre objet voiture\"\"\"\n",
    "        return \"Voiture ayant pour caractéristiques : année : \" + str(self.annee) + \"; couleur : \" + str(self.couleur) +\"; vitesse_max : \" + str(self.vitesse_max) + \"km/h\"\n",
    "\n",
    "    \n",
    "mon_bolide = Voiture(2019,\"blanche\", 230)"
   ]
  },
  {
   "cell_type": "markdown",
   "metadata": {},
   "source": [
    "<div class='alert-info'>\n",
    "    \n",
    "Cette classe est programmée tout à fait correctement.<br>\n",
    "Malheureusement, un utilisateur peut modifier directement les valeurs des attributs d'un objet en entrant des informations eronnées ou mensongères, sans qu'une erreur soit signalée :"
   ]
  },
  {
   "cell_type": "code",
   "execution_count": 2,
   "metadata": {},
   "outputs": [
    {
     "data": {
      "text/plain": [
       "-10"
      ]
     },
     "execution_count": 2,
     "metadata": {},
     "output_type": "execute_result"
    }
   ],
   "source": [
    "mon_bolide.vitesse_max = -10     # Valeur erronée\n",
    "mon_bolide.vitesse_max "
   ]
  },
  {
   "cell_type": "code",
   "execution_count": 3,
   "metadata": {},
   "outputs": [
    {
     "data": {
      "text/plain": [
       "390"
      ]
     },
     "execution_count": 3,
     "metadata": {},
     "output_type": "execute_result"
    }
   ],
   "source": [
    "mon_bolide.vitesse_max = 390     # Valeur mensongère\n",
    "mon_bolide.vitesse_max"
   ]
  },
  {
   "cell_type": "markdown",
   "metadata": {},
   "source": [
    "## III.2 Les attributs privés\n",
    "<br>\n",
    "<div class='alert-info'>\n",
    "    \n",
    "**N.B. :** Il existe un moyen simple de se protéger de telles erreurs : empêcher l'utilisateur d'avoir accès aux attributs.<br>\n",
    "Pour y parvenir, il faut un moyen de rendre les attributs **privés.**<br>\n",
    "En Python, un attribut privé possède un nom qui commence ``__`` (double underscore)\n",
    "</div>\n",
    "<br>\n",
    "<br>\n",
    "<div class='alert-warning'>\n",
    "    \n",
    "Ainsi, on va rendre privé les attributs ``année`` et  ``vitesse_max``  en écrivant :\n"
   ]
  },
  {
   "cell_type": "code",
   "execution_count": 4,
   "metadata": {},
   "outputs": [],
   "source": [
    "class Voiture :\n",
    "    \"\"\"Classe représentant un objet voiture\"\"\"\n",
    "    def __init__(self, annee, coul, vmax) :\n",
    "        \"\"\"Constructeur de notre classe\"\"\"\n",
    "        self.__annee = annee\n",
    "        self.couleur = coul\n",
    "        self.__vitesse_max = vmax"
   ]
  },
  {
   "cell_type": "code",
   "execution_count": 5,
   "metadata": {},
   "outputs": [],
   "source": [
    "mon_bolide = Voiture(2019,\"blanche\", 230)"
   ]
  },
  {
   "cell_type": "code",
   "execution_count": 6,
   "metadata": {},
   "outputs": [
    {
     "ename": "AttributeError",
     "evalue": "'Voiture' object has no attribute 'annee'",
     "output_type": "error",
     "traceback": [
      "\u001b[1;31m---------------------------------------------------------------------------\u001b[0m",
      "\u001b[1;31mAttributeError\u001b[0m                            Traceback (most recent call last)",
      "\u001b[1;32m<ipython-input-6-bf9233e5bf46>\u001b[0m in \u001b[0;36m<module>\u001b[1;34m\u001b[0m\n\u001b[1;32m----> 1\u001b[1;33m \u001b[0mmon_bolide\u001b[0m\u001b[1;33m.\u001b[0m\u001b[0mannee\u001b[0m\u001b[1;33m\u001b[0m\u001b[1;33m\u001b[0m\u001b[0m\n\u001b[0m",
      "\u001b[1;31mAttributeError\u001b[0m: 'Voiture' object has no attribute 'annee'"
     ]
    }
   ],
   "source": [
    "mon_bolide.annee"
   ]
  },
  {
   "cell_type": "code",
   "execution_count": 7,
   "metadata": {},
   "outputs": [
    {
     "ename": "AttributeError",
     "evalue": "'Voiture' object has no attribute 'vitesse_max'",
     "output_type": "error",
     "traceback": [
      "\u001b[1;31m---------------------------------------------------------------------------\u001b[0m",
      "\u001b[1;31mAttributeError\u001b[0m                            Traceback (most recent call last)",
      "\u001b[1;32m<ipython-input-7-a2378106c140>\u001b[0m in \u001b[0;36m<module>\u001b[1;34m\u001b[0m\n\u001b[1;32m----> 1\u001b[1;33m \u001b[0mmon_bolide\u001b[0m\u001b[1;33m.\u001b[0m\u001b[0mvitesse_max\u001b[0m\u001b[1;33m\u001b[0m\u001b[1;33m\u001b[0m\u001b[0m\n\u001b[0m",
      "\u001b[1;31mAttributeError\u001b[0m: 'Voiture' object has no attribute 'vitesse_max'"
     ]
    }
   ],
   "source": [
    "mon_bolide.vitesse_max"
   ]
  },
  {
   "cell_type": "code",
   "execution_count": 8,
   "metadata": {},
   "outputs": [
    {
     "data": {
      "text/plain": [
       "'blanche'"
      ]
     },
     "execution_count": 8,
     "metadata": {},
     "output_type": "execute_result"
    }
   ],
   "source": [
    "mon_bolide.couleur"
   ]
  },
  {
   "cell_type": "code",
   "execution_count": 9,
   "metadata": {},
   "outputs": [
    {
     "data": {
      "text/plain": [
       "'bleue'"
      ]
     },
     "execution_count": 9,
     "metadata": {},
     "output_type": "execute_result"
    }
   ],
   "source": [
    "mon_bolide.couleur = \"bleue\"\n",
    "mon_bolide.couleur"
   ]
  },
  {
   "cell_type": "markdown",
   "metadata": {},
   "source": [
    "# III.3 Les getters et les setters (accesseurs et mutateurs)"
   ]
  },
  {
   "cell_type": "markdown",
   "metadata": {},
   "source": [
    "<div class='alert-info'>\n",
    "    \n",
    "**N.B. :** Si l'on doit permettre à l'utilisateur de **consulter** la valeur d'un attribut, il faut alors ajouter une méthode.<br>\n",
    "Nous appellerons ces méthodes des **getters** (ou **accesseurs** en français).<br>\n",
    "Par convention, ils commencent par ``get``."
   ]
  },
  {
   "cell_type": "code",
   "execution_count": 10,
   "metadata": {},
   "outputs": [],
   "source": [
    "class Voiture :\n",
    "    \"\"\"Classe représentant un objet voiture\"\"\"\n",
    "    def __init__(self, annee, coul, vmax) :\n",
    "        \"\"\"Constructeur de notre classe\"\"\"\n",
    "        self.__annee = annee\n",
    "        self.couleur = coul\n",
    "        self.__vitesse_max = vmax\n",
    "        \n",
    "    def getAnnee(self) :\n",
    "        return self.__annee\n",
    "    \n",
    "    def getVitesse_max(self) :\n",
    "            return self.__vitesse_max\n",
    "        \n",
    "\n",
    "mon_bolide = Voiture(2019,\"blanche\", 230)"
   ]
  },
  {
   "cell_type": "code",
   "execution_count": 11,
   "metadata": {},
   "outputs": [
    {
     "data": {
      "text/plain": [
       "2019"
      ]
     },
     "execution_count": 11,
     "metadata": {},
     "output_type": "execute_result"
    }
   ],
   "source": [
    "mon_bolide.getAnnee()"
   ]
  },
  {
   "cell_type": "code",
   "execution_count": 12,
   "metadata": {},
   "outputs": [
    {
     "data": {
      "text/plain": [
       "230"
      ]
     },
     "execution_count": 12,
     "metadata": {},
     "output_type": "execute_result"
    }
   ],
   "source": [
    "mon_bolide.getVitesse_max()"
   ]
  },
  {
   "cell_type": "markdown",
   "metadata": {},
   "source": [
    "<div class='alert-warning'>\n",
    "    \n",
    "**N.B. :** Si l'on doit permettre à l'utilisateur de **modifier** la valeur d'un attribut, il faut alors ajouter une méthode.<br>\n",
    "Nous appellerons ces méthodes des **setters** (ou **mutateurs** en français).<br>\n",
    "Par convention, ils commencent par ``set``.\n",
    "    </div>\n",
    "<br>\n",
    "<br>\n",
    "<div class='alert-success'>\n",
    "\n",
    "**Remarque :** Les setters sont dangereux pour la protection des données,  il faut donc ne les ajouter que lorsque c'est absolument nécessaire et toujours contrôler les nouvelles valeurs si elles sont correctes.\n",
    "</div>\n",
    "<br>\n",
    "<br>\n",
    "<div class='alert-warning'>\n",
    "\n",
    "Nous montrons ci-après comment définir le setter de ``vitesse_max``:"
   ]
  },
  {
   "cell_type": "code",
   "execution_count": 13,
   "metadata": {},
   "outputs": [],
   "source": [
    "class Voiture :\n",
    "    \"\"\"Classe représentant un objet voiture\"\"\"\n",
    "    def __init__(self, annee, coul, vmax) :\n",
    "        \"\"\"Constructeur de notre classe\"\"\"\n",
    "        self.__annee = annee\n",
    "        self.couleur = coul\n",
    "        self.__vitesse_max = vmax\n",
    "        \n",
    "    def getAnnee(self) :\n",
    "        return self.__annee\n",
    "    \n",
    "    def getVitesse_max(self) :\n",
    "            return self.__vitesse_max\n",
    "    \n",
    "    def setVitesse_max(self,newV_max) :        \n",
    "        if newV_max > 160 and newV_max < 250 :  # On considère que les voitures de cette classe ont une \n",
    "        # vitesse maximale comprise entre 160 et 250 km/h\n",
    "            self.__vitesse_max = newV_max        \n",
    "        \n",
    "\n",
    "mon_bolide = Voiture(2019,\"blanche\", 230)"
   ]
  },
  {
   "cell_type": "code",
   "execution_count": 14,
   "metadata": {},
   "outputs": [
    {
     "data": {
      "text/plain": [
       "240"
      ]
     },
     "execution_count": 14,
     "metadata": {},
     "output_type": "execute_result"
    }
   ],
   "source": [
    "mon_bolide.setVitesse_max(240)    # On modifie la vitesse maximale de l'objet mon_bolide\n",
    "mon_bolide.getVitesse_max()       # On consulte la nouvelle vitesse maximale de l'objet mon_bolide"
   ]
  },
  {
   "cell_type": "code",
   "execution_count": 15,
   "metadata": {},
   "outputs": [
    {
     "data": {
      "text/plain": [
       "240"
      ]
     },
     "execution_count": 15,
     "metadata": {},
     "output_type": "execute_result"
    }
   ],
   "source": [
    "mon_bolide.setVitesse_max(280)\n",
    "mon_bolide.getVitesse_max()"
   ]
  },
  {
   "cell_type": "markdown",
   "metadata": {},
   "source": [
    "<div class='alert-warning'>\n",
    "    \n",
    "Comme on peut le constater dans ce dernier cas, la vitesse maximale 280 km/h n'a pas été prise en compte puisque la vitesse maximale ne peut pas excéder 250 km/h pour cette classe de voitures."
   ]
  },
  {
   "cell_type": "code",
   "execution_count": null,
   "metadata": {},
   "outputs": [],
   "source": []
  }
 ],
 "metadata": {
  "kernelspec": {
   "display_name": "Python 3",
   "language": "python",
   "name": "python3"
  },
  "language_info": {
   "codemirror_mode": {
    "name": "ipython",
    "version": 3
   },
   "file_extension": ".py",
   "mimetype": "text/x-python",
   "name": "python",
   "nbconvert_exporter": "python",
   "pygments_lexer": "ipython3",
   "version": "3.8.3"
  }
 },
 "nbformat": 4,
 "nbformat_minor": 4
}
