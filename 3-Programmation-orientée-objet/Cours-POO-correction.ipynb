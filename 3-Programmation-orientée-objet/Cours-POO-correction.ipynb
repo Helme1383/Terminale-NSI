{
 "cells": [
  {
   "cell_type": "markdown",
   "metadata": {},
   "source": [
    "# <div align='center'> Notebook Cours : Programmation orientée objet (POO)\n",
    "\n",
    "<div class='alert-info'>\n",
    "            \n",
    "**N.B. :** Comme nous l'avons dit précédemment, nous avons déjà manipulé en première des objets en Python sans que l'on le sache comme les tableaux faisant partie de la classe ``list`` .<br>\n",
    "Observons ça de plus près.\n",
    "    </div>\n",
    "    <br> \n",
    "    <br>\n",
    "\n",
    "\n",
    "<div class='alert-danger'>\n",
    "    \n",
    "Pour cela parcourez le notebook en exécutant les cellules au fur et à mesure  et en analysant les commentaires associés.\n",
    "    \n",
    "    "
   ]
  },
  {
   "cell_type": "markdown",
   "metadata": {},
   "source": [
    "## I. Des objets en Python que l'on a déjà manipulés"
   ]
  },
  {
   "cell_type": "code",
   "execution_count": 1,
   "metadata": {},
   "outputs": [],
   "source": [
    "tab = [5,3,8,13]"
   ]
  },
  {
   "cell_type": "code",
   "execution_count": 2,
   "metadata": {},
   "outputs": [
    {
     "data": {
      "text/plain": [
       "list"
      ]
     },
     "execution_count": 2,
     "metadata": {},
     "output_type": "execute_result"
    }
   ],
   "source": [
    "type(tab)"
   ]
  },
  {
   "cell_type": "markdown",
   "metadata": {},
   "source": [
    "<div class='alert-info'>\n",
    "    \n",
    "``tab`` est un tableau, ou plus précisément un **objet** de la classe ```list```. Et en tant qu'objet de la classe ```list```, il est possible de lui appliquer certaines fonctions prédéfinies, qu'on appelera **méthodes** :"
   ]
  },
  {
   "cell_type": "code",
   "execution_count": 3,
   "metadata": {},
   "outputs": [],
   "source": [
    "tab.reverse()"
   ]
  },
  {
   "cell_type": "markdown",
   "metadata": {},
   "source": [
    "<div class='alert-info'>\n",
    "    \n",
    "La notation pointée (le . après le nom de l'objet) est spécifique à la POO. Chaque fois que vous voyez cela, c'est que vous êtes en train de manipuler des objets. \n",
    "    </div>\n",
    "<br>\n",
    "\n",
    "<div class='alert-warning'>\n",
    "    \n",
    "Mais qu'a donc fait cette méthode ``reverse()`` ?   "
   ]
  },
  {
   "cell_type": "code",
   "execution_count": 6,
   "metadata": {},
   "outputs": [
    {
     "data": {
      "text/plain": [
       "[13, 8, 3, 5]"
      ]
     },
     "execution_count": 6,
     "metadata": {},
     "output_type": "execute_result"
    }
   ],
   "source": [
    "tab"
   ]
  },
  {
   "cell_type": "markdown",
   "metadata": {},
   "source": [
    "<div class='alert-info'>\n",
    "    \n",
    "Nous ne sommes pas surpris par ce résultat car la personne qui a programmé la méthode ```reverse()``` lui a donné un nom explicite.  \n",
    "    \n",
    "Comment a-t-elle programmé cette inversion des valeurs du tableau ? Nous n'en savons rien et cela ne nous intéresse pas. Nous sommes juste utilisateurs de cette méthode.\n",
    "\n",
    "    \n",
    "L'objet ``tab`` de la classe ```list``` nous a été livré avec sa méthode ```reverse()``` (et bien d'autres choses) et nous n'avons pas à démonter la boîte pour en observer les engrenages : on parle de principe d'**encapsulation** (que l'on avait déjà évoqué dans le cours manuscrit)"
   ]
  },
  {
   "cell_type": "markdown",
   "metadata": {},
   "source": [
    "<div class='alert-warning'>\n",
    "\n",
    "On peut obtenir la liste de toutes les fonctions disponibles pour un objet de la classe ```list```, par la fonction ```dir``` :"
   ]
  },
  {
   "cell_type": "code",
   "execution_count": 7,
   "metadata": {},
   "outputs": [
    {
     "data": {
      "text/plain": [
       "['__add__',\n",
       " '__class__',\n",
       " '__contains__',\n",
       " '__delattr__',\n",
       " '__delitem__',\n",
       " '__dir__',\n",
       " '__doc__',\n",
       " '__eq__',\n",
       " '__format__',\n",
       " '__ge__',\n",
       " '__getattribute__',\n",
       " '__getitem__',\n",
       " '__gt__',\n",
       " '__hash__',\n",
       " '__iadd__',\n",
       " '__imul__',\n",
       " '__init__',\n",
       " '__init_subclass__',\n",
       " '__iter__',\n",
       " '__le__',\n",
       " '__len__',\n",
       " '__lt__',\n",
       " '__mul__',\n",
       " '__ne__',\n",
       " '__new__',\n",
       " '__reduce__',\n",
       " '__reduce_ex__',\n",
       " '__repr__',\n",
       " '__reversed__',\n",
       " '__rmul__',\n",
       " '__setattr__',\n",
       " '__setitem__',\n",
       " '__sizeof__',\n",
       " '__str__',\n",
       " '__subclasshook__',\n",
       " 'append',\n",
       " 'clear',\n",
       " 'copy',\n",
       " 'count',\n",
       " 'extend',\n",
       " 'index',\n",
       " 'insert',\n",
       " 'pop',\n",
       " 'remove',\n",
       " 'reverse',\n",
       " 'sort']"
      ]
     },
     "execution_count": 7,
     "metadata": {},
     "output_type": "execute_result"
    }
   ],
   "source": [
    "dir(tab)"
   ]
  },
  {
   "cell_type": "markdown",
   "metadata": {},
   "source": [
    "Les méthodes encadrées par un double underscore __ sont des **méthodes spéciales**, c'est-à-dire des  méthodes qui peuvent se lancer toutes seules par rapport à des instructions spécifiques de l'utilisateur.\n",
    "<br> Par exemple, si l'utilisateur veut faire l'addition de deux objets d'une même classe, l'instruction ``objet1 + objet2``va déclencher dans l'interpréteur Python la méthode spéciale  ``__add__ `` qui permettra de faire cette addition.\n",
    "<br>\n",
    "<br>\n",
    "\n",
    "<div class='alert-success'>\n",
    "    \n",
    "**Remarque :** Les méthodes spéciales dépassent le cadre du programme de Terminale NSI. On y reviendra juste sur l'une d'entre-elle : la méthode spéciale ``__str__``.\n",
    "<br>\n",
    "<br>\n",
    "\n",
    "<div class='alert-info'>\n",
    "    \n",
    "**N.B. :** Les méthodes sans les underscore sont les méthodes **publiques**.<br>\n",
    "L'utilisateur pourra directement les utiliser pour chaque objet de la classe  ```list```.<br>\n",
    "Celles-ci sont donc : ``append``, ```clear```, ..., ``sort``.  \n",
    "\n"
   ]
  },
  {
   "cell_type": "markdown",
   "metadata": {},
   "source": [
    "<div class='alert-warning'>\n",
    "\n",
    "Comment savoir ce que font les méthodes ? Si elles ont été correctement codées (et elles l'ont été), elles possèdent une **_docstring_** (ce sont les commentaires que vous mettez entre des triples guillemets après la ligne d'entête de la fonction), accessible par :"
   ]
  },
  {
   "cell_type": "code",
   "execution_count": 10,
   "metadata": {},
   "outputs": [
    {
     "data": {
      "text/plain": [
       "'Append object to the end of the list.'"
      ]
     },
     "execution_count": 10,
     "metadata": {},
     "output_type": "execute_result"
    }
   ],
   "source": [
    "tab.append.__doc__"
   ]
  },
  {
   "cell_type": "code",
   "execution_count": 11,
   "metadata": {},
   "outputs": [
    {
     "data": {
      "text/plain": [
       "'Reverse *IN PLACE*.'"
      ]
     },
     "execution_count": 11,
     "metadata": {},
     "output_type": "execute_result"
    }
   ],
   "source": [
    "tab.reverse.__doc__"
   ]
  },
  {
   "cell_type": "code",
   "execution_count": 12,
   "metadata": {},
   "outputs": [
    {
     "data": {
      "text/plain": [
       "'Sort the list in ascending order and return None.\\n\\nThe sort is in-place (i.e. the list itself is modified) and stable (i.e. the\\norder of two equal elements is maintained).\\n\\nIf a key function is given, apply it once to each list item and sort them,\\nascending or descending, according to their function values.\\n\\nThe reverse flag can be set to sort in descending order.'"
      ]
     },
     "execution_count": 12,
     "metadata": {},
     "output_type": "execute_result"
    }
   ],
   "source": [
    "tab.sort.__doc__"
   ]
  },
  {
   "cell_type": "markdown",
   "metadata": {},
   "source": [
    "<div class='alert-success'>\n",
    "\n",
    "**Remarque n°1 :** Vous remarquerez que lorsque vous appliquez une méthode sur un objet, l'objet est modifié en place, c'est-à-dire que l'objet est directement modifié et qu'il reste dans la même case mémoire de l'ordinateur. Il n'y a donc pas de copie de l'objet initial lorsque vous lui appliquez une méthode.\n",
    "\n",
    "**Remarque n°2 :** ``__doc__`` est une méthode spéciale (qui est bien présente dans la classe ``list``) qui permet donc d'avoir des informations sur la méthode appliquée sur l'objet.<br>\n",
    "La syntaxe sera toujours ``nom_objet.nom_methode.__doc__``.\n",
    "\n",
    "**Remarque n°3 :** On peut également avoir des renseignements sur la classe de l'objet et sur la méthode appliquée à l'objet avec la fonction ``help``.<br>\n",
    "Les instructions correspondantes sont : ``help(nom_classe_objet)`` et ``help(nom_objet.nom_methode)``\n",
    "\n"
   ]
  },
  {
   "cell_type": "code",
   "execution_count": 38,
   "metadata": {},
   "outputs": [
    {
     "name": "stdout",
     "output_type": "stream",
     "text": [
      "Help on class list in module builtins:\n",
      "\n",
      "class list(object)\n",
      " |  list(iterable=(), /)\n",
      " |  \n",
      " |  Built-in mutable sequence.\n",
      " |  \n",
      " |  If no argument is given, the constructor creates a new empty list.\n",
      " |  The argument must be an iterable if specified.\n",
      " |  \n",
      " |  Methods defined here:\n",
      " |  \n",
      " |  __add__(self, value, /)\n",
      " |      Return self+value.\n",
      " |  \n",
      " |  __contains__(self, key, /)\n",
      " |      Return key in self.\n",
      " |  \n",
      " |  __delitem__(self, key, /)\n",
      " |      Delete self[key].\n",
      " |  \n",
      " |  __eq__(self, value, /)\n",
      " |      Return self==value.\n",
      " |  \n",
      " |  __ge__(self, value, /)\n",
      " |      Return self>=value.\n",
      " |  \n",
      " |  __getattribute__(self, name, /)\n",
      " |      Return getattr(self, name).\n",
      " |  \n",
      " |  __getitem__(...)\n",
      " |      x.__getitem__(y) <==> x[y]\n",
      " |  \n",
      " |  __gt__(self, value, /)\n",
      " |      Return self>value.\n",
      " |  \n",
      " |  __iadd__(self, value, /)\n",
      " |      Implement self+=value.\n",
      " |  \n",
      " |  __imul__(self, value, /)\n",
      " |      Implement self*=value.\n",
      " |  \n",
      " |  __init__(self, /, *args, **kwargs)\n",
      " |      Initialize self.  See help(type(self)) for accurate signature.\n",
      " |  \n",
      " |  __iter__(self, /)\n",
      " |      Implement iter(self).\n",
      " |  \n",
      " |  __le__(self, value, /)\n",
      " |      Return self<=value.\n",
      " |  \n",
      " |  __len__(self, /)\n",
      " |      Return len(self).\n",
      " |  \n",
      " |  __lt__(self, value, /)\n",
      " |      Return self<value.\n",
      " |  \n",
      " |  __mul__(self, value, /)\n",
      " |      Return self*value.\n",
      " |  \n",
      " |  __ne__(self, value, /)\n",
      " |      Return self!=value.\n",
      " |  \n",
      " |  __repr__(self, /)\n",
      " |      Return repr(self).\n",
      " |  \n",
      " |  __reversed__(self, /)\n",
      " |      Return a reverse iterator over the list.\n",
      " |  \n",
      " |  __rmul__(self, value, /)\n",
      " |      Return value*self.\n",
      " |  \n",
      " |  __setitem__(self, key, value, /)\n",
      " |      Set self[key] to value.\n",
      " |  \n",
      " |  __sizeof__(self, /)\n",
      " |      Return the size of the list in memory, in bytes.\n",
      " |  \n",
      " |  append(self, object, /)\n",
      " |      Append object to the end of the list.\n",
      " |  \n",
      " |  clear(self, /)\n",
      " |      Remove all items from list.\n",
      " |  \n",
      " |  copy(self, /)\n",
      " |      Return a shallow copy of the list.\n",
      " |  \n",
      " |  count(self, value, /)\n",
      " |      Return number of occurrences of value.\n",
      " |  \n",
      " |  extend(self, iterable, /)\n",
      " |      Extend list by appending elements from the iterable.\n",
      " |  \n",
      " |  index(self, value, start=0, stop=9223372036854775807, /)\n",
      " |      Return first index of value.\n",
      " |      \n",
      " |      Raises ValueError if the value is not present.\n",
      " |  \n",
      " |  insert(self, index, object, /)\n",
      " |      Insert object before index.\n",
      " |  \n",
      " |  pop(self, index=-1, /)\n",
      " |      Remove and return item at index (default last).\n",
      " |      \n",
      " |      Raises IndexError if list is empty or index is out of range.\n",
      " |  \n",
      " |  remove(self, value, /)\n",
      " |      Remove first occurrence of value.\n",
      " |      \n",
      " |      Raises ValueError if the value is not present.\n",
      " |  \n",
      " |  reverse(self, /)\n",
      " |      Reverse *IN PLACE*.\n",
      " |  \n",
      " |  sort(self, /, *, key=None, reverse=False)\n",
      " |      Sort the list in ascending order and return None.\n",
      " |      \n",
      " |      The sort is in-place (i.e. the list itself is modified) and stable (i.e. the\n",
      " |      order of two equal elements is maintained).\n",
      " |      \n",
      " |      If a key function is given, apply it once to each list item and sort them,\n",
      " |      ascending or descending, according to their function values.\n",
      " |      \n",
      " |      The reverse flag can be set to sort in descending order.\n",
      " |  \n",
      " |  ----------------------------------------------------------------------\n",
      " |  Static methods defined here:\n",
      " |  \n",
      " |  __new__(*args, **kwargs) from builtins.type\n",
      " |      Create and return a new object.  See help(type) for accurate signature.\n",
      " |  \n",
      " |  ----------------------------------------------------------------------\n",
      " |  Data and other attributes defined here:\n",
      " |  \n",
      " |  __hash__ = None\n",
      "\n"
     ]
    }
   ],
   "source": [
    "help(list)"
   ]
  },
  {
   "cell_type": "code",
   "execution_count": 39,
   "metadata": {},
   "outputs": [
    {
     "ename": "NameError",
     "evalue": "name 'tab' is not defined",
     "output_type": "error",
     "traceback": [
      "\u001b[1;31m---------------------------------------------------------------------------\u001b[0m",
      "\u001b[1;31mNameError\u001b[0m                                 Traceback (most recent call last)",
      "\u001b[1;32m<ipython-input-39-dead668df687>\u001b[0m in \u001b[0;36m<module>\u001b[1;34m\u001b[0m\n\u001b[1;32m----> 1\u001b[1;33m \u001b[0mhelp\u001b[0m\u001b[1;33m(\u001b[0m\u001b[0mtab\u001b[0m\u001b[1;33m.\u001b[0m\u001b[0msort\u001b[0m\u001b[1;33m)\u001b[0m\u001b[1;33m\u001b[0m\u001b[1;33m\u001b[0m\u001b[0m\n\u001b[0m",
      "\u001b[1;31mNameError\u001b[0m: name 'tab' is not defined"
     ]
    }
   ],
   "source": [
    "help(tab.sort)"
   ]
  },
  {
   "cell_type": "markdown",
   "metadata": {},
   "source": [
    "<div class='alert-warning'>\n",
    "    \n",
    "Pour les objets de la classe ``str`` (chaîne de caractères)"
   ]
  },
  {
   "cell_type": "code",
   "execution_count": 40,
   "metadata": {},
   "outputs": [
    {
     "name": "stdout",
     "output_type": "stream",
     "text": [
      "Help on class str in module builtins:\n",
      "\n",
      "class str(object)\n",
      " |  str(object='') -> str\n",
      " |  str(bytes_or_buffer[, encoding[, errors]]) -> str\n",
      " |  \n",
      " |  Create a new string object from the given object. If encoding or\n",
      " |  errors is specified, then the object must expose a data buffer\n",
      " |  that will be decoded using the given encoding and error handler.\n",
      " |  Otherwise, returns the result of object.__str__() (if defined)\n",
      " |  or repr(object).\n",
      " |  encoding defaults to sys.getdefaultencoding().\n",
      " |  errors defaults to 'strict'.\n",
      " |  \n",
      " |  Methods defined here:\n",
      " |  \n",
      " |  __add__(self, value, /)\n",
      " |      Return self+value.\n",
      " |  \n",
      " |  __contains__(self, key, /)\n",
      " |      Return key in self.\n",
      " |  \n",
      " |  __eq__(self, value, /)\n",
      " |      Return self==value.\n",
      " |  \n",
      " |  __format__(self, format_spec, /)\n",
      " |      Return a formatted version of the string as described by format_spec.\n",
      " |  \n",
      " |  __ge__(self, value, /)\n",
      " |      Return self>=value.\n",
      " |  \n",
      " |  __getattribute__(self, name, /)\n",
      " |      Return getattr(self, name).\n",
      " |  \n",
      " |  __getitem__(self, key, /)\n",
      " |      Return self[key].\n",
      " |  \n",
      " |  __getnewargs__(...)\n",
      " |  \n",
      " |  __gt__(self, value, /)\n",
      " |      Return self>value.\n",
      " |  \n",
      " |  __hash__(self, /)\n",
      " |      Return hash(self).\n",
      " |  \n",
      " |  __iter__(self, /)\n",
      " |      Implement iter(self).\n",
      " |  \n",
      " |  __le__(self, value, /)\n",
      " |      Return self<=value.\n",
      " |  \n",
      " |  __len__(self, /)\n",
      " |      Return len(self).\n",
      " |  \n",
      " |  __lt__(self, value, /)\n",
      " |      Return self<value.\n",
      " |  \n",
      " |  __mod__(self, value, /)\n",
      " |      Return self%value.\n",
      " |  \n",
      " |  __mul__(self, value, /)\n",
      " |      Return self*value.\n",
      " |  \n",
      " |  __ne__(self, value, /)\n",
      " |      Return self!=value.\n",
      " |  \n",
      " |  __repr__(self, /)\n",
      " |      Return repr(self).\n",
      " |  \n",
      " |  __rmod__(self, value, /)\n",
      " |      Return value%self.\n",
      " |  \n",
      " |  __rmul__(self, value, /)\n",
      " |      Return value*self.\n",
      " |  \n",
      " |  __sizeof__(self, /)\n",
      " |      Return the size of the string in memory, in bytes.\n",
      " |  \n",
      " |  __str__(self, /)\n",
      " |      Return str(self).\n",
      " |  \n",
      " |  capitalize(self, /)\n",
      " |      Return a capitalized version of the string.\n",
      " |      \n",
      " |      More specifically, make the first character have upper case and the rest lower\n",
      " |      case.\n",
      " |  \n",
      " |  casefold(self, /)\n",
      " |      Return a version of the string suitable for caseless comparisons.\n",
      " |  \n",
      " |  center(self, width, fillchar=' ', /)\n",
      " |      Return a centered string of length width.\n",
      " |      \n",
      " |      Padding is done using the specified fill character (default is a space).\n",
      " |  \n",
      " |  count(...)\n",
      " |      S.count(sub[, start[, end]]) -> int\n",
      " |      \n",
      " |      Return the number of non-overlapping occurrences of substring sub in\n",
      " |      string S[start:end].  Optional arguments start and end are\n",
      " |      interpreted as in slice notation.\n",
      " |  \n",
      " |  encode(self, /, encoding='utf-8', errors='strict')\n",
      " |      Encode the string using the codec registered for encoding.\n",
      " |      \n",
      " |      encoding\n",
      " |        The encoding in which to encode the string.\n",
      " |      errors\n",
      " |        The error handling scheme to use for encoding errors.\n",
      " |        The default is 'strict' meaning that encoding errors raise a\n",
      " |        UnicodeEncodeError.  Other possible values are 'ignore', 'replace' and\n",
      " |        'xmlcharrefreplace' as well as any other name registered with\n",
      " |        codecs.register_error that can handle UnicodeEncodeErrors.\n",
      " |  \n",
      " |  endswith(...)\n",
      " |      S.endswith(suffix[, start[, end]]) -> bool\n",
      " |      \n",
      " |      Return True if S ends with the specified suffix, False otherwise.\n",
      " |      With optional start, test S beginning at that position.\n",
      " |      With optional end, stop comparing S at that position.\n",
      " |      suffix can also be a tuple of strings to try.\n",
      " |  \n",
      " |  expandtabs(self, /, tabsize=8)\n",
      " |      Return a copy where all tab characters are expanded using spaces.\n",
      " |      \n",
      " |      If tabsize is not given, a tab size of 8 characters is assumed.\n",
      " |  \n",
      " |  find(...)\n",
      " |      S.find(sub[, start[, end]]) -> int\n",
      " |      \n",
      " |      Return the lowest index in S where substring sub is found,\n",
      " |      such that sub is contained within S[start:end].  Optional\n",
      " |      arguments start and end are interpreted as in slice notation.\n",
      " |      \n",
      " |      Return -1 on failure.\n",
      " |  \n",
      " |  format(...)\n",
      " |      S.format(*args, **kwargs) -> str\n",
      " |      \n",
      " |      Return a formatted version of S, using substitutions from args and kwargs.\n",
      " |      The substitutions are identified by braces ('{' and '}').\n",
      " |  \n",
      " |  format_map(...)\n",
      " |      S.format_map(mapping) -> str\n",
      " |      \n",
      " |      Return a formatted version of S, using substitutions from mapping.\n",
      " |      The substitutions are identified by braces ('{' and '}').\n",
      " |  \n",
      " |  index(...)\n",
      " |      S.index(sub[, start[, end]]) -> int\n",
      " |      \n",
      " |      Return the lowest index in S where substring sub is found,\n",
      " |      such that sub is contained within S[start:end].  Optional\n",
      " |      arguments start and end are interpreted as in slice notation.\n",
      " |      \n",
      " |      Raises ValueError when the substring is not found.\n",
      " |  \n",
      " |  isalnum(self, /)\n",
      " |      Return True if the string is an alpha-numeric string, False otherwise.\n",
      " |      \n",
      " |      A string is alpha-numeric if all characters in the string are alpha-numeric and\n",
      " |      there is at least one character in the string.\n",
      " |  \n",
      " |  isalpha(self, /)\n",
      " |      Return True if the string is an alphabetic string, False otherwise.\n",
      " |      \n",
      " |      A string is alphabetic if all characters in the string are alphabetic and there\n",
      " |      is at least one character in the string.\n",
      " |  \n",
      " |  isascii(self, /)\n",
      " |      Return True if all characters in the string are ASCII, False otherwise.\n",
      " |      \n",
      " |      ASCII characters have code points in the range U+0000-U+007F.\n",
      " |      Empty string is ASCII too.\n",
      " |  \n",
      " |  isdecimal(self, /)\n",
      " |      Return True if the string is a decimal string, False otherwise.\n",
      " |      \n",
      " |      A string is a decimal string if all characters in the string are decimal and\n",
      " |      there is at least one character in the string.\n",
      " |  \n",
      " |  isdigit(self, /)\n",
      " |      Return True if the string is a digit string, False otherwise.\n",
      " |      \n",
      " |      A string is a digit string if all characters in the string are digits and there\n",
      " |      is at least one character in the string.\n",
      " |  \n",
      " |  isidentifier(self, /)\n",
      " |      Return True if the string is a valid Python identifier, False otherwise.\n",
      " |      \n",
      " |      Call keyword.iskeyword(s) to test whether string s is a reserved identifier,\n",
      " |      such as \"def\" or \"class\".\n",
      " |  \n",
      " |  islower(self, /)\n",
      " |      Return True if the string is a lowercase string, False otherwise.\n",
      " |      \n",
      " |      A string is lowercase if all cased characters in the string are lowercase and\n",
      " |      there is at least one cased character in the string.\n",
      " |  \n",
      " |  isnumeric(self, /)\n",
      " |      Return True if the string is a numeric string, False otherwise.\n",
      " |      \n",
      " |      A string is numeric if all characters in the string are numeric and there is at\n",
      " |      least one character in the string.\n",
      " |  \n",
      " |  isprintable(self, /)\n",
      " |      Return True if the string is printable, False otherwise.\n",
      " |      \n",
      " |      A string is printable if all of its characters are considered printable in\n",
      " |      repr() or if it is empty.\n",
      " |  \n",
      " |  isspace(self, /)\n",
      " |      Return True if the string is a whitespace string, False otherwise.\n",
      " |      \n",
      " |      A string is whitespace if all characters in the string are whitespace and there\n",
      " |      is at least one character in the string.\n",
      " |  \n",
      " |  istitle(self, /)\n",
      " |      Return True if the string is a title-cased string, False otherwise.\n",
      " |      \n",
      " |      In a title-cased string, upper- and title-case characters may only\n",
      " |      follow uncased characters and lowercase characters only cased ones.\n",
      " |  \n",
      " |  isupper(self, /)\n",
      " |      Return True if the string is an uppercase string, False otherwise.\n",
      " |      \n",
      " |      A string is uppercase if all cased characters in the string are uppercase and\n",
      " |      there is at least one cased character in the string.\n",
      " |  \n",
      " |  join(self, iterable, /)\n",
      " |      Concatenate any number of strings.\n",
      " |      \n",
      " |      The string whose method is called is inserted in between each given string.\n",
      " |      The result is returned as a new string.\n",
      " |      \n",
      " |      Example: '.'.join(['ab', 'pq', 'rs']) -> 'ab.pq.rs'\n",
      " |  \n",
      " |  ljust(self, width, fillchar=' ', /)\n",
      " |      Return a left-justified string of length width.\n",
      " |      \n",
      " |      Padding is done using the specified fill character (default is a space).\n",
      " |  \n",
      " |  lower(self, /)\n",
      " |      Return a copy of the string converted to lowercase.\n",
      " |  \n",
      " |  lstrip(self, chars=None, /)\n",
      " |      Return a copy of the string with leading whitespace removed.\n",
      " |      \n",
      " |      If chars is given and not None, remove characters in chars instead.\n",
      " |  \n",
      " |  partition(self, sep, /)\n",
      " |      Partition the string into three parts using the given separator.\n",
      " |      \n",
      " |      This will search for the separator in the string.  If the separator is found,\n",
      " |      returns a 3-tuple containing the part before the separator, the separator\n",
      " |      itself, and the part after it.\n",
      " |      \n",
      " |      If the separator is not found, returns a 3-tuple containing the original string\n",
      " |      and two empty strings.\n",
      " |  \n",
      " |  replace(self, old, new, count=-1, /)\n",
      " |      Return a copy with all occurrences of substring old replaced by new.\n",
      " |      \n",
      " |        count\n",
      " |          Maximum number of occurrences to replace.\n",
      " |          -1 (the default value) means replace all occurrences.\n",
      " |      \n",
      " |      If the optional argument count is given, only the first count occurrences are\n",
      " |      replaced.\n",
      " |  \n",
      " |  rfind(...)\n",
      " |      S.rfind(sub[, start[, end]]) -> int\n",
      " |      \n",
      " |      Return the highest index in S where substring sub is found,\n",
      " |      such that sub is contained within S[start:end].  Optional\n",
      " |      arguments start and end are interpreted as in slice notation.\n",
      " |      \n",
      " |      Return -1 on failure.\n",
      " |  \n",
      " |  rindex(...)\n",
      " |      S.rindex(sub[, start[, end]]) -> int\n",
      " |      \n",
      " |      Return the highest index in S where substring sub is found,\n",
      " |      such that sub is contained within S[start:end].  Optional\n",
      " |      arguments start and end are interpreted as in slice notation.\n",
      " |      \n",
      " |      Raises ValueError when the substring is not found.\n",
      " |  \n",
      " |  rjust(self, width, fillchar=' ', /)\n",
      " |      Return a right-justified string of length width.\n",
      " |      \n",
      " |      Padding is done using the specified fill character (default is a space).\n",
      " |  \n",
      " |  rpartition(self, sep, /)\n",
      " |      Partition the string into three parts using the given separator.\n",
      " |      \n",
      " |      This will search for the separator in the string, starting at the end. If\n",
      " |      the separator is found, returns a 3-tuple containing the part before the\n",
      " |      separator, the separator itself, and the part after it.\n",
      " |      \n",
      " |      If the separator is not found, returns a 3-tuple containing two empty strings\n",
      " |      and the original string.\n",
      " |  \n",
      " |  rsplit(self, /, sep=None, maxsplit=-1)\n",
      " |      Return a list of the words in the string, using sep as the delimiter string.\n",
      " |      \n",
      " |        sep\n",
      " |          The delimiter according which to split the string.\n",
      " |          None (the default value) means split according to any whitespace,\n",
      " |          and discard empty strings from the result.\n",
      " |        maxsplit\n",
      " |          Maximum number of splits to do.\n",
      " |          -1 (the default value) means no limit.\n",
      " |      \n",
      " |      Splits are done starting at the end of the string and working to the front.\n",
      " |  \n",
      " |  rstrip(self, chars=None, /)\n",
      " |      Return a copy of the string with trailing whitespace removed.\n",
      " |      \n",
      " |      If chars is given and not None, remove characters in chars instead.\n",
      " |  \n",
      " |  split(self, /, sep=None, maxsplit=-1)\n",
      " |      Return a list of the words in the string, using sep as the delimiter string.\n",
      " |      \n",
      " |      sep\n",
      " |        The delimiter according which to split the string.\n",
      " |        None (the default value) means split according to any whitespace,\n",
      " |        and discard empty strings from the result.\n",
      " |      maxsplit\n",
      " |        Maximum number of splits to do.\n",
      " |        -1 (the default value) means no limit.\n",
      " |  \n",
      " |  splitlines(self, /, keepends=False)\n",
      " |      Return a list of the lines in the string, breaking at line boundaries.\n",
      " |      \n",
      " |      Line breaks are not included in the resulting list unless keepends is given and\n",
      " |      true.\n",
      " |  \n",
      " |  startswith(...)\n",
      " |      S.startswith(prefix[, start[, end]]) -> bool\n",
      " |      \n",
      " |      Return True if S starts with the specified prefix, False otherwise.\n",
      " |      With optional start, test S beginning at that position.\n",
      " |      With optional end, stop comparing S at that position.\n",
      " |      prefix can also be a tuple of strings to try.\n",
      " |  \n",
      " |  strip(self, chars=None, /)\n",
      " |      Return a copy of the string with leading and trailing whitespace removed.\n",
      " |      \n",
      " |      If chars is given and not None, remove characters in chars instead.\n",
      " |  \n",
      " |  swapcase(self, /)\n",
      " |      Convert uppercase characters to lowercase and lowercase characters to uppercase.\n",
      " |  \n",
      " |  title(self, /)\n",
      " |      Return a version of the string where each word is titlecased.\n",
      " |      \n",
      " |      More specifically, words start with uppercased characters and all remaining\n",
      " |      cased characters have lower case.\n",
      " |  \n",
      " |  translate(self, table, /)\n",
      " |      Replace each character in the string using the given translation table.\n",
      " |      \n",
      " |        table\n",
      " |          Translation table, which must be a mapping of Unicode ordinals to\n",
      " |          Unicode ordinals, strings, or None.\n",
      " |      \n",
      " |      The table must implement lookup/indexing via __getitem__, for instance a\n",
      " |      dictionary or list.  If this operation raises LookupError, the character is\n",
      " |      left untouched.  Characters mapped to None are deleted.\n",
      " |  \n",
      " |  upper(self, /)\n",
      " |      Return a copy of the string converted to uppercase.\n",
      " |  \n",
      " |  zfill(self, width, /)\n",
      " |      Pad a numeric string with zeros on the left, to fill a field of the given width.\n",
      " |      \n",
      " |      The string is never truncated.\n",
      " |  \n",
      " |  ----------------------------------------------------------------------\n",
      " |  Static methods defined here:\n",
      " |  \n",
      " |  __new__(*args, **kwargs) from builtins.type\n",
      " |      Create and return a new object.  See help(type) for accurate signature.\n",
      " |  \n",
      " |  maketrans(...)\n",
      " |      Return a translation table usable for str.translate().\n",
      " |      \n",
      " |      If there is only one argument, it must be a dictionary mapping Unicode\n",
      " |      ordinals (integers) or characters to Unicode ordinals, strings or None.\n",
      " |      Character keys will be then converted to ordinals.\n",
      " |      If there are two arguments, they must be strings of equal length, and\n",
      " |      in the resulting dictionary, each character in x will be mapped to the\n",
      " |      character at the same position in y. If there is a third argument, it\n",
      " |      must be a string, whose characters will be mapped to None in the result.\n",
      "\n"
     ]
    }
   ],
   "source": [
    "help(str)"
   ]
  },
  {
   "cell_type": "code",
   "execution_count": 41,
   "metadata": {},
   "outputs": [
    {
     "data": {
      "text/plain": [
       "['__add__',\n",
       " '__class__',\n",
       " '__contains__',\n",
       " '__delattr__',\n",
       " '__dir__',\n",
       " '__doc__',\n",
       " '__eq__',\n",
       " '__format__',\n",
       " '__ge__',\n",
       " '__getattribute__',\n",
       " '__getitem__',\n",
       " '__getnewargs__',\n",
       " '__gt__',\n",
       " '__hash__',\n",
       " '__init__',\n",
       " '__init_subclass__',\n",
       " '__iter__',\n",
       " '__le__',\n",
       " '__len__',\n",
       " '__lt__',\n",
       " '__mod__',\n",
       " '__mul__',\n",
       " '__ne__',\n",
       " '__new__',\n",
       " '__reduce__',\n",
       " '__reduce_ex__',\n",
       " '__repr__',\n",
       " '__rmod__',\n",
       " '__rmul__',\n",
       " '__setattr__',\n",
       " '__sizeof__',\n",
       " '__str__',\n",
       " '__subclasshook__',\n",
       " 'capitalize',\n",
       " 'casefold',\n",
       " 'center',\n",
       " 'count',\n",
       " 'encode',\n",
       " 'endswith',\n",
       " 'expandtabs',\n",
       " 'find',\n",
       " 'format',\n",
       " 'format_map',\n",
       " 'index',\n",
       " 'isalnum',\n",
       " 'isalpha',\n",
       " 'isascii',\n",
       " 'isdecimal',\n",
       " 'isdigit',\n",
       " 'isidentifier',\n",
       " 'islower',\n",
       " 'isnumeric',\n",
       " 'isprintable',\n",
       " 'isspace',\n",
       " 'istitle',\n",
       " 'isupper',\n",
       " 'join',\n",
       " 'ljust',\n",
       " 'lower',\n",
       " 'lstrip',\n",
       " 'maketrans',\n",
       " 'partition',\n",
       " 'replace',\n",
       " 'rfind',\n",
       " 'rindex',\n",
       " 'rjust',\n",
       " 'rpartition',\n",
       " 'rsplit',\n",
       " 'rstrip',\n",
       " 'split',\n",
       " 'splitlines',\n",
       " 'startswith',\n",
       " 'strip',\n",
       " 'swapcase',\n",
       " 'title',\n",
       " 'translate',\n",
       " 'upper',\n",
       " 'zfill']"
      ]
     },
     "execution_count": 41,
     "metadata": {},
     "output_type": "execute_result"
    }
   ],
   "source": [
    "ch = \"hello\"\n",
    "\n",
    "dir(ch)"
   ]
  },
  {
   "cell_type": "markdown",
   "metadata": {},
   "source": [
    "## II. Créer sa propre classe d'objets\n",
    "\n",
    "### II.1 Vocabulaire de la POO : classe, instance, attributs, méthodes"
   ]
  },
  {
   "cell_type": "markdown",
   "metadata": {},
   "source": [
    "<div class='alert-info'>\n",
    "\n",
    "**Définition :** En POO, une **classe**  est une structure de données définissant une catégorie générique d'objets. \n",
    "</div>\n",
    "<br>\n",
    "<br>\n",
    "<br>\n",
    "<div class='alert-warning'>\n",
    "\n",
    "**Exemple :** Dans le monde animal, _chat_ est une classe (nommée en réalité _félidé_ ).  \n",
    "Chaque élement de la classe _chat_ va se distinguer par des caractéristiques : \n",
    "- un âge, une couleur de pelage, un surnom... \n",
    "- et des fonctionnalités, comme la fonction  ```attrape_souris()```. \n",
    "    </div>\n",
    "<br>\n",
    "<br>\n",
    "\n",
    "<div class='alert-info'>\n",
    "    \n",
    "**Vocabulaire :** En POO,\n",
    "- chaque élément, chaque représentant d'une classe est appelé un **objet** ou une instance de la classe correspondante;\n",
    "- les caractéristiques, les propriétés d'une classe sont appelés des **attributs**;\n",
    "- les fonctions associées à une classe sont appelées des **méthodes.**\n",
    "</div>\n",
    "<br>\n",
    "<br>\n",
    "<div class='alert-warning'>\n",
    "    \n",
    "**Exemple :** Si on reprend, l'exemple de la classe Chat, on peut la résumer par le schéma ci-dessous : \n",
    "![](i4.png)\n",
    "\n",
    "On y a représenté de plus deux objets (bien réels) ou deux instances de cette classe Chat : Félix et Chipie."
   ]
  },
  {
   "cell_type": "markdown",
   "metadata": {},
   "source": [
    "### II.2 Créer sa propre classe en Python\n",
    "\n",
    "### a) La méthode minimale (mauvaise méthode)\n",
    "<br>\n",
    "<br>\n",
    "<div class='alert-warning'>\n",
    "    \n",
    "**Exemple :** Créons une classe \"voiture\" en Python. Pour cela, il suffit d'écrire :\n",
    "\n"
   ]
  },
  {
   "cell_type": "code",
   "execution_count": 42,
   "metadata": {},
   "outputs": [],
   "source": [
    "class Voiture :\n",
    "    pass            # pass signifie ne fait rien.\n",
    "                    # Pour l'instant, il n'y a rien dans la déclaration de la classe (et c'est mal...)"
   ]
  },
  {
   "cell_type": "markdown",
   "metadata": {},
   "source": [
    "La classe Voiture est ainsi créee.\n",
    "<br>\n",
    "<br>\n",
    "<div class='alert-info'>\n",
    "    \n",
    "**N.B. :** Comme vous pouvez le constater :\n",
    "- Pour créer une classe on utilise le mot-clé :``class``suivi par le nom de la classe;\n",
    "- le nom de la classe commence par une **majuscule** et ne contient que des caractères alpha-numériques."
   ]
  },
  {
   "cell_type": "markdown",
   "metadata": {},
   "source": [
    "<div class='alert-warning'>\n",
    "\n",
    "Pour créer une instance de cette classe, on écrit :"
   ]
  },
  {
   "cell_type": "code",
   "execution_count": 43,
   "metadata": {},
   "outputs": [],
   "source": [
    "auto = Voiture()"
   ]
  },
  {
   "cell_type": "markdown",
   "metadata": {},
   "source": [
    "```auto``` est donc un objet, instance de la classe ```Voiture```."
   ]
  },
  {
   "cell_type": "code",
   "execution_count": 44,
   "metadata": {},
   "outputs": [
    {
     "data": {
      "text/plain": [
       "__main__.Voiture"
      ]
     },
     "execution_count": 44,
     "metadata": {},
     "output_type": "execute_result"
    }
   ],
   "source": [
    "type(auto)"
   ]
  },
  {
   "cell_type": "markdown",
   "metadata": {},
   "source": [
    "<div class='alert-warning'>\n",
    "    \n",
    " On peut également voir à quelle adresse mémoire se trouve cet objet crée en faisant un simple affichage de cet objet :"
   ]
  },
  {
   "cell_type": "code",
   "execution_count": 45,
   "metadata": {},
   "outputs": [
    {
     "name": "stdout",
     "output_type": "stream",
     "text": [
      "<__main__.Voiture object at 0x000001E66D2EF490>\n"
     ]
    }
   ],
   "source": [
    "print(auto)"
   ]
  },
  {
   "cell_type": "markdown",
   "metadata": {},
   "source": [
    "<div class='alert-warning'>\n",
    " \n",
    "On peut alors créer autant de voitures que l'on veut qui se trouveront donc à différentes adresses mémoire de l'ordinateur :"
   ]
  },
  {
   "cell_type": "code",
   "execution_count": 46,
   "metadata": {},
   "outputs": [],
   "source": [
    "auto1 = Voiture()\n",
    "auto2 = Voiture()\n",
    "auto3 = Voiture()"
   ]
  },
  {
   "cell_type": "code",
   "execution_count": 47,
   "metadata": {},
   "outputs": [
    {
     "name": "stdout",
     "output_type": "stream",
     "text": [
      "<__main__.Voiture object at 0x000001E66D2EF2E0>\n",
      "<__main__.Voiture object at 0x000001E66D2EF640>\n",
      "<__main__.Voiture object at 0x000001E66D2EF6A0>\n"
     ]
    }
   ],
   "source": [
    "print(auto1)\n",
    "print(auto2)\n",
    "print(auto3)"
   ]
  },
  {
   "cell_type": "markdown",
   "metadata": {},
   "source": [
    "<div class='alert-info'>\n",
    "    \n",
    "Créons maintenant des attributs à l'instance auto1 auquel on affectera des valeurs.<br>\n",
    "Par exemple, pour cette classe ``Voiture``, considérons les attributs :\n",
    "- ``annee``\n",
    "- ``couleur``\n",
    "- ``vitesse_max``\n",
    "\n",
    "Pour cela, en Python, comme pour les méthodes, on utilisera la notation pointée ``nom_objet.nom_attribut = valeur``"
   ]
  },
  {
   "cell_type": "code",
   "execution_count": 48,
   "metadata": {},
   "outputs": [],
   "source": [
    "auto1.annee = 2018\n",
    "auto1.couleur = \"rouge\"\n",
    "auto1.vitesse_max = 185"
   ]
  },
  {
   "cell_type": "code",
   "execution_count": 49,
   "metadata": {},
   "outputs": [
    {
     "name": "stdout",
     "output_type": "stream",
     "text": [
      "2018\n",
      "rouge\n",
      "185\n"
     ]
    }
   ],
   "source": [
    "print(auto1.annee)\n",
    "print(auto1.couleur)\n",
    "print(auto1.vitesse_max)"
   ]
  },
  {
   "cell_type": "markdown",
   "metadata": {},
   "source": [
    "<div class='alert-info'>\n",
    "\n",
    "**Remarque :** On constate très vite qu'en agissant ainsi, il faudra créer les attributs et les valeurs correspondantes à chaque instance de notre classe (i.e à chaque voiture créee de la classe Voiture).<br>\n",
    "Cette méthode n'est donc pas satisfaisante.\n",
    "\n",
    "Si on désire créer une classe \"voiture\", c'est pour créer un concept générique de voiture et d'en spécifier des caractéristiques communes : l'année, la couleur, la vitesse maximale etc ...\n",
    "\n",
    "L'idée est donc qu'à la création (i.e  à la construction) de chaque objet voiture, on va lui spécifier directement les valeurs des attributs.<br>\n"
   ]
  },
  {
   "cell_type": "markdown",
   "metadata": {},
   "source": [
    "### b) La méthode constructeur (la bonne méthode)\n",
    "<br>\n",
    "<div class='alert-info'>\n",
    "    \n",
    "**N.B :** La **méthode constructeur**, toujours appelée ```__init__()```, est une méthode  qui sera automatiquement appelée à la création de l'objet. <br>\n",
    "Dans cette méthode constructeur, on va donc déclarer tous les attributs de la classe.<br>\n",
    "Ainsi, la méthode constructeur permettra de  doter  automatiquement un objet nouvellement créé de tous les attributs de sa classe :"
   ]
  },
  {
   "cell_type": "code",
   "execution_count": 50,
   "metadata": {},
   "outputs": [],
   "source": [
    "class Voiture :\n",
    "    def __init__(self, annee, coul, vmax) :\n",
    "        self.annee = annee             # déclaration de l'attribut annee\n",
    "        self.couleur = coul            # déclaration de l'attribut couleur\n",
    "        self.vitesse_max = vmax        # déclaration de l'attribut vitesse_max\n",
    "        \n",
    "        "
   ]
  },
  {
   "cell_type": "markdown",
   "metadata": {},
   "source": [
    "<div class='alert-info'>\n",
    "\n",
    "**N.B :** \n",
    "- le mot-clé ```self```, omniprésent en POO, fait référence à l'objet auquel s'appliquera la méthode.<br>\n",
    "Elle représente l'objet dans la méthode en attendant qu'il soit créé.<br>\n",
    "Ainsi toutes les méthodes d'une classe auront pour premier paramètre ``self``.\n",
    "    <br>\n",
    "    <br>\n",
    "- pour construire un objet de cette classe ``Voiture`` , 3 autres paramètres seront aussi nécessaires : ```annee```, ```coul``` et ```vmax```. <br>\n",
    "Ils donneront respectivement leur valeur aux attributs ```annee```, ```couleur``` et ```vitesse_max```.\n",
    "</div>\n",
    "<br>\n",
    "\n",
    "<div class='alert-success'>\n",
    "\n",
    "**Remarque :** Dans cet exemple, les paramètres ```coul``` et ```vmax``` ont été utilisés pour abréger ```couleur``` et ```vitesse_max``` et ainsi pour les distinguer de leurs attributs.<br>\n",
    "Cela permet d'éviter des confusions (entre attributs et paramètres correspondants), mais vous pouvez très bien donner le même nom à un paramètre et à son attribut correspondant. <br>\n",
    "D'ailleurs, c'est que l'on a fait pour le parametre ``annee``! Et en pratique, on le fait très souvent.\n",
    "</div>\n",
    "<br>\n",
    "<br>\n",
    "<div class='alert-warning'>\n",
    " \n",
    "Construisons donc notre première voiture que l'on nommera ``mon_bolide`` caractérisé par les attributs :\n",
    "- ``annee = 2019``\n",
    "- ``couleur = \"blanche\"``\n",
    "- ``vitesse_max = 230``\n"
   ]
  },
  {
   "cell_type": "code",
   "execution_count": 51,
   "metadata": {},
   "outputs": [],
   "source": [
    "mon_bolide = Voiture(2019,\"blanche\", 230)"
   ]
  },
  {
   "cell_type": "markdown",
   "metadata": {},
   "source": [
    "<div class='alert-info'>\n",
    "    \n",
    "    \n",
    "**N.B. :** Désormais, on indique les valeurs des 3 paramètres après le nom de la classe.<br>\n",
    "Le mot-clé ``self`` (qui représentait l'objet en attendant qu'il soit créé) n'apparaît plus dans les paramètres car c'est l'objet ``mon_bolide`` nouvellement créé qui va le remplacer."
   ]
  },
  {
   "cell_type": "code",
   "execution_count": 52,
   "metadata": {},
   "outputs": [
    {
     "name": "stdout",
     "output_type": "stream",
     "text": [
      "<class '__main__.Voiture'>\n",
      "<__main__.Voiture object at 0x000001E66D2EF400>\n"
     ]
    }
   ],
   "source": [
    "print(type(mon_bolide))\n",
    "print(mon_bolide)"
   ]
  },
  {
   "cell_type": "markdown",
   "metadata": {},
   "source": [
    "<div class='alert-info'>\n",
    "    \n",
    "    \n",
    "**N.B. (Rappel) :** Pour accéder ou modifier la valeur d'un attribut, on utilise la notation pointée ``nom_objet.nom_attribut = valeur``"
   ]
  },
  {
   "cell_type": "code",
   "execution_count": 53,
   "metadata": {},
   "outputs": [
    {
     "name": "stdout",
     "output_type": "stream",
     "text": [
      "2019\n",
      "blanche\n",
      "230\n"
     ]
    }
   ],
   "source": [
    "print(mon_bolide.annee)\n",
    "print(mon_bolide.couleur)\n",
    "print(mon_bolide.vitesse_max)"
   ]
  },
  {
   "cell_type": "code",
   "execution_count": 54,
   "metadata": {},
   "outputs": [
    {
     "data": {
      "text/plain": [
       "'bleu'"
      ]
     },
     "execution_count": 54,
     "metadata": {},
     "output_type": "execute_result"
    }
   ],
   "source": [
    "mon_bolide.couleur = \"bleu\"   # Modification de la valeur de l'attribut couleur\n",
    "mon_bolide.couleur"
   ]
  },
  {
   "cell_type": "markdown",
   "metadata": {},
   "source": [
    "<div class='alert-warning'>\n",
    "    \n",
    "Bien sûr, on peut créer une autre voiture en suivant le même principe :"
   ]
  },
  {
   "cell_type": "code",
   "execution_count": 55,
   "metadata": {},
   "outputs": [],
   "source": [
    "batmobile = Voiture(2036, \"noire\", 325)"
   ]
  },
  {
   "cell_type": "code",
   "execution_count": 56,
   "metadata": {},
   "outputs": [
    {
     "data": {
      "text/plain": [
       "325"
      ]
     },
     "execution_count": 56,
     "metadata": {},
     "output_type": "execute_result"
    }
   ],
   "source": [
    "batmobile.vitesse_max"
   ]
  },
  {
   "cell_type": "markdown",
   "metadata": {},
   "source": [
    "<div class='alert-warning'>\n",
    "            \n",
    "### A faire vous-même 1 :\n",
    "    \n",
    "1. Créer une classe ``Point`` permettant de créer un objet ```A``` , dont on récupèrera l'abscisse par la variable ```A.x``` et l'ordonnée par ```A.y```.\n",
    "    \n",
    "2. Construire alors le point ``A(3;5)`` et ``B(-2;-4)``.\n",
    "    \n",
    "3. On considère le point ``C(3;5)`` (qui donc les mêmes coordonnées que le point A).<br>\n",
    "    Les points ``A`` et ``C`` définissent-ils les mêmes objets de classe ``Point`` ?"
   ]
  },
  {
   "cell_type": "code",
   "execution_count": 57,
   "metadata": {},
   "outputs": [
    {
     "name": "stdout",
     "output_type": "stream",
     "text": [
      "3\n",
      "4\n",
      "False\n",
      "<__main__.Point object at 0x000001E66D2E28B0>\n",
      "<__main__.Point object at 0x000001E66D2E23D0>\n"
     ]
    }
   ],
   "source": [
    "# YOUR CODE HERE\n",
    "\n",
    "#1. \n",
    "class Point :\n",
    "    def __init__(self,x,y) :\n",
    "        self.x = x\n",
    "        self.y = y\n",
    "\n",
    "#2.\n",
    "A = Point(3,5)\n",
    "B = Point (-2,4)\n",
    "print(A.x)\n",
    "print(B.y)\n",
    "\n",
    "3.\n",
    "print(A==B)\n",
    "print(A)\n",
    "print(B)"
   ]
  },
  {
   "cell_type": "markdown",
   "metadata": {},
   "source": [
    "### II.3 Créer une méthode pour une classe\n",
    "\n",
    "Pour notre classe ``Voiture``, on va créer la méthode ``petite_annonce``.<br>\n",
    "<br>\n",
    "\n",
    "<div class='alert-warning'>\n",
    "    \n",
    "Analyser et exécuter le code ci-dessous :"
   ]
  },
  {
   "cell_type": "code",
   "execution_count": 58,
   "metadata": {},
   "outputs": [],
   "source": [
    "class Voiture :\n",
    "    def __init__(self, annee, coul, vmax) :\n",
    "        self.annee = annee\n",
    "        self.couleur = coul\n",
    "        self.vitesse_max = vmax\n",
    "        \n",
    "    def petite_annonce(self) :\n",
    "        print(\"À vendre voiture\", self.couleur, \"de\", self.annee, \", vitesse maximale\", self.vitesse_max, \"km/h.\")\n"
   ]
  },
  {
   "cell_type": "code",
   "execution_count": 59,
   "metadata": {},
   "outputs": [
    {
     "name": "stdout",
     "output_type": "stream",
     "text": [
      "À vendre voiture noire de 2036 , vitesse maximale 325 km/h.\n"
     ]
    }
   ],
   "source": [
    "batmobile = Voiture(2036, \"noire\", 325)\n",
    "batmobile.petite_annonce()       # Utilisation de la notation pointée pour appliquer la méthode à l'objet batmobile"
   ]
  },
  {
   "cell_type": "markdown",
   "metadata": {},
   "source": [
    "<div class='alert-warning'>\n",
    "            \n",
    "### A faire vous-même 2 :\n",
    "    \n",
    "Créer pour la classe ``Voiture`` la méthode ``age_voiture`` qui renvoie l'âge de la voiture en fonction de l'année de l'achat."
   ]
  },
  {
   "cell_type": "code",
   "execution_count": 60,
   "metadata": {},
   "outputs": [],
   "source": [
    "# YOUR CODE HERE\n",
    "\n",
    "class Voiture :\n",
    "    def __init__(self, annee, coul, vmax) :\n",
    "        self.annee = annee\n",
    "        self.couleur = coul\n",
    "        self.vitesse_max = vmax\n",
    "        \n",
    "    def petite_annonce(self) :        \n",
    "        print(\"À vendre voiture\", self.couleur, \"de\", self.annee, \", vitesse maximale\", self.vitesse_max, \"km/h.\")\n",
    "        \n",
    "    def age(self,a) :\n",
    "        return a - self.annee\n",
    "\n"
   ]
  },
  {
   "cell_type": "code",
   "execution_count": 61,
   "metadata": {},
   "outputs": [],
   "source": [
    "mon_bolide = Voiture(2019,\"blanche\", 230)\n",
    "\n",
    "assert mon_bolide.age(2025) == 6\n",
    "assert mon_bolide.age(2019) == 0\n"
   ]
  },
  {
   "cell_type": "markdown",
   "metadata": {},
   "source": [
    "<div class='alert-success'>\n",
    "    \n",
    "**Remarque :** L'utilisateur n'ayant pas accès au code des méthodes de la classe, il est évidemment bienvenu de les documenter pour que l'utilisateur les exploite de la meilleure façon possible en toutes connaissances de causes."
   ]
  },
  {
   "cell_type": "code",
   "execution_count": 62,
   "metadata": {},
   "outputs": [],
   "source": [
    "class Voiture :\n",
    "    \"\"\"Classe représentant un objet voiture\"\"\"\n",
    "    def __init__(self, annee, coul, vmax) :\n",
    "        \"\"\"Constructeur de notre classe\"\"\"\n",
    "        self.annee = annee\n",
    "        self.couleur = coul\n",
    "        self.vitesse_max = vmax\n",
    "        \n",
    "    def petite_annonce(self) :\n",
    "        \"\"\" Affiche automatiquement une petite annonce concernant le véhicule\"\"\"\n",
    "        print(\"À vendre voiture\", self.couleur, \"de\", self.annee, \", vitesse maximale\", self.vitesse_max, \"km/h.\")\n",
    "        \n",
    "    def age(self,a) :\n",
    "        \"\"\"Renvoie l'âge de la voiture en fonction de l'année a de l'achat.\"\"\"\n",
    "        return a - self.annee"
   ]
  },
  {
   "cell_type": "markdown",
   "metadata": {},
   "source": [
    "<div class='alert-warning'>\n",
    "    \n",
    "Ainsi il aura connaissance du rôle de chaque méthode sur son objet :"
   ]
  },
  {
   "cell_type": "code",
   "execution_count": 63,
   "metadata": {},
   "outputs": [],
   "source": [
    "mon_bolide.age.__doc__"
   ]
  },
  {
   "cell_type": "markdown",
   "metadata": {},
   "source": [
    "<div class='alert-warning'>\n",
    "    \n",
    "Que donne la commande ```dir``` pour notre objet ?"
   ]
  },
  {
   "cell_type": "code",
   "execution_count": 64,
   "metadata": {},
   "outputs": [
    {
     "data": {
      "text/plain": [
       "['__class__',\n",
       " '__delattr__',\n",
       " '__dict__',\n",
       " '__dir__',\n",
       " '__doc__',\n",
       " '__eq__',\n",
       " '__format__',\n",
       " '__ge__',\n",
       " '__getattribute__',\n",
       " '__gt__',\n",
       " '__hash__',\n",
       " '__init__',\n",
       " '__init_subclass__',\n",
       " '__le__',\n",
       " '__lt__',\n",
       " '__module__',\n",
       " '__ne__',\n",
       " '__new__',\n",
       " '__reduce__',\n",
       " '__reduce_ex__',\n",
       " '__repr__',\n",
       " '__setattr__',\n",
       " '__sizeof__',\n",
       " '__str__',\n",
       " '__subclasshook__',\n",
       " '__weakref__',\n",
       " 'age',\n",
       " 'annee',\n",
       " 'couleur',\n",
       " 'petite_annonce',\n",
       " 'vitesse_max']"
      ]
     },
     "execution_count": 64,
     "metadata": {},
     "output_type": "execute_result"
    }
   ],
   "source": [
    "dir(mon_bolide)"
   ]
  },
  {
   "cell_type": "markdown",
   "metadata": {},
   "source": [
    "<div class='alert-warning'>\n",
    "    \n",
    "On y retrouve donc à la fois les trois attributs et les deux méthodes que nous avons créés pour notre objet."
   ]
  },
  {
   "cell_type": "code",
   "execution_count": 65,
   "metadata": {},
   "outputs": [
    {
     "name": "stdout",
     "output_type": "stream",
     "text": [
      "Help on Voiture in module __main__ object:\n",
      "\n",
      "class Voiture(builtins.object)\n",
      " |  Voiture(annee, coul, vmax)\n",
      " |  \n",
      " |  Methods defined here:\n",
      " |  \n",
      " |  __init__(self, annee, coul, vmax)\n",
      " |  \n",
      " |  age(self, a)\n",
      " |  \n",
      " |  petite_annonce(self)\n",
      " |  \n",
      " |  ----------------------------------------------------------------------\n",
      " |  Data descriptors defined here:\n",
      " |  \n",
      " |  __dict__\n",
      " |      dictionary for instance variables (if defined)\n",
      " |  \n",
      " |  __weakref__\n",
      " |      list of weak references to the object (if defined)\n",
      "\n"
     ]
    }
   ],
   "source": [
    "help(mon_bolide)"
   ]
  },
  {
   "cell_type": "markdown",
   "metadata": {},
   "source": [
    "### II.4 La méthode spéciale ``str``"
   ]
  },
  {
   "cell_type": "markdown",
   "metadata": {},
   "source": [
    "<div class='alert-success'>\n",
    "    \n",
    "**Remarque :** On a vu que lorsque l'on veut afficher un objet avec  la fonction ``print``, on obtient quelque chose de \"peu esthétique\" :"
   ]
  },
  {
   "cell_type": "code",
   "execution_count": 66,
   "metadata": {},
   "outputs": [
    {
     "name": "stdout",
     "output_type": "stream",
     "text": [
      "<__main__.Voiture object at 0x000001E66D2EF8B0>\n"
     ]
    }
   ],
   "source": [
    "print(mon_bolide)"
   ]
  },
  {
   "cell_type": "markdown",
   "metadata": {},
   "source": [
    "On a certes des informations utiles (adresse mémoire où se trouve l'objet), mais pas forcément celles que l'on veut, et l'affichage reste abstrait pour l'utilisateur commun, il faut bien le reconnaître.\n",
    "<br>\n",
    "<br>\n",
    "<div class='alert-info'>\n",
    "    \n",
    "Pour remédier à cela, il existe  une méthode spéciale, ``__str__`` , spécialement utilisée pour afficher l'objet avec ``print.``"
   ]
  },
  {
   "cell_type": "code",
   "execution_count": 7,
   "metadata": {},
   "outputs": [],
   "source": [
    "class Voiture :\n",
    "    \"\"\"Classe représentant un objet voiture\"\"\"\n",
    "    def __init__(self, annee, coul, vmax) :\n",
    "        \"\"\"Constructeur de notre classe\"\"\"\n",
    "        self.annee = annee\n",
    "        self.couleur = coul\n",
    "        self.vitesse_max = vmax\n",
    "        \n",
    "    def petite_annonce(self) :\n",
    "        \"\"\" Affiche automatiquement une petite annonce concernant le véhicule\"\"\"\n",
    "        print(\"À vendre voiture\", self.couleur, \"de\", self.annee, \", vitesse maximale\", self.vitesse_max, \"km/h.\")\n",
    "        \n",
    "    def age(self,a) :\n",
    "        \"\"\"Renvoie l'âge de la voiture en fonction de l'année a de l'achat.\"\"\"\n",
    "        return a - self.annee\n",
    "    \n",
    "    def __str__(self) :\n",
    "        \"\"\"Méthode permettant d'afficher plus joliment notre objet voiture\"\"\"\n",
    "        return \"Voiture ayant pour caractéristiques : année : \" + str(self.annee) + \\    \n",
    "    \"; couleur : \" + self.couleur +\"; vitesse_max : \" + str(self.vitesse_max) + \"km/h\""
   ]
  },
  {
   "cell_type": "code",
   "execution_count": 8,
   "metadata": {},
   "outputs": [
    {
     "name": "stdout",
     "output_type": "stream",
     "text": [
      "Voiture ayant pour caractéristiques : année : 2019; couleur : blanche; vitesse_max : 230km/h\n"
     ]
    }
   ],
   "source": [
    "mon_bolide = Voiture(2019,\"blanche\", 230)\n",
    "print(mon_bolide)"
   ]
  },
  {
   "cell_type": "markdown",
   "metadata": {},
   "source": [
    "## III. L'encapsulation\n",
    "### III.1 Le principe de l'encapsulation\n",
    "<br>\n",
    "\n",
    "<div class='alert-success'>\n",
    "    \n",
    "**Remarque :** Un objet étant constitué d'un état (valeurs des attributs) et de comportments (définis par leurs méthodes), un objet ne devrait donc jamais permettre à ses utilisateurs de modifier son état (valeurs des attributs) autrement qu'en utilisant les méthodes de la classe auxquelles appartient cet objet.<br>\n",
    "C'est ce que l'on appelle le principe d'**encapsulation** des données.\n",
    "</div>\n",
    "<br>\n",
    "<div class='alert-info'>\n",
    "    \n",
    "**Définition :** L'**encapsulation** des données désigne le fait de protéger les informations contenues dans un objet et de ne permettre la manipulation de ces informations que par l'utilisation des méthodes de l'objet.\n",
    "</div>\n",
    "<br>\n",
    "\n",
    "<div class='alert-warning'>\n",
    "    \n",
    "Reprenons alors l'exemple de la classe Voiture et de l'une de ses instances ``mon_bolide``.\n",
    "\n"
   ]
  },
  {
   "cell_type": "code",
   "execution_count": 1,
   "metadata": {},
   "outputs": [],
   "source": [
    "class Voiture :\n",
    "    \"\"\"Classe représentant un objet voiture\"\"\"\n",
    "    def __init__(self, annee, coul, vmax) :\n",
    "        \"\"\"Constructeur de notre classe\"\"\"\n",
    "        self.annee = annee\n",
    "        self.couleur = coul\n",
    "        self.vitesse_max = vmax\n",
    "        \n",
    "    def petite_annonce(self) :\n",
    "        \"\"\" Affiche automatiquement une petite annonce concernant le véhicule\"\"\"\n",
    "        print(\"À vendre voiture\", self.couleur, \"de\", self.annee, \", vitesse maximale\", self.vitesse_max, \"km/h.\")\n",
    "        \n",
    "    def age(self,a) :\n",
    "        \"\"\"Renvoie l'âge de la voiture en fonction de l'année a de l'achat.\"\"\"\n",
    "        return a - self.annee\n",
    "    \n",
    "    def __str__(self) :\n",
    "        \"\"\"Méthode permettant d'afficher plus joliment notre objet voiture\"\"\"\n",
    "        return \"Voiture ayant pour caractéristiques : année : \" + str(self.annee) + \"; couleur : \" + self.couleur +\"; vitesse_max : \" + str(self.vitesse_max) + \"km/h\"\n",
    "\n",
    "    \n",
    "mon_bolide = Voiture(2019,\"blanche\", 230)"
   ]
  },
  {
   "cell_type": "markdown",
   "metadata": {},
   "source": [
    "<div class='alert-info'>\n",
    "    \n",
    "Cette classe est programmée tout à fait correctement.<br>\n",
    "Malheureusement, un utilisateur peut modifier directement les valeurs des attributs d'un objet en entrant des informations eronnées ou mensongères, sans qu'une erreur soit signalée :"
   ]
  },
  {
   "cell_type": "code",
   "execution_count": 2,
   "metadata": {},
   "outputs": [
    {
     "data": {
      "text/plain": [
       "-10"
      ]
     },
     "execution_count": 2,
     "metadata": {},
     "output_type": "execute_result"
    }
   ],
   "source": [
    "mon_bolide.vitesse_max = -10     # Valeur erronée\n",
    "mon_bolide.vitesse_max "
   ]
  },
  {
   "cell_type": "code",
   "execution_count": 3,
   "metadata": {},
   "outputs": [
    {
     "data": {
      "text/plain": [
       "390"
      ]
     },
     "execution_count": 3,
     "metadata": {},
     "output_type": "execute_result"
    }
   ],
   "source": [
    "mon_bolide.vitesse_max = 390     # Valeur mensongère\n",
    "mon_bolide.vitesse_max"
   ]
  },
  {
   "cell_type": "markdown",
   "metadata": {},
   "source": [
    "## III.2 Les attributs privés\n",
    "<br>\n",
    "<div class='alert-info'>\n",
    "    \n",
    "**N.B. :** Il existe un moyen simple de se protéger de telles erreurs : empêcher l'utilisateur d'avoir accès aux attributs.<br>\n",
    "Pour y parvenir, il faut un moyen de rendre les attributs **privés.**<br>\n",
    "En Python, un attribut privé possède un nom qui commence ``__`` (double underscore)\n",
    "</div>\n",
    "<br>\n",
    "<br>\n",
    "<div class='alert-warning'>\n",
    "    \n",
    "Ainsi, on va rendre privé les attributs ``année`` et  ``vitesse_max``  en écrivant :\n"
   ]
  },
  {
   "cell_type": "code",
   "execution_count": 72,
   "metadata": {},
   "outputs": [],
   "source": [
    "class Voiture :\n",
    "    \"\"\"Classe représentant un objet voiture\"\"\"\n",
    "    def __init__(self, annee, coul, vmax) :\n",
    "        \"\"\"Constructeur de notre classe\"\"\"\n",
    "        self.__annee = annee\n",
    "        self.couleur = coul\n",
    "        self.__vitesse_max = vmax"
   ]
  },
  {
   "cell_type": "markdown",
   "metadata": {},
   "source": [
    "<div class='alert-warning'>\n",
    "    \n",
    "Ainsi les  attributs ``année`` et  ``vitesse_max`` ne sont plus accessibles tandis que l'attribut ``couleur`` est toujours accessible et modifiable (On dit alors que l'attribut ``couleur`` est public) :\n"
   ]
  },
  {
   "cell_type": "code",
   "execution_count": 73,
   "metadata": {},
   "outputs": [],
   "source": [
    "mon_bolide = Voiture(2019,\"blanche\", 230)"
   ]
  },
  {
   "cell_type": "code",
   "execution_count": 74,
   "metadata": {},
   "outputs": [
    {
     "ename": "AttributeError",
     "evalue": "'Voiture' object has no attribute 'annee'",
     "output_type": "error",
     "traceback": [
      "\u001b[1;31m---------------------------------------------------------------------------\u001b[0m",
      "\u001b[1;31mAttributeError\u001b[0m                            Traceback (most recent call last)",
      "\u001b[1;32m<ipython-input-74-bf9233e5bf46>\u001b[0m in \u001b[0;36m<module>\u001b[1;34m\u001b[0m\n\u001b[1;32m----> 1\u001b[1;33m \u001b[0mmon_bolide\u001b[0m\u001b[1;33m.\u001b[0m\u001b[0mannee\u001b[0m\u001b[1;33m\u001b[0m\u001b[1;33m\u001b[0m\u001b[0m\n\u001b[0m",
      "\u001b[1;31mAttributeError\u001b[0m: 'Voiture' object has no attribute 'annee'"
     ]
    }
   ],
   "source": [
    "mon_bolide.annee"
   ]
  },
  {
   "cell_type": "code",
   "execution_count": 75,
   "metadata": {},
   "outputs": [
    {
     "ename": "AttributeError",
     "evalue": "'Voiture' object has no attribute 'vitesse_max'",
     "output_type": "error",
     "traceback": [
      "\u001b[1;31m---------------------------------------------------------------------------\u001b[0m",
      "\u001b[1;31mAttributeError\u001b[0m                            Traceback (most recent call last)",
      "\u001b[1;32m<ipython-input-75-a2378106c140>\u001b[0m in \u001b[0;36m<module>\u001b[1;34m\u001b[0m\n\u001b[1;32m----> 1\u001b[1;33m \u001b[0mmon_bolide\u001b[0m\u001b[1;33m.\u001b[0m\u001b[0mvitesse_max\u001b[0m\u001b[1;33m\u001b[0m\u001b[1;33m\u001b[0m\u001b[0m\n\u001b[0m",
      "\u001b[1;31mAttributeError\u001b[0m: 'Voiture' object has no attribute 'vitesse_max'"
     ]
    }
   ],
   "source": [
    "mon_bolide.vitesse_max"
   ]
  },
  {
   "cell_type": "code",
   "execution_count": 76,
   "metadata": {},
   "outputs": [
    {
     "data": {
      "text/plain": [
       "'blanche'"
      ]
     },
     "execution_count": 76,
     "metadata": {},
     "output_type": "execute_result"
    }
   ],
   "source": [
    "mon_bolide.couleur"
   ]
  },
  {
   "cell_type": "code",
   "execution_count": 77,
   "metadata": {},
   "outputs": [
    {
     "data": {
      "text/plain": [
       "'bleue'"
      ]
     },
     "execution_count": 77,
     "metadata": {},
     "output_type": "execute_result"
    }
   ],
   "source": [
    "mon_bolide.couleur = \"bleue\"\n",
    "mon_bolide.couleur"
   ]
  },
  {
   "cell_type": "markdown",
   "metadata": {},
   "source": [
    "# III.3 Les getters et les setters (accesseurs et mutateurs)"
   ]
  },
  {
   "cell_type": "markdown",
   "metadata": {},
   "source": [
    "<div class='alert-info'>\n",
    "    \n",
    "**N.B. :** Si l'on doit permettre à l'utilisateur de **consulter** la valeur d'un attribut, il faut alors ajouter une méthode.<br>\n",
    "Nous appellerons ces méthodes des **getters** (ou **accesseurs** en français).<br>\n",
    "Par convention, ils commencent par ``get``."
   ]
  },
  {
   "cell_type": "code",
   "execution_count": 78,
   "metadata": {},
   "outputs": [],
   "source": [
    "class Voiture :\n",
    "    \"\"\"Classe représentant un objet voiture\"\"\"\n",
    "    def __init__(self, annee, coul, vmax) :\n",
    "        \"\"\"Constructeur de notre classe\"\"\"\n",
    "        self.__annee = annee\n",
    "        self.couleur = coul\n",
    "        self.__vitesse_max = vmax\n",
    "        \n",
    "    def getAnnee(self) :\n",
    "        return self.__annee\n",
    "    \n",
    "    def getVitesse_max(self) :\n",
    "            return self.__vitesse_max\n",
    "        \n",
    "\n",
    "mon_bolide = Voiture(2019,\"blanche\", 230)"
   ]
  },
  {
   "cell_type": "code",
   "execution_count": 79,
   "metadata": {},
   "outputs": [
    {
     "data": {
      "text/plain": [
       "2019"
      ]
     },
     "execution_count": 79,
     "metadata": {},
     "output_type": "execute_result"
    }
   ],
   "source": [
    "mon_bolide.getAnnee()"
   ]
  },
  {
   "cell_type": "code",
   "execution_count": 80,
   "metadata": {},
   "outputs": [
    {
     "data": {
      "text/plain": [
       "230"
      ]
     },
     "execution_count": 80,
     "metadata": {},
     "output_type": "execute_result"
    }
   ],
   "source": [
    "mon_bolide.getVitesse_max()"
   ]
  },
  {
   "cell_type": "markdown",
   "metadata": {},
   "source": [
    "<div class='alert-warning'>\n",
    "    \n",
    "**N.B. :** Si l'on doit permettre à l'utilisateur de **modifier** la valeur d'un attribut, il faut alors ajouter une méthode.<br>\n",
    "Nous appellerons ces méthodes des **setters** (ou **mutateurs** en français).<br>\n",
    "Par convention, ils commencent par ``set``.\n",
    "    </div>\n",
    "<br>\n",
    "<br>\n",
    "<div class='alert-success'>\n",
    "\n",
    "**Remarque :** Les setters sont dangereux pour la protection des données,  il faut donc ne les ajouter que lorsque c'est absolument nécessaire et toujours contrôler les nouvelles valeurs si elles sont correctes.\n",
    "</div>\n",
    "<br>\n",
    "<br>\n",
    "<div class='alert-warning'>\n",
    "\n",
    "Nous montrons ci-après comment définir le setter de ``vitesse_max``:"
   ]
  },
  {
   "cell_type": "code",
   "execution_count": 81,
   "metadata": {},
   "outputs": [],
   "source": [
    "class Voiture :\n",
    "    \"\"\"Classe représentant un objet voiture\"\"\"\n",
    "    def __init__(self, annee, coul, vmax) :\n",
    "        \"\"\"Constructeur de notre classe\"\"\"\n",
    "        self.__annee = annee\n",
    "        self.couleur = coul\n",
    "        self.__vitesse_max = vmax\n",
    "        \n",
    "    def getAnnee(self) :\n",
    "        return self.__annee\n",
    "    \n",
    "    def getVitesse_max(self) :\n",
    "            return self.__vitesse_max\n",
    "    \n",
    "    def setVitesse_max(self,newV_max) :        \n",
    "        if newV_max > 160 and newV_max < 250 :  # On considère que les voitures de cette classe ont une \n",
    "        # vitesse maximale comprise entre 160 et 250 km/h\n",
    "            self.__vitesse_max = newV_max        \n",
    "        \n",
    "\n",
    "mon_bolide = Voiture(2019,\"blanche\", 230)"
   ]
  },
  {
   "cell_type": "code",
   "execution_count": 82,
   "metadata": {},
   "outputs": [
    {
     "data": {
      "text/plain": [
       "240"
      ]
     },
     "execution_count": 82,
     "metadata": {},
     "output_type": "execute_result"
    }
   ],
   "source": [
    "mon_bolide.setVitesse_max(240)    # On modifie la vitesse maximale de l'objet mon_bolide\n",
    "mon_bolide.getVitesse_max()       # On consulte la nouvelle vitesse maximale de l'objet mon_bolide"
   ]
  },
  {
   "cell_type": "code",
   "execution_count": 37,
   "metadata": {},
   "outputs": [
    {
     "data": {
      "text/plain": [
       "240"
      ]
     },
     "execution_count": 37,
     "metadata": {},
     "output_type": "execute_result"
    }
   ],
   "source": [
    "mon_bolide.setVitesse_max(280)\n",
    "mon_bolide.getVitesse_max()"
   ]
  },
  {
   "cell_type": "markdown",
   "metadata": {},
   "source": [
    "<div class='alert-warning'>\n",
    "    \n",
    "Comme on peut le constater dans ce dernier cas, la vitesse maximale 280 km/h n'a pas été prise en compte puisque la vitesse maximale ne peut pas excéder 250 km/h pour cette classe de voitures."
   ]
  },
  {
   "cell_type": "code",
   "execution_count": null,
   "metadata": {},
   "outputs": [],
   "source": []
  }
 ],
 "metadata": {
  "kernelspec": {
   "display_name": "Python 3",
   "language": "python",
   "name": "python3"
  },
  "language_info": {
   "codemirror_mode": {
    "name": "ipython",
    "version": 3
   },
   "file_extension": ".py",
   "mimetype": "text/x-python",
   "name": "python",
   "nbconvert_exporter": "python",
   "pygments_lexer": "ipython3",
   "version": "3.8.3"
  }
 },
 "nbformat": 4,
 "nbformat_minor": 4
}
