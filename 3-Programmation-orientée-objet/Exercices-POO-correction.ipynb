{
 "cells": [
  {
   "cell_type": "markdown",
   "metadata": {},
   "source": [
    "# <div align='center'> Exercices : Programmation orientée objet\n",
    " </div>\n",
    " \n",
    "<br>\n",
    "\n",
    "<div class='alert-info'>\n",
    "    \n",
    "## Exercice 1\n",
    "    \n",
    "On considère une classe Personnage représentant un personnage de jeu.<br>\n",
    "Le plateau du jeu est représenté par un repère orthonormé à trois axes.<br>\n",
    "La position du joueur dans le plateau est repérée par ses attributs ``x``, ``y`` et ``z`` représentant les coordonnées (abscisse, ordonnée, cote) du point modélisant la position du joueur.<br>\n",
    "Cette classe possède les méthodes ``avance``, ``droite``  et ``saute`` permettant respectivement de faire avancer, aller à droite et sauter le personnage, c'est-à-dire d'augmenter de 1 respectivement ``x``, ``y`` et ``z``.<br>\n",
    "Elle contient également la méthode ``coord`` renvoyant les coordonnées d'un objet sous forme d'un triplet.\n",
    "</div>\n",
    " \n",
    "<br>\n",
    "<div class='alert-warning'>\n",
    "    \n",
    "1. Implémenter la classe Personnage décrite ci-dessus. "
   ]
  },
  {
   "cell_type": "code",
   "execution_count": 23,
   "metadata": {},
   "outputs": [],
   "source": [
    "# YOUR CODE HERE\n",
    "\n",
    "class Personnage :\n",
    "    def __init__(self, x, y, z) :\n",
    "        self.x = x\n",
    "        self.y = y\n",
    "        self.z = z\n",
    "        \n",
    "    def avance(self) :\n",
    "        self.x += 1\n",
    "        \n",
    "    def droite(self) :\n",
    "        self.y += 1\n",
    "    \n",
    "    def saute(self) :\n",
    "        self.z += 1\n",
    "        \n",
    "    def coord(self) :\n",
    "        return self.x, self.y , self.z\n",
    "        \n"
   ]
  },
  {
   "cell_type": "markdown",
   "metadata": {},
   "source": [
    "<div class='alert-warning'>\n",
    "    \n",
    "2. Créer le personnage Lara qui se trouve initialement à l'origine du repère."
   ]
  },
  {
   "cell_type": "code",
   "execution_count": 24,
   "metadata": {},
   "outputs": [],
   "source": [
    "Lara = Personnage(0,0,0)"
   ]
  },
  {
   "cell_type": "markdown",
   "metadata": {},
   "source": [
    "<div class='alert-warning'>\n",
    "    \n",
    "3. Déterminer une suite d'instructions permettant de faire déplacer Lara à la position (2,1,1) que l'on affichera."
   ]
  },
  {
   "cell_type": "code",
   "execution_count": 25,
   "metadata": {},
   "outputs": [
    {
     "data": {
      "text/plain": [
       "(2, 1, 1)"
      ]
     },
     "execution_count": 25,
     "metadata": {},
     "output_type": "execute_result"
    }
   ],
   "source": [
    "# YOUR CODE HERE\n",
    "\n",
    "Lara.avance()\n",
    "Lara.avance()\n",
    "Lara.droite()\n",
    "Lara.saute()\n",
    "Lara.coord()"
   ]
  },
  {
   "cell_type": "markdown",
   "metadata": {},
   "source": [
    "<div class='alert-info'>\n",
    "    \n",
    "## Exercice 2\n",
    "    \n",
    "Une personne est caractérisée par son nom, son prénom, son âge et son adresse. Les attributs doivent être privé.<br>\n",
    "L'affichage d'une personne avec ``print()`` doit afficher toutes les informations de la personne.<br>\n",
    "Les accesseurs (getters) des attributs devront être définis.<br>\n",
    "Cette classe devra aussi contenir la méthode ``anniversaire()`` permettant de vieillir la personne d'un an et la méthode ``demenage()`` permettant de la faire changer d'adresse. \n",
    "</div>\n",
    " \n",
    "<br>\n",
    "<div class='alert-warning'>\n",
    "    \n",
    "1. Implémenter la classe Personne décrite ci-dessus. "
   ]
  },
  {
   "cell_type": "code",
   "execution_count": 2,
   "metadata": {},
   "outputs": [],
   "source": [
    "# YOUR CODE HERE\n",
    "\n",
    "class Personne :\n",
    "    def __init__ (self, nom, prenom, age,ad) : \n",
    "        self.__nom = nom\n",
    "        self.__prenom = prenom\n",
    "        self.__age = age\n",
    "        self.__adresse = ad\n",
    "        \n",
    "    def getNom(self) :\n",
    "        return self.__nom\n",
    "    \n",
    "    def getPrenom(self) :\n",
    "        return self.__prenom\n",
    "    \n",
    "    def getAge(self) :\n",
    "        return self.__age\n",
    "    \n",
    "    def getAdresse(self) :\n",
    "        return self.__adresse\n",
    "    \n",
    "    def anniversaire(self) :\n",
    "        self.__age += 1\n",
    "        \n",
    "    def demenage(self, new_ad) :\n",
    "        self.__adresse = new_ad\n",
    "    \n",
    "    def __str__(self) :\n",
    "        return \"nom : \" + self.__nom + \",  prénom : \" + self.__prenom + \", age : \" + str(self.__age)+ \\\n",
    "    \" ans\" + \", adresse :\" + self.__adresse\n",
    "    \n",
    "\n",
    "    "
   ]
  },
  {
   "cell_type": "markdown",
   "metadata": {},
   "source": [
    "<div class='alert-warning'>\n",
    "    \n",
    "2. Créer deux personnes dont toutes les caractéristiques sont différentes."
   ]
  },
  {
   "cell_type": "code",
   "execution_count": 7,
   "metadata": {},
   "outputs": [],
   "source": [
    "# YOUR CODE HERE\n",
    "vincent = Personne (\"Durand\", \"Vincent\", 30,  \"12 avenue Robespierre 83000 Toulon\")\n",
    "emma = Personne (\"Dupond\", \"Emma\", 28, \"1 rue Emile Zola 83500 La Seyne-sur-Mer\")"
   ]
  },
  {
   "cell_type": "markdown",
   "metadata": {},
   "source": [
    "<div class='alert-warning'>\n",
    "    \n",
    "3. Afficher la première personne puis le nom de la seconde personne."
   ]
  },
  {
   "cell_type": "code",
   "execution_count": 4,
   "metadata": {},
   "outputs": [
    {
     "name": "stdout",
     "output_type": "stream",
     "text": [
      "nom : Durand,  prénom : Vincent, age : 30 ans, adresse :12 avenue Robespierre 83000 Toulon\n"
     ]
    },
    {
     "data": {
      "text/plain": [
       "'Dupond'"
      ]
     },
     "execution_count": 4,
     "metadata": {},
     "output_type": "execute_result"
    }
   ],
   "source": [
    "# YOUR CODE HERE\n",
    "print(vincent)\n",
    "emma.getNom()"
   ]
  },
  {
   "cell_type": "markdown",
   "metadata": {},
   "source": [
    "<div class='alert-warning'>\n",
    "    \n",
    "4. Faire déménager la deuxième personne chez la première personne puis afficher sa nouvelle adresse"
   ]
  },
  {
   "cell_type": "code",
   "execution_count": 5,
   "metadata": {},
   "outputs": [
    {
     "data": {
      "text/plain": [
       "'12 avenue Robespierre 83000 Toulon'"
      ]
     },
     "execution_count": 5,
     "metadata": {},
     "output_type": "execute_result"
    }
   ],
   "source": [
    "# YOUR CODE HERE\n",
    "emma.demenage(vincent.getAdresse())\n",
    "emma.getAdresse()"
   ]
  },
  {
   "cell_type": "markdown",
   "metadata": {},
   "source": [
    "<div class='alert-info'>\n",
    "    \n",
    "## Exercice 3\n",
    "    \n",
    "Un spectacle a un nom, une capacité (son nombre de sièges), un nombre de places disponibles et un prix unique de billet.<br>\n",
    "Le nom, la capacité et le prix des places doivent être fixés à la création des objets.<br>\n",
    "En revanche, au départ, le nombre de place disponibles est toujours égal à la capacité\n",
    "</div>\n",
    " \n",
    "<br>\n",
    "<div class='alert-warning'>\n",
    "    \n",
    "1. Implémenter le constructeur de cette classe spectacle"
   ]
  },
  {
   "cell_type": "code",
   "execution_count": 34,
   "metadata": {},
   "outputs": [],
   "source": [
    "# YOUR CODE HERE\n",
    "class Spectacle :\n",
    "    def __init__(self, nom, capacite, prix) :\n",
    "        self.nom = nom\n",
    "        self.capacite = capacite\n",
    "        self.nb_pl_dispo = capacite\n",
    "        self.prix = prix"
   ]
  },
  {
   "cell_type": "markdown",
   "metadata": {},
   "source": [
    "<div class='alert-warning'>\n",
    "    \n",
    "2. Définir une méthode ``louer(n)`` qui diminue le nombre de places de ``n``, s'il reste encore assez de places disponibles et renvoie le prix total à payer pour l'achat de ces ``n`` places. Renvoie 0 sinon."
   ]
  },
  {
   "cell_type": "code",
   "execution_count": 35,
   "metadata": {},
   "outputs": [],
   "source": [
    "def louer(self, n) :\n",
    "    if self.nb_pl_dispo >= n :\n",
    "        self.nb_pl_dispo -= n\n",
    "        return n * self.prix\n",
    "    else :\n",
    "        return 0"
   ]
  },
  {
   "cell_type": "markdown",
   "metadata": {},
   "source": [
    "<div class='alert-warning'>\n",
    "    \n",
    "3. Définir une méthode ``placesVendues()`` qui renvoie le nombre de places vendues."
   ]
  },
  {
   "cell_type": "code",
   "execution_count": 36,
   "metadata": {},
   "outputs": [],
   "source": [
    "def placesVendues(self) :\n",
    "    return self.capacite - self.nb_pl_dispo"
   ]
  },
  {
   "cell_type": "markdown",
   "metadata": {},
   "source": [
    "<div class='alert-warning'>\n",
    "    \n",
    "4. Une place vendue rapporte 55% de son prix aux organisateurs du spectacle.<br>\n",
    "Définir une méthode ``benefice()`` qui calcule le bénéfice fait par les organisateurs."
   ]
  },
  {
   "cell_type": "code",
   "execution_count": 37,
   "metadata": {},
   "outputs": [],
   "source": [
    "def benefice(self) :\n",
    "    return self.placesVendues()*self.prix*0.55\n",
    "    "
   ]
  },
  {
   "cell_type": "markdown",
   "metadata": {},
   "source": [
    "<div class='alert-warning'>\n",
    "    \n",
    "5. Dans une salle de 1000 places, le spectacle nommé \"Magic\" (faisant parti de la classe Spectacle) a fait 895 entrées.<br>\n",
    "Une entrée est fixée à 20 euros.\n",
    "    \n",
    "En utilisant la classe spectacle, déterminer le bénéfice réalisé pour le spectacle \"Magic\""
   ]
  },
  {
   "cell_type": "code",
   "execution_count": 45,
   "metadata": {},
   "outputs": [
    {
     "data": {
      "text/plain": [
       "9845.0"
      ]
     },
     "execution_count": 45,
     "metadata": {},
     "output_type": "execute_result"
    }
   ],
   "source": [
    "# YOUR CODE HERE\n",
    "class Spectacle :\n",
    "    def __init__(self, nom, capacite, prix) :\n",
    "        self.nom = nom\n",
    "        self.capacite = capacite\n",
    "        self.nb_pl_dispo = capacite\n",
    "        self.prix = prix\n",
    "        \n",
    "    def louer(self, n) :\n",
    "        if self.nb_pl_dispo >= n :\n",
    "            self.nb_pl_dispo -= n\n",
    "            return n * self.prix\n",
    "        else :\n",
    "            return 0\n",
    "    \n",
    "    def placesVendues(self) :\n",
    "        return self.capacite - self.nb_pl_dispo\n",
    "    \n",
    "    def benefice(self) :\n",
    "        return self.placesVendues()*self.prix*0.55\n",
    "    \n",
    "\n",
    "magic = Spectacle(\"Magic\", 1000, 20)\n",
    "magic.louer(895)\n",
    "magic.benefice()"
   ]
  }
 ],
 "metadata": {
  "kernelspec": {
   "display_name": "Python 3",
   "language": "python",
   "name": "python3"
  },
  "language_info": {
   "codemirror_mode": {
    "name": "ipython",
    "version": 3
   },
   "file_extension": ".py",
   "mimetype": "text/x-python",
   "name": "python",
   "nbconvert_exporter": "python",
   "pygments_lexer": "ipython3",
   "version": "3.8.3"
  }
 },
 "nbformat": 4,
 "nbformat_minor": 4
}
