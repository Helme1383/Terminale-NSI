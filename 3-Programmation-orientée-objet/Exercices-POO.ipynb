{
 "cells": [
  {
   "cell_type": "markdown",
   "metadata": {},
   "source": [
    "# <div align='center'> Exercices : Programmation orientée objet\n",
    " </div>\n",
    " \n",
    "<br>\n",
    "\n",
    "<div class='alert-info'>\n",
    "    \n",
    "## Exercice 1\n",
    "    \n",
    "On considère une classe Personnage représentant un personnage de jeu.<br>\n",
    "Le plateau du jeu est représenté par un repère orthonormé à trois axes.<br>\n",
    "La position du joueur dans le plateau est repérée par ses attributs ``x``, ``y`` et ``z`` représentant les coordonnées (abscisse, ordonnée, cote) du point modélisant la position du joueur.<br>\n",
    "Cette classe possède les méthodes ``avance``, ``droite``  et ``saute`` permettant respectivement de faire avancer, aller à droite et sauter le personnage, c'est-à-dire d'augmenter de 1 respectivement ``x``, ``y`` et ``z``.<br>\n",
    "Elle contient également la méthode ``coord`` renvoyant les coordonnées d'un objet sous forme d'un triplet.\n",
    "</div>\n",
    " \n",
    "<br>\n",
    "<div class='alert-warning'>\n",
    "    \n",
    "1. Implémenter la classe Personnage décrite ci-dessus. "
   ]
  },
  {
   "cell_type": "code",
   "execution_count": null,
   "metadata": {},
   "outputs": [],
   "source": [
    "# YOUR CODE HERE\n",
    "\n"
   ]
  },
  {
   "cell_type": "markdown",
   "metadata": {},
   "source": [
    "<div class='alert-warning'>\n",
    "    \n",
    "2. Créer le personnage Lara qui se trouve initialement à l'origine du repère."
   ]
  },
  {
   "cell_type": "code",
   "execution_count": null,
   "metadata": {},
   "outputs": [],
   "source": []
  },
  {
   "cell_type": "markdown",
   "metadata": {},
   "source": [
    "<div class='alert-warning'>\n",
    "    \n",
    "3. Déterminer une suite d'instructions permettant de faire déplacer Lara à la position (2,1,1) que l'on affichera."
   ]
  },
  {
   "cell_type": "code",
   "execution_count": null,
   "metadata": {},
   "outputs": [],
   "source": [
    "# YOUR CODE HERE\n",
    "\n"
   ]
  },
  {
   "cell_type": "markdown",
   "metadata": {},
   "source": [
    "<div class='alert-info'>\n",
    "    \n",
    "## Exercice 2\n",
    "    \n",
    "Une personne est caractérisée par son nom, son prénom, son âge et son adresse. Les attributs doivent être privé.<br>\n",
    "L'affichage d'une personne avec ``print()`` doit afficher toutes les informations de la personne.<br>\n",
    "Les accesseurs (getters) des attributs devront être définis.<br>\n",
    "Cette classe devra aussi contenir la méthode ``anniversaire()`` permettant de vieillir la personne d'un an et la méthode ``demenage()`` permettant de la faire changer d'adresse. \n",
    "</div>\n",
    " \n",
    "<br>\n",
    "<div class='alert-warning'>\n",
    "    \n",
    "1. Implémenter la classe Personne décrite ci-dessus. "
   ]
  },
  {
   "cell_type": "code",
   "execution_count": null,
   "metadata": {},
   "outputs": [],
   "source": [
    "# YOUR CODE HERE\n",
    "\n",
    "\n",
    "\n",
    "    "
   ]
  },
  {
   "cell_type": "markdown",
   "metadata": {},
   "source": [
    "<div class='alert-warning'>\n",
    "    \n",
    "2. Créer deux personnes dont toutes les caractéristiques sont différentes."
   ]
  },
  {
   "cell_type": "code",
   "execution_count": null,
   "metadata": {},
   "outputs": [],
   "source": [
    "# YOUR CODE HERE\n"
   ]
  },
  {
   "cell_type": "markdown",
   "metadata": {},
   "source": [
    "<div class='alert-warning'>\n",
    "    \n",
    "3. Afficher la première personne puis le nom de la seconde personne."
   ]
  },
  {
   "cell_type": "code",
   "execution_count": null,
   "metadata": {},
   "outputs": [],
   "source": [
    "# YOUR CODE HERE\n"
   ]
  },
  {
   "cell_type": "markdown",
   "metadata": {},
   "source": [
    "<div class='alert-warning'>\n",
    "    \n",
    "4. Faire déménager la deuxième personne chez la première personne puis afficher sa nouvelle adresse"
   ]
  },
  {
   "cell_type": "code",
   "execution_count": null,
   "metadata": {},
   "outputs": [],
   "source": [
    "# YOUR CODE HERE\n"
   ]
  },
  {
   "cell_type": "markdown",
   "metadata": {},
   "source": [
    "<div class='alert-info'>\n",
    "    \n",
    "## Exercice 3\n",
    "    \n",
    "Un spectacle a un nom, une capacité (son nombre de sièges), un nombre de places disponibles et un prix unique de billet.<br>\n",
    "Le nom, la capacité et le prix des places doivent être fixés à la création des objets.<br>\n",
    "En revanche, au départ, le nombre de place disponibles est toujours égal à la capacité\n",
    "</div>\n",
    " \n",
    "<br>\n",
    "<div class='alert-warning'>\n",
    "    \n",
    "1. Implémenter le constructeur de cette classe spectacle"
   ]
  },
  {
   "cell_type": "code",
   "execution_count": null,
   "metadata": {},
   "outputs": [],
   "source": [
    "# YOUR CODE HERE\n"
   ]
  },
  {
   "cell_type": "markdown",
   "metadata": {},
   "source": [
    "<div class='alert-warning'>\n",
    "    \n",
    "2. Définir une méthode ``louer(n)`` qui diminue le nombre de places de ``n``, s'il reste encore assez de places disponibles et renvoie le prix total à payer pour l'achat de ces ``n`` places. Renvoie 0 sinon."
   ]
  },
  {
   "cell_type": "code",
   "execution_count": null,
   "metadata": {},
   "outputs": [],
   "source": [
    "# YOUR CODE HERE"
   ]
  },
  {
   "cell_type": "markdown",
   "metadata": {},
   "source": [
    "<div class='alert-warning'>\n",
    "    \n",
    "3. Définir une méthode ``placesVendues()`` qui renvoie le nombre de places vendues."
   ]
  },
  {
   "cell_type": "code",
   "execution_count": null,
   "metadata": {},
   "outputs": [],
   "source": [
    "# YOUR CODE HERE"
   ]
  },
  {
   "cell_type": "markdown",
   "metadata": {},
   "source": [
    "<div class='alert-warning'>\n",
    "    \n",
    "4. Une place vendue rapporte 55% de son prix aux organisateurs du spectacle.<br>\n",
    "Définir une méthode ``benefice()`` qui calcule le bénéfice fait par les organisateurs."
   ]
  },
  {
   "cell_type": "code",
   "execution_count": null,
   "metadata": {},
   "outputs": [],
   "source": [
    "# YOUR CODE HERE"
   ]
  },
  {
   "cell_type": "markdown",
   "metadata": {},
   "source": [
    "<div class='alert-warning'>\n",
    "    \n",
    "5. Dans une salle de 1000 places, le spectacle nommé \"Magic\" (faisant parti de la classe Spectacle) a fait 895 entrées.<br>\n",
    "Une entrée est fixée à 20 euros.\n",
    "    \n",
    "En utilisant la classe spectacle, déterminer le bénéfice réalisé pour le spectacle \"Magic\""
   ]
  },
  {
   "cell_type": "code",
   "execution_count": null,
   "metadata": {},
   "outputs": [],
   "source": [
    "# YOUR CODE HERE\n"
   ]
  }
 ],
 "metadata": {
  "kernelspec": {
   "display_name": "Python 3",
   "language": "python",
   "name": "python3"
  },
  "language_info": {
   "codemirror_mode": {
    "name": "ipython",
    "version": 3
   },
   "file_extension": ".py",
   "mimetype": "text/x-python",
   "name": "python",
   "nbconvert_exporter": "python",
   "pygments_lexer": "ipython3",
   "version": "3.8.3"
  }
 },
 "nbformat": 4,
 "nbformat_minor": 4
}
